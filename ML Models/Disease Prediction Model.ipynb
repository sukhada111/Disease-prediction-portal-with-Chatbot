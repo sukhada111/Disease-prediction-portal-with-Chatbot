{
 "cells": [
  {
   "cell_type": "code",
   "execution_count": 109,
   "metadata": {},
   "outputs": [],
   "source": [
    "#importing the necessary libraries\n",
    "\n",
    "import numpy as np \n",
    "import pandas as pd \n",
    "import seaborn as sns\n",
    "import matplotlib.pyplot as plt"
   ]
  },
  {
   "cell_type": "code",
   "execution_count": 110,
   "metadata": {},
   "outputs": [],
   "source": [
    "#reading the dataset\n",
    "\n",
    "df=pd.read_csv('../Dataset/Training.csv')\n",
    "test_df=pd.read_csv('../Dataset/Testing.csv')"
   ]
  },
  {
   "cell_type": "code",
   "execution_count": 111,
   "metadata": {},
   "outputs": [
    {
     "name": "stdout",
     "output_type": "stream",
     "text": [
      "<class 'pandas.core.frame.DataFrame'>\n",
      "RangeIndex: 4962 entries, 0 to 4961\n",
      "Columns: 133 entries, itching to prognosis\n",
      "dtypes: int64(132), object(1)\n",
      "memory usage: 5.0+ MB\n"
     ]
    }
   ],
   "source": [
    "df.info()"
   ]
  },
  {
   "cell_type": "code",
   "execution_count": 112,
   "metadata": {},
   "outputs": [
    {
     "data": {
      "text/html": [
       "<div>\n",
       "<style scoped>\n",
       "    .dataframe tbody tr th:only-of-type {\n",
       "        vertical-align: middle;\n",
       "    }\n",
       "\n",
       "    .dataframe tbody tr th {\n",
       "        vertical-align: top;\n",
       "    }\n",
       "\n",
       "    .dataframe thead th {\n",
       "        text-align: right;\n",
       "    }\n",
       "</style>\n",
       "<table border=\"1\" class=\"dataframe\">\n",
       "  <thead>\n",
       "    <tr style=\"text-align: right;\">\n",
       "      <th></th>\n",
       "      <th>itching</th>\n",
       "      <th>skin_rash</th>\n",
       "      <th>nodal_skin_eruptions</th>\n",
       "      <th>continuous_sneezing</th>\n",
       "      <th>shivering</th>\n",
       "      <th>chills</th>\n",
       "      <th>joint_pain</th>\n",
       "      <th>stomach_pain</th>\n",
       "      <th>acidity</th>\n",
       "      <th>ulcers_on_tongue</th>\n",
       "      <th>...</th>\n",
       "      <th>blackheads</th>\n",
       "      <th>scurring</th>\n",
       "      <th>skin_peeling</th>\n",
       "      <th>silver_like_dusting</th>\n",
       "      <th>small_dents_in_nails</th>\n",
       "      <th>inflammatory_nails</th>\n",
       "      <th>blister</th>\n",
       "      <th>red_sore_around_nose</th>\n",
       "      <th>yellow_crust_ooze</th>\n",
       "      <th>prognosis</th>\n",
       "    </tr>\n",
       "  </thead>\n",
       "  <tbody>\n",
       "    <tr>\n",
       "      <th>0</th>\n",
       "      <td>1</td>\n",
       "      <td>1</td>\n",
       "      <td>1</td>\n",
       "      <td>0</td>\n",
       "      <td>0</td>\n",
       "      <td>0</td>\n",
       "      <td>0</td>\n",
       "      <td>0</td>\n",
       "      <td>0</td>\n",
       "      <td>0</td>\n",
       "      <td>...</td>\n",
       "      <td>0</td>\n",
       "      <td>0</td>\n",
       "      <td>0</td>\n",
       "      <td>0</td>\n",
       "      <td>0</td>\n",
       "      <td>0</td>\n",
       "      <td>0</td>\n",
       "      <td>0</td>\n",
       "      <td>0</td>\n",
       "      <td>Fungal infection</td>\n",
       "    </tr>\n",
       "    <tr>\n",
       "      <th>1</th>\n",
       "      <td>0</td>\n",
       "      <td>1</td>\n",
       "      <td>1</td>\n",
       "      <td>0</td>\n",
       "      <td>0</td>\n",
       "      <td>0</td>\n",
       "      <td>0</td>\n",
       "      <td>0</td>\n",
       "      <td>0</td>\n",
       "      <td>0</td>\n",
       "      <td>...</td>\n",
       "      <td>0</td>\n",
       "      <td>0</td>\n",
       "      <td>0</td>\n",
       "      <td>0</td>\n",
       "      <td>0</td>\n",
       "      <td>0</td>\n",
       "      <td>0</td>\n",
       "      <td>0</td>\n",
       "      <td>0</td>\n",
       "      <td>Fungal infection</td>\n",
       "    </tr>\n",
       "    <tr>\n",
       "      <th>2</th>\n",
       "      <td>1</td>\n",
       "      <td>0</td>\n",
       "      <td>1</td>\n",
       "      <td>0</td>\n",
       "      <td>0</td>\n",
       "      <td>0</td>\n",
       "      <td>0</td>\n",
       "      <td>0</td>\n",
       "      <td>0</td>\n",
       "      <td>0</td>\n",
       "      <td>...</td>\n",
       "      <td>0</td>\n",
       "      <td>0</td>\n",
       "      <td>0</td>\n",
       "      <td>0</td>\n",
       "      <td>0</td>\n",
       "      <td>0</td>\n",
       "      <td>0</td>\n",
       "      <td>0</td>\n",
       "      <td>0</td>\n",
       "      <td>Fungal infection</td>\n",
       "    </tr>\n",
       "    <tr>\n",
       "      <th>3</th>\n",
       "      <td>1</td>\n",
       "      <td>1</td>\n",
       "      <td>0</td>\n",
       "      <td>0</td>\n",
       "      <td>0</td>\n",
       "      <td>0</td>\n",
       "      <td>0</td>\n",
       "      <td>0</td>\n",
       "      <td>0</td>\n",
       "      <td>0</td>\n",
       "      <td>...</td>\n",
       "      <td>0</td>\n",
       "      <td>0</td>\n",
       "      <td>0</td>\n",
       "      <td>0</td>\n",
       "      <td>0</td>\n",
       "      <td>0</td>\n",
       "      <td>0</td>\n",
       "      <td>0</td>\n",
       "      <td>0</td>\n",
       "      <td>Fungal infection</td>\n",
       "    </tr>\n",
       "    <tr>\n",
       "      <th>4</th>\n",
       "      <td>1</td>\n",
       "      <td>1</td>\n",
       "      <td>1</td>\n",
       "      <td>0</td>\n",
       "      <td>0</td>\n",
       "      <td>0</td>\n",
       "      <td>0</td>\n",
       "      <td>0</td>\n",
       "      <td>0</td>\n",
       "      <td>0</td>\n",
       "      <td>...</td>\n",
       "      <td>0</td>\n",
       "      <td>0</td>\n",
       "      <td>0</td>\n",
       "      <td>0</td>\n",
       "      <td>0</td>\n",
       "      <td>0</td>\n",
       "      <td>0</td>\n",
       "      <td>0</td>\n",
       "      <td>0</td>\n",
       "      <td>Fungal infection</td>\n",
       "    </tr>\n",
       "  </tbody>\n",
       "</table>\n",
       "<p>5 rows × 133 columns</p>\n",
       "</div>"
      ],
      "text/plain": [
       "   itching  skin_rash  nodal_skin_eruptions  continuous_sneezing  shivering  \\\n",
       "0        1          1                     1                    0          0   \n",
       "1        0          1                     1                    0          0   \n",
       "2        1          0                     1                    0          0   \n",
       "3        1          1                     0                    0          0   \n",
       "4        1          1                     1                    0          0   \n",
       "\n",
       "   chills  joint_pain  stomach_pain  acidity  ulcers_on_tongue  ...  \\\n",
       "0       0           0             0        0                 0  ...   \n",
       "1       0           0             0        0                 0  ...   \n",
       "2       0           0             0        0                 0  ...   \n",
       "3       0           0             0        0                 0  ...   \n",
       "4       0           0             0        0                 0  ...   \n",
       "\n",
       "   blackheads  scurring  skin_peeling  silver_like_dusting  \\\n",
       "0           0         0             0                    0   \n",
       "1           0         0             0                    0   \n",
       "2           0         0             0                    0   \n",
       "3           0         0             0                    0   \n",
       "4           0         0             0                    0   \n",
       "\n",
       "   small_dents_in_nails  inflammatory_nails  blister  red_sore_around_nose  \\\n",
       "0                     0                   0        0                     0   \n",
       "1                     0                   0        0                     0   \n",
       "2                     0                   0        0                     0   \n",
       "3                     0                   0        0                     0   \n",
       "4                     0                   0        0                     0   \n",
       "\n",
       "   yellow_crust_ooze         prognosis  \n",
       "0                  0  Fungal infection  \n",
       "1                  0  Fungal infection  \n",
       "2                  0  Fungal infection  \n",
       "3                  0  Fungal infection  \n",
       "4                  0  Fungal infection  \n",
       "\n",
       "[5 rows x 133 columns]"
      ]
     },
     "execution_count": 112,
     "metadata": {},
     "output_type": "execute_result"
    }
   ],
   "source": [
    "df.head()"
   ]
  },
  {
   "cell_type": "code",
   "execution_count": 113,
   "metadata": {},
   "outputs": [
    {
     "data": {
      "text/html": [
       "<div>\n",
       "<style scoped>\n",
       "    .dataframe tbody tr th:only-of-type {\n",
       "        vertical-align: middle;\n",
       "    }\n",
       "\n",
       "    .dataframe tbody tr th {\n",
       "        vertical-align: top;\n",
       "    }\n",
       "\n",
       "    .dataframe thead th {\n",
       "        text-align: right;\n",
       "    }\n",
       "</style>\n",
       "<table border=\"1\" class=\"dataframe\">\n",
       "  <thead>\n",
       "    <tr style=\"text-align: right;\">\n",
       "      <th></th>\n",
       "      <th>itching</th>\n",
       "      <th>skin_rash</th>\n",
       "      <th>nodal_skin_eruptions</th>\n",
       "      <th>continuous_sneezing</th>\n",
       "      <th>shivering</th>\n",
       "      <th>chills</th>\n",
       "      <th>joint_pain</th>\n",
       "      <th>stomach_pain</th>\n",
       "      <th>acidity</th>\n",
       "      <th>ulcers_on_tongue</th>\n",
       "      <th>...</th>\n",
       "      <th>pus_filled_pimples</th>\n",
       "      <th>blackheads</th>\n",
       "      <th>scurring</th>\n",
       "      <th>skin_peeling</th>\n",
       "      <th>silver_like_dusting</th>\n",
       "      <th>small_dents_in_nails</th>\n",
       "      <th>inflammatory_nails</th>\n",
       "      <th>blister</th>\n",
       "      <th>red_sore_around_nose</th>\n",
       "      <th>yellow_crust_ooze</th>\n",
       "    </tr>\n",
       "  </thead>\n",
       "  <tbody>\n",
       "    <tr>\n",
       "      <th>count</th>\n",
       "      <td>4962.000000</td>\n",
       "      <td>4962.000000</td>\n",
       "      <td>4962.000000</td>\n",
       "      <td>4962.000000</td>\n",
       "      <td>4962.000000</td>\n",
       "      <td>4962.000000</td>\n",
       "      <td>4962.000000</td>\n",
       "      <td>4962.000000</td>\n",
       "      <td>4962.000000</td>\n",
       "      <td>4962.000000</td>\n",
       "      <td>...</td>\n",
       "      <td>4962.000000</td>\n",
       "      <td>4962.000000</td>\n",
       "      <td>4962.000000</td>\n",
       "      <td>4962.000000</td>\n",
       "      <td>4962.000000</td>\n",
       "      <td>4962.000000</td>\n",
       "      <td>4962.000000</td>\n",
       "      <td>4962.000000</td>\n",
       "      <td>4962.000000</td>\n",
       "      <td>4962.000000</td>\n",
       "    </tr>\n",
       "    <tr>\n",
       "      <th>mean</th>\n",
       "      <td>0.138049</td>\n",
       "      <td>0.160016</td>\n",
       "      <td>0.021967</td>\n",
       "      <td>0.045143</td>\n",
       "      <td>0.021967</td>\n",
       "      <td>0.162233</td>\n",
       "      <td>0.139057</td>\n",
       "      <td>0.045143</td>\n",
       "      <td>0.045143</td>\n",
       "      <td>0.021967</td>\n",
       "      <td>...</td>\n",
       "      <td>0.021967</td>\n",
       "      <td>0.021967</td>\n",
       "      <td>0.021967</td>\n",
       "      <td>0.023378</td>\n",
       "      <td>0.023176</td>\n",
       "      <td>0.023176</td>\n",
       "      <td>0.023176</td>\n",
       "      <td>0.023176</td>\n",
       "      <td>0.023378</td>\n",
       "      <td>0.023176</td>\n",
       "    </tr>\n",
       "    <tr>\n",
       "      <th>std</th>\n",
       "      <td>0.344986</td>\n",
       "      <td>0.366658</td>\n",
       "      <td>0.146590</td>\n",
       "      <td>0.207639</td>\n",
       "      <td>0.146590</td>\n",
       "      <td>0.368702</td>\n",
       "      <td>0.346041</td>\n",
       "      <td>0.207639</td>\n",
       "      <td>0.207639</td>\n",
       "      <td>0.146590</td>\n",
       "      <td>...</td>\n",
       "      <td>0.146590</td>\n",
       "      <td>0.146590</td>\n",
       "      <td>0.146590</td>\n",
       "      <td>0.151115</td>\n",
       "      <td>0.150478</td>\n",
       "      <td>0.150478</td>\n",
       "      <td>0.150478</td>\n",
       "      <td>0.150478</td>\n",
       "      <td>0.151115</td>\n",
       "      <td>0.150478</td>\n",
       "    </tr>\n",
       "    <tr>\n",
       "      <th>min</th>\n",
       "      <td>0.000000</td>\n",
       "      <td>0.000000</td>\n",
       "      <td>0.000000</td>\n",
       "      <td>0.000000</td>\n",
       "      <td>0.000000</td>\n",
       "      <td>0.000000</td>\n",
       "      <td>0.000000</td>\n",
       "      <td>0.000000</td>\n",
       "      <td>0.000000</td>\n",
       "      <td>0.000000</td>\n",
       "      <td>...</td>\n",
       "      <td>0.000000</td>\n",
       "      <td>0.000000</td>\n",
       "      <td>0.000000</td>\n",
       "      <td>0.000000</td>\n",
       "      <td>0.000000</td>\n",
       "      <td>0.000000</td>\n",
       "      <td>0.000000</td>\n",
       "      <td>0.000000</td>\n",
       "      <td>0.000000</td>\n",
       "      <td>0.000000</td>\n",
       "    </tr>\n",
       "    <tr>\n",
       "      <th>25%</th>\n",
       "      <td>0.000000</td>\n",
       "      <td>0.000000</td>\n",
       "      <td>0.000000</td>\n",
       "      <td>0.000000</td>\n",
       "      <td>0.000000</td>\n",
       "      <td>0.000000</td>\n",
       "      <td>0.000000</td>\n",
       "      <td>0.000000</td>\n",
       "      <td>0.000000</td>\n",
       "      <td>0.000000</td>\n",
       "      <td>...</td>\n",
       "      <td>0.000000</td>\n",
       "      <td>0.000000</td>\n",
       "      <td>0.000000</td>\n",
       "      <td>0.000000</td>\n",
       "      <td>0.000000</td>\n",
       "      <td>0.000000</td>\n",
       "      <td>0.000000</td>\n",
       "      <td>0.000000</td>\n",
       "      <td>0.000000</td>\n",
       "      <td>0.000000</td>\n",
       "    </tr>\n",
       "    <tr>\n",
       "      <th>50%</th>\n",
       "      <td>0.000000</td>\n",
       "      <td>0.000000</td>\n",
       "      <td>0.000000</td>\n",
       "      <td>0.000000</td>\n",
       "      <td>0.000000</td>\n",
       "      <td>0.000000</td>\n",
       "      <td>0.000000</td>\n",
       "      <td>0.000000</td>\n",
       "      <td>0.000000</td>\n",
       "      <td>0.000000</td>\n",
       "      <td>...</td>\n",
       "      <td>0.000000</td>\n",
       "      <td>0.000000</td>\n",
       "      <td>0.000000</td>\n",
       "      <td>0.000000</td>\n",
       "      <td>0.000000</td>\n",
       "      <td>0.000000</td>\n",
       "      <td>0.000000</td>\n",
       "      <td>0.000000</td>\n",
       "      <td>0.000000</td>\n",
       "      <td>0.000000</td>\n",
       "    </tr>\n",
       "    <tr>\n",
       "      <th>75%</th>\n",
       "      <td>0.000000</td>\n",
       "      <td>0.000000</td>\n",
       "      <td>0.000000</td>\n",
       "      <td>0.000000</td>\n",
       "      <td>0.000000</td>\n",
       "      <td>0.000000</td>\n",
       "      <td>0.000000</td>\n",
       "      <td>0.000000</td>\n",
       "      <td>0.000000</td>\n",
       "      <td>0.000000</td>\n",
       "      <td>...</td>\n",
       "      <td>0.000000</td>\n",
       "      <td>0.000000</td>\n",
       "      <td>0.000000</td>\n",
       "      <td>0.000000</td>\n",
       "      <td>0.000000</td>\n",
       "      <td>0.000000</td>\n",
       "      <td>0.000000</td>\n",
       "      <td>0.000000</td>\n",
       "      <td>0.000000</td>\n",
       "      <td>0.000000</td>\n",
       "    </tr>\n",
       "    <tr>\n",
       "      <th>max</th>\n",
       "      <td>1.000000</td>\n",
       "      <td>1.000000</td>\n",
       "      <td>1.000000</td>\n",
       "      <td>1.000000</td>\n",
       "      <td>1.000000</td>\n",
       "      <td>1.000000</td>\n",
       "      <td>1.000000</td>\n",
       "      <td>1.000000</td>\n",
       "      <td>1.000000</td>\n",
       "      <td>1.000000</td>\n",
       "      <td>...</td>\n",
       "      <td>1.000000</td>\n",
       "      <td>1.000000</td>\n",
       "      <td>1.000000</td>\n",
       "      <td>1.000000</td>\n",
       "      <td>1.000000</td>\n",
       "      <td>1.000000</td>\n",
       "      <td>1.000000</td>\n",
       "      <td>1.000000</td>\n",
       "      <td>1.000000</td>\n",
       "      <td>1.000000</td>\n",
       "    </tr>\n",
       "  </tbody>\n",
       "</table>\n",
       "<p>8 rows × 132 columns</p>\n",
       "</div>"
      ],
      "text/plain": [
       "           itching    skin_rash  nodal_skin_eruptions  continuous_sneezing  \\\n",
       "count  4962.000000  4962.000000           4962.000000          4962.000000   \n",
       "mean      0.138049     0.160016              0.021967             0.045143   \n",
       "std       0.344986     0.366658              0.146590             0.207639   \n",
       "min       0.000000     0.000000              0.000000             0.000000   \n",
       "25%       0.000000     0.000000              0.000000             0.000000   \n",
       "50%       0.000000     0.000000              0.000000             0.000000   \n",
       "75%       0.000000     0.000000              0.000000             0.000000   \n",
       "max       1.000000     1.000000              1.000000             1.000000   \n",
       "\n",
       "         shivering       chills   joint_pain  stomach_pain      acidity  \\\n",
       "count  4962.000000  4962.000000  4962.000000   4962.000000  4962.000000   \n",
       "mean      0.021967     0.162233     0.139057      0.045143     0.045143   \n",
       "std       0.146590     0.368702     0.346041      0.207639     0.207639   \n",
       "min       0.000000     0.000000     0.000000      0.000000     0.000000   \n",
       "25%       0.000000     0.000000     0.000000      0.000000     0.000000   \n",
       "50%       0.000000     0.000000     0.000000      0.000000     0.000000   \n",
       "75%       0.000000     0.000000     0.000000      0.000000     0.000000   \n",
       "max       1.000000     1.000000     1.000000      1.000000     1.000000   \n",
       "\n",
       "       ulcers_on_tongue  ...  pus_filled_pimples   blackheads     scurring  \\\n",
       "count       4962.000000  ...         4962.000000  4962.000000  4962.000000   \n",
       "mean           0.021967  ...            0.021967     0.021967     0.021967   \n",
       "std            0.146590  ...            0.146590     0.146590     0.146590   \n",
       "min            0.000000  ...            0.000000     0.000000     0.000000   \n",
       "25%            0.000000  ...            0.000000     0.000000     0.000000   \n",
       "50%            0.000000  ...            0.000000     0.000000     0.000000   \n",
       "75%            0.000000  ...            0.000000     0.000000     0.000000   \n",
       "max            1.000000  ...            1.000000     1.000000     1.000000   \n",
       "\n",
       "       skin_peeling  silver_like_dusting  small_dents_in_nails  \\\n",
       "count   4962.000000          4962.000000           4962.000000   \n",
       "mean       0.023378             0.023176              0.023176   \n",
       "std        0.151115             0.150478              0.150478   \n",
       "min        0.000000             0.000000              0.000000   \n",
       "25%        0.000000             0.000000              0.000000   \n",
       "50%        0.000000             0.000000              0.000000   \n",
       "75%        0.000000             0.000000              0.000000   \n",
       "max        1.000000             1.000000              1.000000   \n",
       "\n",
       "       inflammatory_nails      blister  red_sore_around_nose  \\\n",
       "count         4962.000000  4962.000000           4962.000000   \n",
       "mean             0.023176     0.023176              0.023378   \n",
       "std              0.150478     0.150478              0.151115   \n",
       "min              0.000000     0.000000              0.000000   \n",
       "25%              0.000000     0.000000              0.000000   \n",
       "50%              0.000000     0.000000              0.000000   \n",
       "75%              0.000000     0.000000              0.000000   \n",
       "max              1.000000     1.000000              1.000000   \n",
       "\n",
       "       yellow_crust_ooze  \n",
       "count        4962.000000  \n",
       "mean            0.023176  \n",
       "std             0.150478  \n",
       "min             0.000000  \n",
       "25%             0.000000  \n",
       "50%             0.000000  \n",
       "75%             0.000000  \n",
       "max             1.000000  \n",
       "\n",
       "[8 rows x 132 columns]"
      ]
     },
     "execution_count": 113,
     "metadata": {},
     "output_type": "execute_result"
    }
   ],
   "source": [
    "df.describe()"
   ]
  },
  {
   "cell_type": "code",
   "execution_count": 114,
   "metadata": {},
   "outputs": [],
   "source": [
    "# #drop unnamed column:133\n",
    "# df.drop(\"Unnamed: 133\", axis = 1, inplace = True)"
   ]
  },
  {
   "cell_type": "code",
   "execution_count": 115,
   "metadata": {},
   "outputs": [
    {
     "data": {
      "text/plain": [
       "itching                 0\n",
       "skin_rash               0\n",
       "nodal_skin_eruptions    0\n",
       "continuous_sneezing     0\n",
       "shivering               0\n",
       "                       ..\n",
       "inflammatory_nails      0\n",
       "blister                 0\n",
       "red_sore_around_nose    0\n",
       "yellow_crust_ooze       0\n",
       "prognosis               0\n",
       "Length: 133, dtype: int64"
      ]
     },
     "execution_count": 115,
     "metadata": {},
     "output_type": "execute_result"
    }
   ],
   "source": [
    "#checking null values\n",
    "df.isna().sum()"
   ]
  },
  {
   "cell_type": "markdown",
   "metadata": {},
   "source": [
    "# Building ML models"
   ]
  },
  {
   "cell_type": "code",
   "execution_count": 116,
   "metadata": {},
   "outputs": [
    {
     "data": {
      "text/plain": [
       "array(['Fungal infection', 'Allergy', 'GERD', 'Chronic cholestasis',\n",
       "       'Drug Reaction', 'Peptic ulcer diseae', 'AIDS', 'Diabetes ',\n",
       "       'Gastroenteritis', 'Bronchial Asthma', 'Hypertension ', 'Migraine',\n",
       "       'Cervical spondylosis', 'Paralysis (brain hemorrhage)', 'Jaundice',\n",
       "       'Malaria', 'Chicken pox', 'Dengue', 'Typhoid', 'hepatitis A',\n",
       "       'Hepatitis B', 'Hepatitis C', 'Hepatitis D', 'Hepatitis E',\n",
       "       'Alcoholic hepatitis', 'Tuberculosis', 'Common Cold', 'Pneumonia',\n",
       "       'Dimorphic hemmorhoids(piles)', 'Heart attack', 'Varicose veins',\n",
       "       'Hypothyroidism', 'Hyperthyroidism', 'Hypoglycemia',\n",
       "       'Osteoarthristis', 'Arthritis',\n",
       "       '(vertigo) Paroymsal  Positional Vertigo', 'Acne',\n",
       "       'Urinary tract infection', 'Psoriasis', 'Impetigo'], dtype=object)"
      ]
     },
     "execution_count": 116,
     "metadata": {},
     "output_type": "execute_result"
    }
   ],
   "source": [
    "#checking labels\n",
    "df['prognosis'].unique()"
   ]
  },
  {
   "cell_type": "code",
   "execution_count": 210,
   "metadata": {},
   "outputs": [
    {
     "name": "stdout",
     "output_type": "stream",
     "text": [
      "X_trainshape:  (4962, 132) y_train_shape:  (4962,)\n",
      "X_test.shape:  (42, 132) y_test.shape:  (42,)\n"
     ]
    }
   ],
   "source": [
    "# split dataset into attributes and labels\n",
    "X_train = df.iloc[:,:-1].values # the training attributes\n",
    "y_train = df.iloc[:,132].values # the training labels\n",
    "X_test = test_df.iloc[:,:-1].values # the testing attributes\n",
    "y_test = test_df.iloc[:,132].values # the testing labels\n",
    "print(\"X_trainshape: \",X_train.shape,\"y_train_shape: \", y_train.shape)\n",
    "print(\"X_test.shape: \", X_test.shape,\"y_test.shape: \", y_test.shape)\n"
   ]
  },
  {
   "cell_type": "code",
   "execution_count": 118,
   "metadata": {},
   "outputs": [],
   "source": [
    "# Libraries for ML model\n",
    "from sklearn.model_selection import train_test_split\n",
    "from sklearn.tree import DecisionTreeClassifier\n",
    "from sklearn.ensemble import RandomForestClassifier\n",
    "from sklearn.linear_model import LogisticRegression\n",
    "from sklearn.metrics import accuracy_score,confusion_matrix,classification_report"
   ]
  },
  {
   "cell_type": "markdown",
   "metadata": {},
   "source": [
    "# Decision Tree Classifier"
   ]
  },
  {
   "cell_type": "code",
   "execution_count": 119,
   "metadata": {},
   "outputs": [
    {
     "name": "stdout",
     "output_type": "stream",
     "text": [
      "Train Accuracy:  100.0\n",
      "Test Accuracy:  100.0\n"
     ]
    }
   ],
   "source": [
    "# Decision Tree\n",
    "\n",
    "decision_tree = DecisionTreeClassifier()\n",
    "decision_tree.fit(X_train, y_train)\n",
    "Y_predDT = decision_tree.predict(X_test)\n",
    "print(\"Train Accuracy: \",round(accuracy_score(y_train, decision_tree.predict(X_train))*100,2))\n",
    "print(\"Test Accuracy: \",round(accuracy_score(y_test, Y_predDT) * 100 ,2))"
   ]
  },
  {
   "cell_type": "markdown",
   "metadata": {},
   "source": [
    "# Random Forest Classifier"
   ]
  },
  {
   "cell_type": "code",
   "execution_count": 120,
   "metadata": {},
   "outputs": [
    {
     "name": "stdout",
     "output_type": "stream",
     "text": [
      "Train Accuracy:  100.0\n",
      "Test Accuracy:  100.0\n"
     ]
    }
   ],
   "source": [
    "# Random Forest\n",
    "\n",
    "random_forest = RandomForestClassifier(n_estimators=100)\n",
    "random_forest.fit(X_train, y_train)\n",
    "Y_predRF = random_forest.predict(X_test)\n",
    "random_forest.score(X_train, y_train)\n",
    "print(\"Train Accuracy: \",round(accuracy_score(y_train, random_forest.predict(X_train))*100,2))\n",
    "print(\"Test Accuracy: \",round(accuracy_score(y_test, Y_predRF)*100,2))"
   ]
  },
  {
   "cell_type": "code",
   "execution_count": null,
   "metadata": {},
   "outputs": [],
   "source": []
  },
  {
   "cell_type": "code",
   "execution_count": null,
   "metadata": {},
   "outputs": [],
   "source": []
  },
  {
   "cell_type": "markdown",
   "metadata": {},
   "source": [
    "# Logistic Regression"
   ]
  },
  {
   "cell_type": "code",
   "execution_count": 121,
   "metadata": {},
   "outputs": [
    {
     "name": "stdout",
     "output_type": "stream",
     "text": [
      "Train Accuracy:  100.0\n",
      "Test Accuracy:  100.0\n"
     ]
    }
   ],
   "source": [
    "# Logistic Regression\n",
    "\n",
    "logreg = LogisticRegression()\n",
    "logreg.fit(X_train, y_train)\n",
    "Y_predLR = logreg.predict(X_test)\n",
    "print(\"Train Accuracy: \",round(accuracy_score(y_train, logreg.predict(X_train))*100,2))\n",
    "print(\"Test Accuracy: \",round(accuracy_score(y_test, Y_predLR) * 100,2))"
   ]
  },
  {
   "cell_type": "code",
   "execution_count": 122,
   "metadata": {},
   "outputs": [
    {
     "data": {
      "text/html": [
       "<div>\n",
       "<style scoped>\n",
       "    .dataframe tbody tr th:only-of-type {\n",
       "        vertical-align: middle;\n",
       "    }\n",
       "\n",
       "    .dataframe tbody tr th {\n",
       "        vertical-align: top;\n",
       "    }\n",
       "\n",
       "    .dataframe thead th {\n",
       "        text-align: right;\n",
       "    }\n",
       "</style>\n",
       "<table border=\"1\" class=\"dataframe\">\n",
       "  <thead>\n",
       "    <tr style=\"text-align: right;\">\n",
       "      <th></th>\n",
       "      <th>Model</th>\n",
       "      <th>Score</th>\n",
       "    </tr>\n",
       "  </thead>\n",
       "  <tbody>\n",
       "    <tr>\n",
       "      <th>0</th>\n",
       "      <td>Decision Tree</td>\n",
       "      <td>100.0</td>\n",
       "    </tr>\n",
       "    <tr>\n",
       "      <th>1</th>\n",
       "      <td>Random Forest</td>\n",
       "      <td>100.0</td>\n",
       "    </tr>\n",
       "    <tr>\n",
       "      <th>2</th>\n",
       "      <td>Logistic Regression</td>\n",
       "      <td>100.0</td>\n",
       "    </tr>\n",
       "  </tbody>\n",
       "</table>\n",
       "</div>"
      ],
      "text/plain": [
       "                 Model  Score\n",
       "0        Decision Tree  100.0\n",
       "1        Random Forest  100.0\n",
       "2  Logistic Regression  100.0"
      ]
     },
     "execution_count": 122,
     "metadata": {},
     "output_type": "execute_result"
    }
   ],
   "source": [
    "# Tabular Representation of model accuracy of Training set\n",
    "models_train = pd.DataFrame({\n",
    "    'Model': ['Decision Tree', 'Random Forest', 'Logistic Regression'],\n",
    "    'Score': [round(accuracy_score(y_train, decision_tree.predict(X_train))*100,2),\n",
    "              round(accuracy_score(y_train, random_forest.predict(X_train))*100,2),\n",
    "              round(accuracy_score(y_train, logreg.predict(X_train))*100,2)]})\n",
    "models_train.sort_values(by='Score', ascending=False)"
   ]
  },
  {
   "cell_type": "markdown",
   "metadata": {},
   "source": [
    "# Summary of various model's accuracies"
   ]
  },
  {
   "cell_type": "code",
   "execution_count": 123,
   "metadata": {},
   "outputs": [
    {
     "data": {
      "text/html": [
       "<div>\n",
       "<style scoped>\n",
       "    .dataframe tbody tr th:only-of-type {\n",
       "        vertical-align: middle;\n",
       "    }\n",
       "\n",
       "    .dataframe tbody tr th {\n",
       "        vertical-align: top;\n",
       "    }\n",
       "\n",
       "    .dataframe thead th {\n",
       "        text-align: right;\n",
       "    }\n",
       "</style>\n",
       "<table border=\"1\" class=\"dataframe\">\n",
       "  <thead>\n",
       "    <tr style=\"text-align: right;\">\n",
       "      <th></th>\n",
       "      <th>Model</th>\n",
       "      <th>Score</th>\n",
       "    </tr>\n",
       "  </thead>\n",
       "  <tbody>\n",
       "    <tr>\n",
       "      <th>0</th>\n",
       "      <td>Decision Tree</td>\n",
       "      <td>100.0</td>\n",
       "    </tr>\n",
       "    <tr>\n",
       "      <th>1</th>\n",
       "      <td>Random Forest</td>\n",
       "      <td>100.0</td>\n",
       "    </tr>\n",
       "    <tr>\n",
       "      <th>2</th>\n",
       "      <td>Logistic Regression</td>\n",
       "      <td>100.0</td>\n",
       "    </tr>\n",
       "  </tbody>\n",
       "</table>\n",
       "</div>"
      ],
      "text/plain": [
       "                 Model  Score\n",
       "0        Decision Tree  100.0\n",
       "1        Random Forest  100.0\n",
       "2  Logistic Regression  100.0"
      ]
     },
     "execution_count": 123,
     "metadata": {},
     "output_type": "execute_result"
    }
   ],
   "source": [
    "# Tabular Representation of model accuracy of Testing set\n",
    "models_test = pd.DataFrame({\n",
    "    'Model': ['Decision Tree', 'Random Forest', 'Logistic Regression'],\n",
    "    'Score': [round(accuracy_score(y_test, Y_predDT) * 100 ,2),\n",
    "              round(accuracy_score(y_test, Y_predRF)*100,2),\n",
    "              round(accuracy_score(y_test, Y_predLR) * 100,2)]})\n",
    "models_test.sort_values(by='Score', ascending=False)"
   ]
  },
  {
   "cell_type": "code",
   "execution_count": 124,
   "metadata": {},
   "outputs": [],
   "source": [
    "# plt.style.use('seaborn-darkgrid')\n",
    "# plt.figure(figsize=(10, 6))\n",
    "# models = ['Logistic Regression', 'Support Vector Classifier', 'Decision Tree Classifier', \n",
    "#           'K-Neighbors Classifier', 'Naive Bayes Classifier']\n",
    "# test_accuracy = [lr_test, svc_test, dt_test, knn_test, nb_test]\n",
    "# plt.plot(models, test_accuracy, '-o')\n",
    "# plt.ylim(0.90, 1.05)\n",
    "# plt.ylabel(\"Accuracy Score\")\n",
    "# plt.show()"
   ]
  },
  {
   "cell_type": "markdown",
   "metadata": {},
   "source": [
    "# Method 2 : Using Keras"
   ]
  },
  {
   "cell_type": "code",
   "execution_count": 164,
   "metadata": {},
   "outputs": [],
   "source": [
    "#reading the dataset\n",
    "\n",
    "df=pd.read_csv('../Dataset/Training.csv')\n",
    "test_df=pd.read_csv('../Dataset/Testing.csv')\n",
    "#drop unnamed column:133\n",
    "# df.drop(\"Unnamed: 133\", axis = 1, inplace = True)"
   ]
  },
  {
   "cell_type": "markdown",
   "metadata": {},
   "source": [
    "# Sequential Model"
   ]
  },
  {
   "cell_type": "code",
   "execution_count": 165,
   "metadata": {},
   "outputs": [],
   "source": [
    "X_train= df.drop('prognosis', axis=1)\n",
    "X_test= test_df.drop('prognosis', axis=1)\n",
    "\n",
    "y_train= np.array(df['prognosis'])\n",
    "y_test= np.array(test_df['prognosis'])"
   ]
  },
  {
   "cell_type": "code",
   "execution_count": 166,
   "metadata": {},
   "outputs": [],
   "source": [
    "y_train_enc= pd.get_dummies(y_train)\n",
    "y_test_enc= pd.get_dummies(y_test)"
   ]
  },
  {
   "cell_type": "code",
   "execution_count": 167,
   "metadata": {},
   "outputs": [],
   "source": [
    "import keras\n",
    "from keras.layers import Dense\n",
    "from keras.models import Sequential\n",
    "from keras.callbacks import EarlyStopping"
   ]
  },
  {
   "cell_type": "code",
   "execution_count": 168,
   "metadata": {},
   "outputs": [],
   "source": [
    "# !pip install keras"
   ]
  },
  {
   "cell_type": "code",
   "execution_count": 169,
   "metadata": {},
   "outputs": [],
   "source": [
    "# !pip install tensorflow"
   ]
  },
  {
   "cell_type": "code",
   "execution_count": 170,
   "metadata": {},
   "outputs": [
    {
     "name": "stdout",
     "output_type": "stream",
     "text": [
      "2.7.0\n"
     ]
    }
   ],
   "source": [
    "print(keras.__version__)\n"
   ]
  },
  {
   "cell_type": "code",
   "execution_count": 171,
   "metadata": {},
   "outputs": [
    {
     "name": "stdout",
     "output_type": "stream",
     "text": [
      "2.7.0\n"
     ]
    }
   ],
   "source": [
    "import tensorflow\n",
    "print(tensorflow.__version__)"
   ]
  },
  {
   "cell_type": "code",
   "execution_count": 172,
   "metadata": {},
   "outputs": [],
   "source": [
    "#creating sequential model\n",
    "\n",
    "model= Sequential()\n",
    "model.add(Dense(64, activation='relu', input_shape= (X_train.shape[1], )))\n",
    "model.add(Dense(32, activation='relu'))\n",
    "model.add(Dense(16, activation='relu'))\n",
    "model.add(Dense(y_train_enc.shape[1], activation='softmax'))"
   ]
  },
  {
   "cell_type": "code",
   "execution_count": 173,
   "metadata": {},
   "outputs": [
    {
     "name": "stdout",
     "output_type": "stream",
     "text": [
      "Model: \"sequential_2\"\n",
      "_________________________________________________________________\n",
      " Layer (type)                Output Shape              Param #   \n",
      "=================================================================\n",
      " dense_8 (Dense)             (None, 64)                8512      \n",
      "                                                                 \n",
      " dense_9 (Dense)             (None, 32)                2080      \n",
      "                                                                 \n",
      " dense_10 (Dense)            (None, 16)                528       \n",
      "                                                                 \n",
      " dense_11 (Dense)            (None, 41)                697       \n",
      "                                                                 \n",
      "=================================================================\n",
      "Total params: 11,817\n",
      "Trainable params: 11,817\n",
      "Non-trainable params: 0\n",
      "_________________________________________________________________\n"
     ]
    }
   ],
   "source": [
    "model.summary()"
   ]
  },
  {
   "cell_type": "code",
   "execution_count": 174,
   "metadata": {},
   "outputs": [],
   "source": [
    "model.compile('adam', loss='categorical_crossentropy', metrics=['accuracy'])"
   ]
  },
  {
   "cell_type": "code",
   "execution_count": 175,
   "metadata": {},
   "outputs": [
    {
     "name": "stdout",
     "output_type": "stream",
     "text": [
      "Epoch 1/30\n",
      "29/29 [==============================] - 1s 7ms/step - loss: 3.6235 - accuracy: 0.1350 - val_loss: 3.4822 - val_accuracy: 0.2438\n",
      "Epoch 2/30\n",
      "29/29 [==============================] - 0s 3ms/step - loss: 3.3095 - accuracy: 0.3366 - val_loss: 2.9642 - val_accuracy: 0.4385\n",
      "Epoch 3/30\n",
      "29/29 [==============================] - 0s 3ms/step - loss: 2.6223 - accuracy: 0.5030 - val_loss: 2.0259 - val_accuracy: 0.5850\n",
      "Epoch 4/30\n",
      "29/29 [==============================] - 0s 3ms/step - loss: 1.6528 - accuracy: 0.6755 - val_loss: 1.0429 - val_accuracy: 0.7542\n",
      "Epoch 5/30\n",
      "29/29 [==============================] - 0s 3ms/step - loss: 0.8088 - accuracy: 0.8802 - val_loss: 0.3902 - val_accuracy: 0.9745\n",
      "Epoch 6/30\n",
      "29/29 [==============================] - 0s 3ms/step - loss: 0.3071 - accuracy: 0.9928 - val_loss: 0.1099 - val_accuracy: 0.9993\n",
      "Epoch 7/30\n",
      "29/29 [==============================] - 0s 3ms/step - loss: 0.1076 - accuracy: 1.0000 - val_loss: 0.0354 - val_accuracy: 0.9993\n",
      "Epoch 8/30\n",
      "29/29 [==============================] - 0s 3ms/step - loss: 0.0480 - accuracy: 1.0000 - val_loss: 0.0166 - val_accuracy: 0.9993\n"
     ]
    },
    {
     "data": {
      "text/plain": [
       "<keras.callbacks.History at 0x1ee8bd14f10>"
      ]
     },
     "execution_count": 175,
     "metadata": {},
     "output_type": "execute_result"
    }
   ],
   "source": [
    "# early_stopping_monitor= EarlyStopping(patience=2, monitor='val_accuracy')\n",
    "# model.fit(X_train, y_train_enc, batch_size=120, epochs=30, validation_split=0.3, callbacks=[early_stopping_monitor])"
   ]
  },
  {
   "cell_type": "code",
   "execution_count": 176,
   "metadata": {},
   "outputs": [
    {
     "name": "stdout",
     "output_type": "stream",
     "text": [
      "5/5 [==============================] - 0s 2ms/step - loss: 0.0137 - accuracy: 1.0000\n"
     ]
    },
    {
     "data": {
      "text/plain": [
       "[0.013712214305996895, 1.0]"
      ]
     },
     "execution_count": 176,
     "metadata": {},
     "output_type": "execute_result"
    }
   ],
   "source": [
    "# model.evaluate(X_test, y_test_enc, batch_size=1, steps=5)"
   ]
  },
  {
   "cell_type": "code",
   "execution_count": 177,
   "metadata": {},
   "outputs": [
    {
     "name": "stdout",
     "output_type": "stream",
     "text": [
      "Epoch 1/40\n",
      "25/25 [==============================] - 0s 5ms/step - loss: 0.0315 - accuracy: 1.0000 - val_loss: 0.0103 - val_accuracy: 0.9995\n",
      "Epoch 2/40\n",
      "25/25 [==============================] - 0s 4ms/step - loss: 0.0219 - accuracy: 1.0000 - val_loss: 0.0073 - val_accuracy: 0.9995\n",
      "Epoch 3/40\n",
      "25/25 [==============================] - 0s 4ms/step - loss: 0.0164 - accuracy: 1.0000 - val_loss: 0.0054 - val_accuracy: 0.9995\n"
     ]
    },
    {
     "data": {
      "text/plain": [
       "<keras.callbacks.History at 0x1ee84c12a30>"
      ]
     },
     "execution_count": 177,
     "metadata": {},
     "output_type": "execute_result"
    }
   ],
   "source": [
    "#varying the model parameters\n",
    "early_stopping_monitor= EarlyStopping(patience=2, monitor='val_accuracy')\n",
    "model.fit(X_train, y_train_enc, batch_size=120, epochs=40, validation_split=0.4, callbacks=[early_stopping_monitor])"
   ]
  },
  {
   "cell_type": "code",
   "execution_count": 178,
   "metadata": {},
   "outputs": [
    {
     "name": "stdout",
     "output_type": "stream",
     "text": [
      "5/5 [==============================] - 0s 2ms/step - loss: 0.0037 - accuracy: 1.0000\n"
     ]
    },
    {
     "data": {
      "text/plain": [
       "[0.003723522648215294, 1.0]"
      ]
     },
     "execution_count": 178,
     "metadata": {},
     "output_type": "execute_result"
    }
   ],
   "source": [
    "model.evaluate(X_test, y_test_enc, batch_size=1, steps=5)"
   ]
  },
  {
   "cell_type": "markdown",
   "metadata": {},
   "source": [
    "# Saving the Sequential model"
   ]
  },
  {
   "cell_type": "code",
   "execution_count": 179,
   "metadata": {},
   "outputs": [],
   "source": [
    "# save model\n",
    "model.save('disease_model.h5')\n",
    "\n",
    "# # load model\n",
    "# my_new_model = keras.models.load_model('disease_model.h5')"
   ]
  },
  {
   "cell_type": "markdown",
   "metadata": {},
   "source": [
    "# Obtaining predictions"
   ]
  },
  {
   "cell_type": "code",
   "execution_count": 180,
   "metadata": {},
   "outputs": [],
   "source": [
    "import copy\n",
    "\n",
    "# create test for prediction\n",
    "SYMPTOMS = {'itching': {0: 0}, 'skin_rash': {0: 0}, 'nodal_skin_eruptions': {0: 0}, 'continuous_sneezing': {0: 0}, 'shivering': {0: 0}, 'chills': {0: 0}, 'joint_pain': {0: 0}, 'stomach_pain': {0: 0}, 'acidity': {0: 0}, 'ulcers_on_tongue': {0: 0}, 'muscle_wasting': {0: 0}, 'vomiting': {0: 0}, 'burning_micturition': {0: 0}, 'spotting_ urination': {0: 0}, 'fatigue': {0: 0}, 'weight_gain': {0: 0}, 'anxiety': {0: 0}, 'cold_hands_and_feets': {0: 0}, 'mood_swings': {0: 0}, 'weight_loss': {0: 0}, 'restlessness': {0: 0}, 'lethargy': {0: 0}, 'patches_in_throat': {0: 0}, 'irregular_sugar_level': {0: 0}, 'cough': {0: 0}, 'high_fever': {0: 0}, 'sunken_eyes': {0: 0}, 'breathlessness': {0: 0}, 'sweating': {0: 0}, 'dehydration': {0: 0}, 'indigestion': {0: 0}, 'headache': {0: 0}, 'yellowish_skin': {0: 0}, 'dark_urine': {0: 0}, 'nausea': {0: 0}, 'loss_of_appetite': {0: 0}, 'pain_behind_the_eyes': {0: 0}, 'back_pain': {0: 0}, 'constipation': {0: 0}, 'abdominal_pain': {0: 0}, 'diarrhoea': {0: 0}, 'mild_fever': {0: 0}, 'yellow_urine': {0: 0}, 'yellowing_of_eyes': {0: 0}, 'acute_liver_failure': {0: 0}, 'fluid_overload': {0: 0}, 'swelling_of_stomach': {0: 0}, 'swelled_lymph_nodes': {0: 0}, 'malaise': {0: 0}, 'blurred_and_distorted_vision': {0: 0}, 'phlegm': {0: 0}, 'throat_irritation': {0: 0}, 'redness_of_eyes': {0: 0}, 'sinus_pressure': {0: 0}, 'runny_nose': {0: 0}, 'congestion': {0: 0}, 'chest_pain': {0: 0}, 'weakness_in_limbs': {0: 0}, 'fast_heart_rate': {0: 0}, 'pain_during_bowel_movements': {0: 0}, 'pain_in_anal_region': {0: 0}, 'bloody_stool': {0: 0}, 'irritation_in_anus': {0: 0}, 'neck_pain': {0: 0}, 'dizziness': {0: 0}, 'cramps': {0: 0}, 'bruising': {0: 0}, 'obesity': {0: 0}, 'swollen_legs': {0: 0}, 'swollen_blood_vessels': {0: 0}, 'puffy_face_and_eyes': {0: 0}, 'enlarged_thyroid': {0: 0}, 'brittle_nails': {0: 0}, 'swollen_extremeties': {0: 0}, 'excessive_hunger': {0: 0}, 'extra_marital_contacts': {0: 0}, 'drying_and_tingling_lips': {0: 0}, 'slurred_speech': {0: 0}, 'knee_pain': {0: 0}, 'hip_joint_pain': {0: 0}, 'muscle_weakness': {0: 0}, 'stiff_neck': {0: 0}, 'swelling_joints': {0: 0}, 'movement_stiffness': {0: 0}, 'spinning_movements': {0: 0}, 'loss_of_balance': {0: 0}, 'unsteadiness': {0: 0}, 'weakness_of_one_body_side': {0: 0}, 'loss_of_smell': {0: 0}, 'bladder_discomfort': {0: 0}, 'foul_smell_of urine': {0: 0}, 'continuous_feel_of_urine': {0: 0}, 'passage_of_gases': {0: 0}, 'internal_itching': {0: 0}, 'toxic_look_(typhos)': {0: 0}, 'depression': {0: 0}, 'irritability': {0: 0}, 'muscle_pain': {0: 0}, 'altered_sensorium': {0: 0}, 'red_spots_over_body': {0: 0}, 'belly_pain': {0: 0}, 'abnormal_menstruation': {0: 0}, 'dischromic _patches': {0: 0}, 'watering_from_eyes': {0: 0}, 'increased_appetite': {0: 0}, 'polyuria': {0: 0}, 'family_history': {0: 0}, 'mucoid_sputum': {0: 0}, 'rusty_sputum': {0: 0}, 'lack_of_concentration': {0: 0}, 'visual_disturbances': {0: 0}, 'receiving_blood_transfusion': {0: 0}, 'receiving_unsterile_injections': {0: 0}, 'coma': {0: 0}, 'stomach_bleeding': {0: 0}, 'distention_of_abdomen': {0: 0}, 'history_of_alcohol_consumption': {0: 0}, 'fluid_overload.1': {0: 0}, 'blood_in_sputum': {0: 0}, 'prominent_veins_on_calf': {0: 0}, 'palpitations': {0: 0}, 'painful_walking': {0: 0}, 'pus_filled_pimples': {0: 0}, 'blackheads': {0: 0}, 'scurring': {0: 0}, 'skin_peeling': {0: 0}, 'silver_like_dusting': {0: 0}, 'small_dents_in_nails': {0: 0}, 'inflammatory_nails': {0: 0}, 'blister': {0: 0}, 'red_sore_around_nose': {0: 0}, 'yellow_crust_ooze': {0: 0}}\n",
    "\n",
    "LABELS = ['(vertigo) Paroymsal  Positional Vertigo', 'AIDS', 'Acne', 'Alcoholic hepatitis', 'Allergy', 'Arthritis', 'Bronchial Asthma', 'Cervical spondylosis', 'Chicken pox', 'Chronic cholestasis', 'Common Cold', 'Dengue', 'Diabetes ', 'Dimorphic hemmorhoids(piles)', 'Drug Reaction', 'Fungal infection', 'GERD', 'Gastroenteritis', 'Heart attack', 'Hepatitis B', 'Hepatitis C', 'Hepatitis D', 'Hepatitis E', 'Hypertension ', 'Hyperthyroidism', 'Hypoglycemia', 'Hypothyroidism', 'Impetigo', 'Jaundice', 'Malaria', 'Migraine', 'Osteoarthristis', 'Paralysis (brain hemorrhage)', 'Peptic ulcer diseae', 'Pneumonia', 'Psoriasis', 'Tuberculosis', 'Typhoid', 'Urinary tract infection', 'Varicose veins', 'hepatitis A']\n",
    "\n",
    "\n",
    "DISEASE_MODEL = keras.models.load_model('disease_model.h5')\n",
    "\n",
    "def get_symp_pd(symptoms_list):\n",
    "    s_dict = copy.deepcopy(SYMPTOMS)\n",
    "    for symp in symptoms_list:\n",
    "        if symp in s_dict:\n",
    "            s_dict.get(symp)[0] = 1\n",
    "    # convert symptoms to pandas data frame\n",
    "    s_dict = pd.DataFrame(s_dict)\n",
    "    \n",
    "    return s_dict\n",
    "\n",
    "def get_disease_name(symptoms_list):\n",
    "    symptoms_list = get_symp_pd(symptoms_list)\n",
    "    y_prob = DISEASE_MODEL.predict(symptoms_list) \n",
    "#     print(y_prob)\n",
    "\n",
    "#     print(\"Where:\",np.where(y_prob[0]==max(y_prob[0])))\n",
    "#     print(LABELS[14])\n",
    "#     print(\"\\nMax probability: \",max(y_prob[0]))\n",
    "  \n",
    "    sorted_index_array=np.argsort(y_prob[0])\n",
    "\n",
    "    sorted_array=y_prob[0][sorted_index_array]\n",
    "\n",
    "#     print(\"Sorted array:\", sorted_array)\n",
    "\n",
    "    n=3\n",
    "    rslt=sorted_array[-n: ]\n",
    "#     print(rslt)\n",
    "#     for i in range(len(rslt)):\n",
    "#         x=np.where(y_prob[0]==rslt[i])\n",
    "#         print(LABELS[x[0][0]])\n",
    "\n",
    "    y_classes = y_prob.argmax(axis=-1)\n",
    "\n",
    "    return LABELS[y_prob[0].argmax(axis=-1)],rslt,y_prob"
   ]
  },
  {
   "cell_type": "markdown",
   "metadata": {},
   "source": [
    "# Testing model on sample inputs"
   ]
  },
  {
   "cell_type": "code",
   "execution_count": 181,
   "metadata": {},
   "outputs": [
    {
     "name": "stdout",
     "output_type": "stream",
     "text": [
      "\n",
      "\n",
      " 1 . For symptoms ['shivering', 'chills', 'watering_from_eyes']\n",
      "\n",
      "Disease predicted: \n",
      "Allergy\n",
      "\n",
      "Top 3 disease predictions:\n",
      "1 . Allergy , probability: 99.34 %\n",
      "2 . Cervical spondylosis , probability: 0.37 %\n",
      "3 . Dengue , probability: 0.28 %\n",
      "\n",
      "\n",
      " 2 . For symptoms ['sweating', 'chest_pain']\n",
      "\n",
      "Disease predicted: \n",
      "Heart attack\n",
      "\n",
      "Top 3 disease predictions:\n",
      "1 . Heart attack , probability: 92.53 %\n",
      "2 . Pneumonia , probability: 4.01 %\n",
      "3 . Malaria , probability: 3.46 %\n",
      "\n",
      "\n",
      " 3 . For symptoms ['weight_loss', 'high_fever', 'yellowish_skin']\n",
      "\n",
      "Disease predicted: \n",
      "Jaundice\n",
      "\n",
      "Top 3 disease predictions:\n",
      "1 . Jaundice , probability: 77.9 %\n",
      "2 . Chronic cholestasis , probability: 12.11 %\n",
      "3 . Impetigo , probability: 9.99 %\n",
      "\n",
      "\n",
      " 4 . For symptoms ['skin_rash', 'pus_filled_pimples']\n",
      "\n",
      "Disease predicted: \n",
      "Acne\n",
      "\n",
      "Top 3 disease predictions:\n",
      "1 . Acne , probability: 90.78 %\n",
      "2 . Osteoarthristis , probability: 5.59 %\n",
      "3 . Gastroenteritis , probability: 3.63 %\n",
      "\n",
      "\n",
      " 5 . For symptoms ['itching', 'skin_rash']\n",
      "\n",
      "Disease predicted: \n",
      "Fungal infection\n",
      "\n",
      "Top 3 disease predictions:\n",
      "1 . Fungal infection , probability: 59.68 %\n",
      "2 . Jaundice , probability: 24.28 %\n",
      "3 . Dimorphic hemmorhoids(piles) , probability: 16.04 %\n",
      "\n",
      "\n",
      " 6 . For symptoms ['itching', 'skin_rash', 'fatigue']\n",
      "\n",
      "Disease predicted: \n",
      "Jaundice\n",
      "\n",
      "Top 3 disease predictions:\n",
      "1 . Jaundice , probability: 60.85 %\n",
      "2 . Fungal infection , probability: 20.43 %\n",
      "3 . Hepatitis C , probability: 18.72 %\n",
      "\n",
      "\n",
      " 7 . For symptoms ['skin_rash', 'chills', 'joint_pain', 'pain_behind_the_eyes', 'red_spots_over_body']\n",
      "\n",
      "Disease predicted: \n",
      "Dengue\n",
      "\n",
      "Top 3 disease predictions:\n",
      "1 . Dengue , probability: 43.76 %\n",
      "2 . Allergy , probability: 40.53 %\n",
      "3 . Gastroenteritis , probability: 15.71 %\n"
     ]
    }
   ],
   "source": [
    "#sample symptoms input\n",
    "symp_disease = [\n",
    "    [['shivering', 'chills', 'watering_from_eyes'], ''],\n",
    "    [['sweating', 'chest_pain'], ''],\n",
    "    [['weight_loss', 'high_fever', 'yellowish_skin'], ''],\n",
    "    [['skin_rash', 'pus_filled_pimples'], ''],\n",
    "    [['itching', 'skin_rash'], ''],\n",
    "    [['itching', 'skin_rash', 'fatigue'], ''],\n",
    "    [['skin_rash', 'chills', 'joint_pain', 'pain_behind_the_eyes', 'red_spots_over_body'], ''],\n",
    "   \n",
    "]\n",
    "\n",
    "for i in range(len(symp_disease)):\n",
    "    if (len(symp_disease[i][0]) != 0):\n",
    "        d_name,res,y_pro = get_disease_name(symp_disease[i][0])\n",
    "        \n",
    "        print(\"\\n\\n\",i+1,\". For symptoms \" + str(symp_disease[i][0]))\n",
    "        print(\"\\nDisease predicted: \")\n",
    "        print(d_name)\n",
    "        \n",
    "        print(\"\\nTop 3 disease predictions:\")\n",
    "        summ=sum(res)\n",
    "        for i in range(len(res)):\n",
    "            x=np.where(y_pro[0]==res[len(res)-i-1])\n",
    "            print(i+1,'.',LABELS[x[0][0]],\", probability:\",round((res[len(res)-i-1]/summ)*100,2),\"%\")\n",
    "        "
   ]
  },
  {
   "cell_type": "code",
   "execution_count": 182,
   "metadata": {},
   "outputs": [],
   "source": [
    "# intents = {'symptoms': []}\n",
    "\n",
    "# dic = {'name': '','patterns': ['']}\n",
    "\n",
    "# for lbl in list(SYMPTOMS.keys()):\n",
    "#     d = copy.deepcopy(dic)\n",
    "#     d['name'] = lbl\n",
    "#     d['patterns'] = [lbl, ]\n",
    "#     intents['symptoms'].append(d)\n",
    "    \n",
    "# import json\n",
    "\n",
    "# # Serializing json   \n",
    "# json_object = json.dumps(intents, indent = 4)  \n",
    "# # print(json_object) "
   ]
  },
  {
   "cell_type": "code",
   "execution_count": 183,
   "metadata": {
    "scrolled": true
   },
   "outputs": [],
   "source": [
    "# SYMPTOMS_PATTERNS = intents\n",
    "\n",
    "# def gen_symp_list(symp_str):\n",
    "#     symp_list = []\n",
    "#     symp_labels = list(SYMPTOMS.keys())\n",
    "\n",
    "#     symp_pat = copy.deepcopy(SYMPTOMS_PATTERNS)\n",
    "\n",
    "#     for symp in symp_pat['symptoms']:\n",
    "#         for pattern in symp['patterns']:\n",
    "#             if pattern in symp_str:\n",
    "#                 print(symp['name'])\n",
    "#                 symp_list.append(symp['name'])\n",
    "#                 break\n",
    "\n",
    "#     return symp_list\n",
    "\n",
    "# l = gen_symp_list('headache shivering pain_behind_the_eyes')\n",
    "\n",
    "# print(l)"
   ]
  },
  {
   "cell_type": "markdown",
   "metadata": {},
   "source": [
    "# Decision Tree with feature selection"
   ]
  },
  {
   "cell_type": "code",
   "execution_count": 184,
   "metadata": {},
   "outputs": [],
   "source": [
    "dftrain=pd.read_csv('../Dataset/Training.csv')\n",
    "dftest=pd.read_csv('../Dataset/Testing.csv')"
   ]
  },
  {
   "cell_type": "code",
   "execution_count": 185,
   "metadata": {},
   "outputs": [],
   "source": [
    "# split dataset into attributes and labels\n",
    "X_train = dftrain.iloc[:, :-1].values # the training attributes\n",
    "y_train = dftrain.iloc[:, 132].values # the training labels\n",
    "X_test = dftest.iloc[:, :-1].values # the testing attributes\n",
    "y_test = dftest.iloc[:, 132].values # the testing labels"
   ]
  },
  {
   "cell_type": "code",
   "execution_count": 186,
   "metadata": {},
   "outputs": [
    {
     "data": {
      "text/plain": [
       "DecisionTreeClassifier(criterion='entropy', min_samples_leaf=2)"
      ]
     },
     "execution_count": 186,
     "metadata": {},
     "output_type": "execute_result"
    }
   ],
   "source": [
    "# using DT based on information gain\n",
    "classifierDT = DecisionTreeClassifier(splitter='best', criterion='entropy', min_samples_leaf=2)\n",
    "classifierDT.fit(X_train, y_train)"
   ]
  },
  {
   "cell_type": "code",
   "execution_count": 187,
   "metadata": {},
   "outputs": [],
   "source": [
    "y_predDT = classifierDT.predict(X_test)"
   ]
  },
  {
   "cell_type": "code",
   "execution_count": 188,
   "metadata": {},
   "outputs": [
    {
     "name": "stdout",
     "output_type": "stream",
     "text": [
      "[[1 0 0 ... 0 0 0]\n",
      " [0 1 0 ... 0 0 0]\n",
      " [0 0 1 ... 0 0 0]\n",
      " ...\n",
      " [0 0 0 ... 1 0 0]\n",
      " [0 0 0 ... 0 1 0]\n",
      " [0 0 0 ... 0 0 1]]\n",
      "                                         precision    recall  f1-score   support\n",
      "\n",
      "(vertigo) Paroymsal  Positional Vertigo       1.00      1.00      1.00         1\n",
      "                                   AIDS       1.00      1.00      1.00         1\n",
      "                                   Acne       1.00      1.00      1.00         1\n",
      "                    Alcoholic hepatitis       1.00      1.00      1.00         1\n",
      "                                Allergy       1.00      1.00      1.00         1\n",
      "                              Arthritis       1.00      1.00      1.00         1\n",
      "                       Bronchial Asthma       1.00      1.00      1.00         1\n",
      "                   Cervical spondylosis       1.00      1.00      1.00         1\n",
      "                            Chicken pox       1.00      1.00      1.00         1\n",
      "                    Chronic cholestasis       1.00      1.00      1.00         1\n",
      "                            Common Cold       1.00      1.00      1.00         1\n",
      "                                 Dengue       1.00      1.00      1.00         1\n",
      "                              Diabetes        1.00      1.00      1.00         1\n",
      "           Dimorphic hemmorhoids(piles)       1.00      1.00      1.00         1\n",
      "                          Drug Reaction       1.00      1.00      1.00         1\n",
      "                       Fungal infection       1.00      1.00      1.00         2\n",
      "                                   GERD       1.00      1.00      1.00         1\n",
      "                        Gastroenteritis       1.00      1.00      1.00         1\n",
      "                           Heart attack       1.00      1.00      1.00         1\n",
      "                            Hepatitis B       1.00      1.00      1.00         1\n",
      "                            Hepatitis C       1.00      1.00      1.00         1\n",
      "                            Hepatitis D       1.00      1.00      1.00         1\n",
      "                            Hepatitis E       1.00      1.00      1.00         1\n",
      "                          Hypertension        1.00      1.00      1.00         1\n",
      "                        Hyperthyroidism       1.00      1.00      1.00         1\n",
      "                           Hypoglycemia       1.00      1.00      1.00         1\n",
      "                         Hypothyroidism       1.00      1.00      1.00         1\n",
      "                               Impetigo       1.00      1.00      1.00         1\n",
      "                               Jaundice       1.00      1.00      1.00         1\n",
      "                                Malaria       1.00      1.00      1.00         1\n",
      "                               Migraine       1.00      1.00      1.00         1\n",
      "                        Osteoarthristis       1.00      1.00      1.00         1\n",
      "           Paralysis (brain hemorrhage)       1.00      1.00      1.00         1\n",
      "                    Peptic ulcer diseae       1.00      1.00      1.00         1\n",
      "                              Pneumonia       1.00      1.00      1.00         1\n",
      "                              Psoriasis       1.00      1.00      1.00         1\n",
      "                           Tuberculosis       1.00      1.00      1.00         1\n",
      "                                Typhoid       1.00      1.00      1.00         1\n",
      "                Urinary tract infection       1.00      1.00      1.00         1\n",
      "                         Varicose veins       1.00      1.00      1.00         1\n",
      "                            hepatitis A       1.00      1.00      1.00         1\n",
      "\n",
      "                               accuracy                           1.00        42\n",
      "                              macro avg       1.00      1.00      1.00        42\n",
      "                           weighted avg       1.00      1.00      1.00        42\n",
      "\n",
      "Train Accuracy:  1.0\n",
      "Test Accuracy:  1.0\n"
     ]
    }
   ],
   "source": [
    "# for DT model\n",
    "# using confusion matrix\n",
    "print(confusion_matrix(y_test, y_predDT))\n",
    "print(classification_report(y_test, y_predDT))\n",
    "\n",
    "# using accuracy performance metric\n",
    "print(\"Train Accuracy: \", accuracy_score(y_train, classifierDT.predict(X_train)))\n",
    "print(\"Test Accuracy: \", accuracy_score(y_test, y_predDT))"
   ]
  },
  {
   "cell_type": "markdown",
   "metadata": {},
   "source": [
    "### Feature engineering will involve feature selection based on higher feature importance towards the chosen model. This yields a subset of features from the original set to better represent the data, thus enabling the machine learning algorithm to train faster and reducing the model's computational complexity and cost. The model can also be easier to interpret and become more comprehendible to humans, and in some cases achive improved accuracy when the right subset is chosen."
   ]
  },
  {
   "cell_type": "code",
   "execution_count": 189,
   "metadata": {},
   "outputs": [
    {
     "data": {
      "text/plain": [
       "array([0.03135211, 0.05388561, 0.0019985 , 0.00186955, 0.        ,\n",
       "       0.01370023, 0.        , 0.0004514 , 0.        , 0.00126063,\n",
       "       0.        , 0.09992167, 0.00333729, 0.00569271, 0.15803005,\n",
       "       0.        , 0.        , 0.        , 0.        , 0.0004514 ,\n",
       "       0.        , 0.        , 0.00073242, 0.        , 0.00717981,\n",
       "       0.05820277, 0.00152457, 0.00290743, 0.00216342, 0.        ,\n",
       "       0.        , 0.03256644, 0.01703098, 0.00507838, 0.03812115,\n",
       "       0.068612  , 0.        , 0.0101007 , 0.01179993, 0.02418087,\n",
       "       0.01167603, 0.00842171, 0.        , 0.01788486, 0.0004514 ,\n",
       "       0.        , 0.        , 0.        , 0.02944219, 0.        ,\n",
       "       0.00842171, 0.        , 0.        , 0.        , 0.        ,\n",
       "       0.        , 0.04054358, 0.00098145, 0.00107317, 0.        ,\n",
       "       0.00062177, 0.        , 0.        , 0.00265589, 0.01872168,\n",
       "       0.00396686, 0.        , 0.00162938, 0.        , 0.0004514 ,\n",
       "       0.        , 0.00842171, 0.        , 0.00109571, 0.        ,\n",
       "       0.        , 0.        , 0.01240563, 0.0004514 , 0.        ,\n",
       "       0.        , 0.00823646, 0.02705203, 0.00129556, 0.        ,\n",
       "       0.00860641, 0.00276158, 0.        , 0.00820037, 0.0004514 ,\n",
       "       0.        , 0.01360123, 0.        , 0.0004514 , 0.        ,\n",
       "       0.        , 0.02278385, 0.01729504, 0.00437806, 0.        ,\n",
       "       0.        , 0.        , 0.        , 0.00827023, 0.01050637,\n",
       "       0.        , 0.00093478, 0.        , 0.        , 0.        ,\n",
       "       0.00313149, 0.        , 0.        , 0.01178386, 0.        ,\n",
       "       0.00073242, 0.00127856, 0.        , 0.        , 0.        ,\n",
       "       0.        , 0.00176051, 0.00264811, 0.00217832, 0.        ,\n",
       "       0.        , 0.        , 0.        , 0.00813708, 0.00129556,\n",
       "       0.        , 0.01075983])"
      ]
     },
     "execution_count": 189,
     "metadata": {},
     "output_type": "execute_result"
    }
   ],
   "source": [
    "# identify the important features in DT\n",
    "imp = classifierDT.feature_importances_\n",
    "imp"
   ]
  },
  {
   "cell_type": "code",
   "execution_count": 190,
   "metadata": {},
   "outputs": [
    {
     "data": {
      "text/html": [
       "<div>\n",
       "<style scoped>\n",
       "    .dataframe tbody tr th:only-of-type {\n",
       "        vertical-align: middle;\n",
       "    }\n",
       "\n",
       "    .dataframe tbody tr th {\n",
       "        vertical-align: top;\n",
       "    }\n",
       "\n",
       "    .dataframe thead th {\n",
       "        text-align: right;\n",
       "    }\n",
       "</style>\n",
       "<table border=\"1\" class=\"dataframe\">\n",
       "  <thead>\n",
       "    <tr style=\"text-align: right;\">\n",
       "      <th></th>\n",
       "      <th>symptom</th>\n",
       "      <th>importance</th>\n",
       "    </tr>\n",
       "  </thead>\n",
       "  <tbody>\n",
       "    <tr>\n",
       "      <th>0</th>\n",
       "      <td>itching</td>\n",
       "      <td>0.031352107468674534</td>\n",
       "    </tr>\n",
       "    <tr>\n",
       "      <th>1</th>\n",
       "      <td>skin_rash</td>\n",
       "      <td>0.05388560713367801</td>\n",
       "    </tr>\n",
       "    <tr>\n",
       "      <th>2</th>\n",
       "      <td>nodal_skin_eruptions</td>\n",
       "      <td>0.0019985022415703727</td>\n",
       "    </tr>\n",
       "    <tr>\n",
       "      <th>3</th>\n",
       "      <td>continuous_sneezing</td>\n",
       "      <td>0.001869553141872825</td>\n",
       "    </tr>\n",
       "    <tr>\n",
       "      <th>4</th>\n",
       "      <td>shivering</td>\n",
       "      <td>0.0</td>\n",
       "    </tr>\n",
       "    <tr>\n",
       "      <th>...</th>\n",
       "      <td>...</td>\n",
       "      <td>...</td>\n",
       "    </tr>\n",
       "    <tr>\n",
       "      <th>127</th>\n",
       "      <td>small_dents_in_nails</td>\n",
       "      <td>0.0</td>\n",
       "    </tr>\n",
       "    <tr>\n",
       "      <th>128</th>\n",
       "      <td>inflammatory_nails</td>\n",
       "      <td>0.008137080598496755</td>\n",
       "    </tr>\n",
       "    <tr>\n",
       "      <th>129</th>\n",
       "      <td>blister</td>\n",
       "      <td>0.0012955576350067593</td>\n",
       "    </tr>\n",
       "    <tr>\n",
       "      <th>130</th>\n",
       "      <td>red_sore_around_nose</td>\n",
       "      <td>0.0</td>\n",
       "    </tr>\n",
       "    <tr>\n",
       "      <th>131</th>\n",
       "      <td>yellow_crust_ooze</td>\n",
       "      <td>0.010759834940065625</td>\n",
       "    </tr>\n",
       "  </tbody>\n",
       "</table>\n",
       "<p>132 rows × 2 columns</p>\n",
       "</div>"
      ],
      "text/plain": [
       "                  symptom             importance\n",
       "0                 itching   0.031352107468674534\n",
       "1               skin_rash    0.05388560713367801\n",
       "2    nodal_skin_eruptions  0.0019985022415703727\n",
       "3     continuous_sneezing   0.001869553141872825\n",
       "4               shivering                    0.0\n",
       "..                    ...                    ...\n",
       "127  small_dents_in_nails                    0.0\n",
       "128    inflammatory_nails   0.008137080598496755\n",
       "129               blister  0.0012955576350067593\n",
       "130  red_sore_around_nose                    0.0\n",
       "131     yellow_crust_ooze   0.010759834940065625\n",
       "\n",
       "[132 rows x 2 columns]"
      ]
     },
     "execution_count": 190,
     "metadata": {},
     "output_type": "execute_result"
    }
   ],
   "source": [
    "columns = list(dftrain.columns)\n",
    "# combine list of symptoms and their feature importance into a 2D array\n",
    "columns = columns[:132]\n",
    "column_names = ['symptom', 'importance']\n",
    "df3 = np.vstack((columns, imp)).T\n",
    "df3 = pd.DataFrame(df3, columns = column_names)\n",
    "df3"
   ]
  },
  {
   "cell_type": "markdown",
   "metadata": {},
   "source": [
    "#### Taking all of these into consideration, a minimum threshold for feature importance is set in order to identify features of low importance, and thus can be excluded from the final predictive model."
   ]
  },
  {
   "cell_type": "code",
   "execution_count": 191,
   "metadata": {},
   "outputs": [
    {
     "data": {
      "application/vnd.plotly.v1+json": {
       "config": {
        "plotlyServerURL": "https://plot.ly"
       },
       "data": [
        {
         "alignmentgroup": "True",
         "hovertemplate": "Importance Value=%{x}<br>Feature=%{y}<br>color=%{marker.color}<extra></extra>",
         "legendgroup": "",
         "marker": {
          "color": [
           0.031352107468674534,
           0.05388560713367801,
           0.0019985022415703727,
           0.001869553141872825,
           0,
           0.013700225408702353,
           0,
           0.00045139649809051264,
           0,
           0.001260628620974541,
           0,
           0.09992167401150151,
           0.0033372933573859527,
           0.005692711720837167,
           0.15803004580061003,
           0,
           0,
           0,
           0,
           0.00045139649809051264,
           0,
           0,
           0.0007324162087165835,
           0,
           0.007179809519298213,
           0.05820276626966607,
           0.0015245662817359798,
           0.00290743383661075,
           0.0021634216171555662,
           0,
           0,
           0.03256644239906809,
           0.01703097846773065,
           0.0050783799938216665,
           0.03812115457043257,
           0.06861200101373019,
           0,
           0.010100704376802227,
           0.01179992727126626,
           0.024180874550631802,
           0.011676027491207087,
           0.008421706544368655,
           0,
           0.017884856184721465,
           0.00045139649809051264,
           0,
           0,
           0,
           0.029442185365520616,
           0,
           0.008421706544368655,
           0,
           0,
           0,
           0,
           0,
           0.040543576714506,
           0.0009814523445872683,
           0.0010731697836454674,
           0,
           0.0006217732855549546,
           0,
           0,
           0.002655885728137649,
           0.018721680681224706,
           0.003966860263359952,
           0,
           0.0016293790695265534,
           0,
           0.00045139649809051264,
           0,
           0.008421706544368655,
           0,
           0.0010957092453893471,
           0,
           0,
           0,
           0.012405633005205044,
           0.00045139649809051264,
           0,
           0,
           0.008236462112831877,
           0.02705202820015529,
           0.0012955576350067593,
           0,
           0.008606409851549016,
           0.0027615778482721256,
           0,
           0.00820036971531098,
           0.00045139649809051264,
           0,
           0.013601233731305293,
           0,
           0.00045139649809051264,
           0,
           0,
           0.0227838473067714,
           0.017295037191508,
           0.004378063409593255,
           0,
           0,
           0,
           0,
           0.008270225700812452,
           0.010506369328376073,
           0,
           0.0009347765709364115,
           0,
           0,
           0,
           0.0031314856084123477,
           0,
           0,
           0.01178385971965009,
           0,
           0.0007324162087165835,
           0.0012785613759362918,
           0,
           0,
           0,
           0,
           0.0017605070688742899,
           0.00264810553556645,
           0.0021783231420463194,
           0,
           0,
           0,
           0,
           0.008137080598496755,
           0.0012955576350067593,
           0,
           0.010759834940065625
          ],
          "coloraxis": "coloraxis",
          "pattern": {
           "shape": ""
          }
         },
         "name": "",
         "offsetgroup": "",
         "orientation": "h",
         "showlegend": false,
         "textposition": "auto",
         "type": "bar",
         "x": [
          0.031352107468674534,
          0.05388560713367801,
          0.0019985022415703727,
          0.001869553141872825,
          0,
          0.013700225408702353,
          0,
          0.00045139649809051264,
          0,
          0.001260628620974541,
          0,
          0.09992167401150151,
          0.0033372933573859527,
          0.005692711720837167,
          0.15803004580061003,
          0,
          0,
          0,
          0,
          0.00045139649809051264,
          0,
          0,
          0.0007324162087165835,
          0,
          0.007179809519298213,
          0.05820276626966607,
          0.0015245662817359798,
          0.00290743383661075,
          0.0021634216171555662,
          0,
          0,
          0.03256644239906809,
          0.01703097846773065,
          0.0050783799938216665,
          0.03812115457043257,
          0.06861200101373019,
          0,
          0.010100704376802227,
          0.01179992727126626,
          0.024180874550631802,
          0.011676027491207087,
          0.008421706544368655,
          0,
          0.017884856184721465,
          0.00045139649809051264,
          0,
          0,
          0,
          0.029442185365520616,
          0,
          0.008421706544368655,
          0,
          0,
          0,
          0,
          0,
          0.040543576714506,
          0.0009814523445872683,
          0.0010731697836454674,
          0,
          0.0006217732855549546,
          0,
          0,
          0.002655885728137649,
          0.018721680681224706,
          0.003966860263359952,
          0,
          0.0016293790695265534,
          0,
          0.00045139649809051264,
          0,
          0.008421706544368655,
          0,
          0.0010957092453893471,
          0,
          0,
          0,
          0.012405633005205044,
          0.00045139649809051264,
          0,
          0,
          0.008236462112831877,
          0.02705202820015529,
          0.0012955576350067593,
          0,
          0.008606409851549016,
          0.0027615778482721256,
          0,
          0.00820036971531098,
          0.00045139649809051264,
          0,
          0.013601233731305293,
          0,
          0.00045139649809051264,
          0,
          0,
          0.0227838473067714,
          0.017295037191508,
          0.004378063409593255,
          0,
          0,
          0,
          0,
          0.008270225700812452,
          0.010506369328376073,
          0,
          0.0009347765709364115,
          0,
          0,
          0,
          0.0031314856084123477,
          0,
          0,
          0.01178385971965009,
          0,
          0.0007324162087165835,
          0.0012785613759362918,
          0,
          0,
          0,
          0,
          0.0017605070688742899,
          0.00264810553556645,
          0.0021783231420463194,
          0,
          0,
          0,
          0,
          0.008137080598496755,
          0.0012955576350067593,
          0,
          0.010759834940065625
         ],
         "xaxis": "x",
         "y": [
          "itching",
          "skin_rash",
          "nodal_skin_eruptions",
          "continuous_sneezing",
          "shivering",
          "chills",
          "joint_pain",
          "stomach_pain",
          "acidity",
          "ulcers_on_tongue",
          "muscle_wasting",
          "vomiting",
          "burning_micturition",
          "spotting_ urination",
          "fatigue",
          "weight_gain",
          "anxiety",
          "cold_hands_and_feets",
          "mood_swings",
          "weight_loss",
          "restlessness",
          "lethargy",
          "patches_in_throat",
          "irregular_sugar_level",
          "cough",
          "high_fever",
          "sunken_eyes",
          "breathlessness",
          "sweating",
          "dehydration",
          "indigestion",
          "headache",
          "yellowish_skin",
          "dark_urine",
          "nausea",
          "loss_of_appetite",
          "pain_behind_the_eyes",
          "back_pain",
          "constipation",
          "abdominal_pain",
          "diarrhoea",
          "mild_fever",
          "yellow_urine",
          "yellowing_of_eyes",
          "acute_liver_failure",
          "fluid_overload",
          "swelling_of_stomach",
          "swelled_lymph_nodes",
          "malaise",
          "blurred_and_distorted_vision",
          "phlegm",
          "throat_irritation",
          "redness_of_eyes",
          "sinus_pressure",
          "runny_nose",
          "congestion",
          "chest_pain",
          "weakness_in_limbs",
          "fast_heart_rate",
          "pain_during_bowel_movements",
          "pain_in_anal_region",
          "bloody_stool",
          "irritation_in_anus",
          "neck_pain",
          "dizziness",
          "cramps",
          "bruising",
          "obesity",
          "swollen_legs",
          "swollen_blood_vessels",
          "puffy_face_and_eyes",
          "enlarged_thyroid",
          "brittle_nails",
          "swollen_extremeties",
          "excessive_hunger",
          "extra_marital_contacts",
          "drying_and_tingling_lips",
          "slurred_speech",
          "knee_pain",
          "hip_joint_pain",
          "muscle_weakness",
          "stiff_neck",
          "swelling_joints",
          "movement_stiffness",
          "spinning_movements",
          "loss_of_balance",
          "unsteadiness",
          "weakness_of_one_body_side",
          "loss_of_smell",
          "bladder_discomfort",
          "foul_smell_of urine",
          "continuous_feel_of_urine",
          "passage_of_gases",
          "internal_itching",
          "toxic_look_(typhos)",
          "depression",
          "irritability",
          "muscle_pain",
          "altered_sensorium",
          "red_spots_over_body",
          "belly_pain",
          "abnormal_menstruation",
          "dischromic _patches",
          "watering_from_eyes",
          "increased_appetite",
          "polyuria",
          "family_history",
          "mucoid_sputum",
          "rusty_sputum",
          "lack_of_concentration",
          "visual_disturbances",
          "receiving_blood_transfusion",
          "receiving_unsterile_injections",
          "coma",
          "stomach_bleeding",
          "distention_of_abdomen",
          "history_of_alcohol_consumption",
          "fluid_overload.1",
          "blood_in_sputum",
          "prominent_veins_on_calf",
          "palpitations",
          "painful_walking",
          "pus_filled_pimples",
          "blackheads",
          "scurring",
          "skin_peeling",
          "silver_like_dusting",
          "small_dents_in_nails",
          "inflammatory_nails",
          "blister",
          "red_sore_around_nose",
          "yellow_crust_ooze"
         ],
         "yaxis": "y"
        }
       ],
       "layout": {
        "barmode": "relative",
        "coloraxis": {
         "colorbar": {
          "title": {
           "text": "color"
          }
         },
         "colorscale": [
          [
           0,
           "#b7d2e8"
          ],
          [
           1,
           "#295981"
          ]
         ]
        },
        "legend": {
         "tracegroupgap": 0
        },
        "shapes": [
         {
          "line": {
           "color": "red",
           "width": 0.8
          },
          "type": "line",
          "x0": 0.008152902877700312,
          "x1": 0.008152902877700312,
          "xref": "x",
          "y0": 0,
          "y1": 1,
          "yref": "y domain"
         },
         {
          "fillcolor": "red",
          "line": {
           "width": 0
          },
          "opacity": 0.2,
          "type": "rect",
          "x0": 0.008152902877700312,
          "x1": 0,
          "xref": "x",
          "y0": 0,
          "y1": 1,
          "yref": "y domain"
         }
        ],
        "template": {
         "data": {
          "bar": [
           {
            "error_x": {
             "color": "#2a3f5f"
            },
            "error_y": {
             "color": "#2a3f5f"
            },
            "marker": {
             "line": {
              "color": "#E5ECF6",
              "width": 0.5
             },
             "pattern": {
              "fillmode": "overlay",
              "size": 10,
              "solidity": 0.2
             }
            },
            "type": "bar"
           }
          ],
          "barpolar": [
           {
            "marker": {
             "line": {
              "color": "#E5ECF6",
              "width": 0.5
             },
             "pattern": {
              "fillmode": "overlay",
              "size": 10,
              "solidity": 0.2
             }
            },
            "type": "barpolar"
           }
          ],
          "carpet": [
           {
            "aaxis": {
             "endlinecolor": "#2a3f5f",
             "gridcolor": "white",
             "linecolor": "white",
             "minorgridcolor": "white",
             "startlinecolor": "#2a3f5f"
            },
            "baxis": {
             "endlinecolor": "#2a3f5f",
             "gridcolor": "white",
             "linecolor": "white",
             "minorgridcolor": "white",
             "startlinecolor": "#2a3f5f"
            },
            "type": "carpet"
           }
          ],
          "choropleth": [
           {
            "colorbar": {
             "outlinewidth": 0,
             "ticks": ""
            },
            "type": "choropleth"
           }
          ],
          "contour": [
           {
            "colorbar": {
             "outlinewidth": 0,
             "ticks": ""
            },
            "colorscale": [
             [
              0,
              "#0d0887"
             ],
             [
              0.1111111111111111,
              "#46039f"
             ],
             [
              0.2222222222222222,
              "#7201a8"
             ],
             [
              0.3333333333333333,
              "#9c179e"
             ],
             [
              0.4444444444444444,
              "#bd3786"
             ],
             [
              0.5555555555555556,
              "#d8576b"
             ],
             [
              0.6666666666666666,
              "#ed7953"
             ],
             [
              0.7777777777777778,
              "#fb9f3a"
             ],
             [
              0.8888888888888888,
              "#fdca26"
             ],
             [
              1,
              "#f0f921"
             ]
            ],
            "type": "contour"
           }
          ],
          "contourcarpet": [
           {
            "colorbar": {
             "outlinewidth": 0,
             "ticks": ""
            },
            "type": "contourcarpet"
           }
          ],
          "heatmap": [
           {
            "colorbar": {
             "outlinewidth": 0,
             "ticks": ""
            },
            "colorscale": [
             [
              0,
              "#0d0887"
             ],
             [
              0.1111111111111111,
              "#46039f"
             ],
             [
              0.2222222222222222,
              "#7201a8"
             ],
             [
              0.3333333333333333,
              "#9c179e"
             ],
             [
              0.4444444444444444,
              "#bd3786"
             ],
             [
              0.5555555555555556,
              "#d8576b"
             ],
             [
              0.6666666666666666,
              "#ed7953"
             ],
             [
              0.7777777777777778,
              "#fb9f3a"
             ],
             [
              0.8888888888888888,
              "#fdca26"
             ],
             [
              1,
              "#f0f921"
             ]
            ],
            "type": "heatmap"
           }
          ],
          "heatmapgl": [
           {
            "colorbar": {
             "outlinewidth": 0,
             "ticks": ""
            },
            "colorscale": [
             [
              0,
              "#0d0887"
             ],
             [
              0.1111111111111111,
              "#46039f"
             ],
             [
              0.2222222222222222,
              "#7201a8"
             ],
             [
              0.3333333333333333,
              "#9c179e"
             ],
             [
              0.4444444444444444,
              "#bd3786"
             ],
             [
              0.5555555555555556,
              "#d8576b"
             ],
             [
              0.6666666666666666,
              "#ed7953"
             ],
             [
              0.7777777777777778,
              "#fb9f3a"
             ],
             [
              0.8888888888888888,
              "#fdca26"
             ],
             [
              1,
              "#f0f921"
             ]
            ],
            "type": "heatmapgl"
           }
          ],
          "histogram": [
           {
            "marker": {
             "pattern": {
              "fillmode": "overlay",
              "size": 10,
              "solidity": 0.2
             }
            },
            "type": "histogram"
           }
          ],
          "histogram2d": [
           {
            "colorbar": {
             "outlinewidth": 0,
             "ticks": ""
            },
            "colorscale": [
             [
              0,
              "#0d0887"
             ],
             [
              0.1111111111111111,
              "#46039f"
             ],
             [
              0.2222222222222222,
              "#7201a8"
             ],
             [
              0.3333333333333333,
              "#9c179e"
             ],
             [
              0.4444444444444444,
              "#bd3786"
             ],
             [
              0.5555555555555556,
              "#d8576b"
             ],
             [
              0.6666666666666666,
              "#ed7953"
             ],
             [
              0.7777777777777778,
              "#fb9f3a"
             ],
             [
              0.8888888888888888,
              "#fdca26"
             ],
             [
              1,
              "#f0f921"
             ]
            ],
            "type": "histogram2d"
           }
          ],
          "histogram2dcontour": [
           {
            "colorbar": {
             "outlinewidth": 0,
             "ticks": ""
            },
            "colorscale": [
             [
              0,
              "#0d0887"
             ],
             [
              0.1111111111111111,
              "#46039f"
             ],
             [
              0.2222222222222222,
              "#7201a8"
             ],
             [
              0.3333333333333333,
              "#9c179e"
             ],
             [
              0.4444444444444444,
              "#bd3786"
             ],
             [
              0.5555555555555556,
              "#d8576b"
             ],
             [
              0.6666666666666666,
              "#ed7953"
             ],
             [
              0.7777777777777778,
              "#fb9f3a"
             ],
             [
              0.8888888888888888,
              "#fdca26"
             ],
             [
              1,
              "#f0f921"
             ]
            ],
            "type": "histogram2dcontour"
           }
          ],
          "mesh3d": [
           {
            "colorbar": {
             "outlinewidth": 0,
             "ticks": ""
            },
            "type": "mesh3d"
           }
          ],
          "parcoords": [
           {
            "line": {
             "colorbar": {
              "outlinewidth": 0,
              "ticks": ""
             }
            },
            "type": "parcoords"
           }
          ],
          "pie": [
           {
            "automargin": true,
            "type": "pie"
           }
          ],
          "scatter": [
           {
            "marker": {
             "colorbar": {
              "outlinewidth": 0,
              "ticks": ""
             }
            },
            "type": "scatter"
           }
          ],
          "scatter3d": [
           {
            "line": {
             "colorbar": {
              "outlinewidth": 0,
              "ticks": ""
             }
            },
            "marker": {
             "colorbar": {
              "outlinewidth": 0,
              "ticks": ""
             }
            },
            "type": "scatter3d"
           }
          ],
          "scattercarpet": [
           {
            "marker": {
             "colorbar": {
              "outlinewidth": 0,
              "ticks": ""
             }
            },
            "type": "scattercarpet"
           }
          ],
          "scattergeo": [
           {
            "marker": {
             "colorbar": {
              "outlinewidth": 0,
              "ticks": ""
             }
            },
            "type": "scattergeo"
           }
          ],
          "scattergl": [
           {
            "marker": {
             "colorbar": {
              "outlinewidth": 0,
              "ticks": ""
             }
            },
            "type": "scattergl"
           }
          ],
          "scattermapbox": [
           {
            "marker": {
             "colorbar": {
              "outlinewidth": 0,
              "ticks": ""
             }
            },
            "type": "scattermapbox"
           }
          ],
          "scatterpolar": [
           {
            "marker": {
             "colorbar": {
              "outlinewidth": 0,
              "ticks": ""
             }
            },
            "type": "scatterpolar"
           }
          ],
          "scatterpolargl": [
           {
            "marker": {
             "colorbar": {
              "outlinewidth": 0,
              "ticks": ""
             }
            },
            "type": "scatterpolargl"
           }
          ],
          "scatterternary": [
           {
            "marker": {
             "colorbar": {
              "outlinewidth": 0,
              "ticks": ""
             }
            },
            "type": "scatterternary"
           }
          ],
          "surface": [
           {
            "colorbar": {
             "outlinewidth": 0,
             "ticks": ""
            },
            "colorscale": [
             [
              0,
              "#0d0887"
             ],
             [
              0.1111111111111111,
              "#46039f"
             ],
             [
              0.2222222222222222,
              "#7201a8"
             ],
             [
              0.3333333333333333,
              "#9c179e"
             ],
             [
              0.4444444444444444,
              "#bd3786"
             ],
             [
              0.5555555555555556,
              "#d8576b"
             ],
             [
              0.6666666666666666,
              "#ed7953"
             ],
             [
              0.7777777777777778,
              "#fb9f3a"
             ],
             [
              0.8888888888888888,
              "#fdca26"
             ],
             [
              1,
              "#f0f921"
             ]
            ],
            "type": "surface"
           }
          ],
          "table": [
           {
            "cells": {
             "fill": {
              "color": "#EBF0F8"
             },
             "line": {
              "color": "white"
             }
            },
            "header": {
             "fill": {
              "color": "#C8D4E3"
             },
             "line": {
              "color": "white"
             }
            },
            "type": "table"
           }
          ]
         },
         "layout": {
          "annotationdefaults": {
           "arrowcolor": "#2a3f5f",
           "arrowhead": 0,
           "arrowwidth": 1
          },
          "autotypenumbers": "strict",
          "coloraxis": {
           "colorbar": {
            "outlinewidth": 0,
            "ticks": ""
           }
          },
          "colorscale": {
           "diverging": [
            [
             0,
             "#8e0152"
            ],
            [
             0.1,
             "#c51b7d"
            ],
            [
             0.2,
             "#de77ae"
            ],
            [
             0.3,
             "#f1b6da"
            ],
            [
             0.4,
             "#fde0ef"
            ],
            [
             0.5,
             "#f7f7f7"
            ],
            [
             0.6,
             "#e6f5d0"
            ],
            [
             0.7,
             "#b8e186"
            ],
            [
             0.8,
             "#7fbc41"
            ],
            [
             0.9,
             "#4d9221"
            ],
            [
             1,
             "#276419"
            ]
           ],
           "sequential": [
            [
             0,
             "#0d0887"
            ],
            [
             0.1111111111111111,
             "#46039f"
            ],
            [
             0.2222222222222222,
             "#7201a8"
            ],
            [
             0.3333333333333333,
             "#9c179e"
            ],
            [
             0.4444444444444444,
             "#bd3786"
            ],
            [
             0.5555555555555556,
             "#d8576b"
            ],
            [
             0.6666666666666666,
             "#ed7953"
            ],
            [
             0.7777777777777778,
             "#fb9f3a"
            ],
            [
             0.8888888888888888,
             "#fdca26"
            ],
            [
             1,
             "#f0f921"
            ]
           ],
           "sequentialminus": [
            [
             0,
             "#0d0887"
            ],
            [
             0.1111111111111111,
             "#46039f"
            ],
            [
             0.2222222222222222,
             "#7201a8"
            ],
            [
             0.3333333333333333,
             "#9c179e"
            ],
            [
             0.4444444444444444,
             "#bd3786"
            ],
            [
             0.5555555555555556,
             "#d8576b"
            ],
            [
             0.6666666666666666,
             "#ed7953"
            ],
            [
             0.7777777777777778,
             "#fb9f3a"
            ],
            [
             0.8888888888888888,
             "#fdca26"
            ],
            [
             1,
             "#f0f921"
            ]
           ]
          },
          "colorway": [
           "#636efa",
           "#EF553B",
           "#00cc96",
           "#ab63fa",
           "#FFA15A",
           "#19d3f3",
           "#FF6692",
           "#B6E880",
           "#FF97FF",
           "#FECB52"
          ],
          "font": {
           "color": "#2a3f5f"
          },
          "geo": {
           "bgcolor": "white",
           "lakecolor": "white",
           "landcolor": "#E5ECF6",
           "showlakes": true,
           "showland": true,
           "subunitcolor": "white"
          },
          "hoverlabel": {
           "align": "left"
          },
          "hovermode": "closest",
          "mapbox": {
           "style": "light"
          },
          "paper_bgcolor": "white",
          "plot_bgcolor": "#E5ECF6",
          "polar": {
           "angularaxis": {
            "gridcolor": "white",
            "linecolor": "white",
            "ticks": ""
           },
           "bgcolor": "#E5ECF6",
           "radialaxis": {
            "gridcolor": "white",
            "linecolor": "white",
            "ticks": ""
           }
          },
          "scene": {
           "xaxis": {
            "backgroundcolor": "#E5ECF6",
            "gridcolor": "white",
            "gridwidth": 2,
            "linecolor": "white",
            "showbackground": true,
            "ticks": "",
            "zerolinecolor": "white"
           },
           "yaxis": {
            "backgroundcolor": "#E5ECF6",
            "gridcolor": "white",
            "gridwidth": 2,
            "linecolor": "white",
            "showbackground": true,
            "ticks": "",
            "zerolinecolor": "white"
           },
           "zaxis": {
            "backgroundcolor": "#E5ECF6",
            "gridcolor": "white",
            "gridwidth": 2,
            "linecolor": "white",
            "showbackground": true,
            "ticks": "",
            "zerolinecolor": "white"
           }
          },
          "shapedefaults": {
           "line": {
            "color": "#2a3f5f"
           }
          },
          "ternary": {
           "aaxis": {
            "gridcolor": "white",
            "linecolor": "white",
            "ticks": ""
           },
           "baxis": {
            "gridcolor": "white",
            "linecolor": "white",
            "ticks": ""
           },
           "bgcolor": "#E5ECF6",
           "caxis": {
            "gridcolor": "white",
            "linecolor": "white",
            "ticks": ""
           }
          },
          "title": {
           "x": 0.05
          },
          "xaxis": {
           "automargin": true,
           "gridcolor": "white",
           "linecolor": "white",
           "ticks": "",
           "title": {
            "standoff": 15
           },
           "zerolinecolor": "white",
           "zerolinewidth": 2
          },
          "yaxis": {
           "automargin": true,
           "gridcolor": "white",
           "linecolor": "white",
           "ticks": "",
           "title": {
            "standoff": 15
           },
           "zerolinecolor": "white",
           "zerolinewidth": 2
          }
         }
        },
        "title": {
         "text": "Feature Importance For Decision Tree Model"
        },
        "xaxis": {
         "anchor": "y",
         "domain": [
          0,
          1
         ],
         "title": {
          "text": "Importance Value"
         }
        },
        "yaxis": {
         "anchor": "x",
         "domain": [
          0,
          1
         ],
         "title": {
          "text": "Feature"
         }
        }
       }
      },
      "text/html": [
       "<div>                            <div id=\"4f00c14f-1e5f-4165-89fa-c8a03e95836b\" class=\"plotly-graph-div\" style=\"height:525px; width:100%;\"></div>            <script type=\"text/javascript\">                require([\"plotly\"], function(Plotly) {                    window.PLOTLYENV=window.PLOTLYENV || {};                                    if (document.getElementById(\"4f00c14f-1e5f-4165-89fa-c8a03e95836b\")) {                    Plotly.newPlot(                        \"4f00c14f-1e5f-4165-89fa-c8a03e95836b\",                        [{\"alignmentgroup\":\"True\",\"hovertemplate\":\"Importance Value=%{x}<br>Feature=%{y}<br>color=%{marker.color}<extra></extra>\",\"legendgroup\":\"\",\"marker\":{\"color\":[0.031352107468674534,0.05388560713367801,0.0019985022415703727,0.001869553141872825,0.0,0.013700225408702353,0.0,0.00045139649809051264,0.0,0.001260628620974541,0.0,0.09992167401150151,0.0033372933573859527,0.005692711720837167,0.15803004580061003,0.0,0.0,0.0,0.0,0.00045139649809051264,0.0,0.0,0.0007324162087165835,0.0,0.007179809519298213,0.05820276626966607,0.0015245662817359798,0.00290743383661075,0.0021634216171555662,0.0,0.0,0.03256644239906809,0.01703097846773065,0.0050783799938216665,0.03812115457043257,0.06861200101373019,0.0,0.010100704376802227,0.01179992727126626,0.024180874550631802,0.011676027491207087,0.008421706544368655,0.0,0.017884856184721465,0.00045139649809051264,0.0,0.0,0.0,0.029442185365520616,0.0,0.008421706544368655,0.0,0.0,0.0,0.0,0.0,0.040543576714506,0.0009814523445872683,0.0010731697836454674,0.0,0.0006217732855549546,0.0,0.0,0.002655885728137649,0.018721680681224706,0.003966860263359952,0.0,0.0016293790695265534,0.0,0.00045139649809051264,0.0,0.008421706544368655,0.0,0.0010957092453893471,0.0,0.0,0.0,0.012405633005205044,0.00045139649809051264,0.0,0.0,0.008236462112831877,0.02705202820015529,0.0012955576350067593,0.0,0.008606409851549016,0.0027615778482721256,0.0,0.00820036971531098,0.00045139649809051264,0.0,0.013601233731305293,0.0,0.00045139649809051264,0.0,0.0,0.0227838473067714,0.017295037191508,0.004378063409593255,0.0,0.0,0.0,0.0,0.008270225700812452,0.010506369328376073,0.0,0.0009347765709364115,0.0,0.0,0.0,0.0031314856084123477,0.0,0.0,0.01178385971965009,0.0,0.0007324162087165835,0.0012785613759362918,0.0,0.0,0.0,0.0,0.0017605070688742899,0.00264810553556645,0.0021783231420463194,0.0,0.0,0.0,0.0,0.008137080598496755,0.0012955576350067593,0.0,0.010759834940065625],\"coloraxis\":\"coloraxis\",\"pattern\":{\"shape\":\"\"}},\"name\":\"\",\"offsetgroup\":\"\",\"orientation\":\"h\",\"showlegend\":false,\"textposition\":\"auto\",\"x\":[0.031352107468674534,0.05388560713367801,0.0019985022415703727,0.001869553141872825,0.0,0.013700225408702353,0.0,0.00045139649809051264,0.0,0.001260628620974541,0.0,0.09992167401150151,0.0033372933573859527,0.005692711720837167,0.15803004580061003,0.0,0.0,0.0,0.0,0.00045139649809051264,0.0,0.0,0.0007324162087165835,0.0,0.007179809519298213,0.05820276626966607,0.0015245662817359798,0.00290743383661075,0.0021634216171555662,0.0,0.0,0.03256644239906809,0.01703097846773065,0.0050783799938216665,0.03812115457043257,0.06861200101373019,0.0,0.010100704376802227,0.01179992727126626,0.024180874550631802,0.011676027491207087,0.008421706544368655,0.0,0.017884856184721465,0.00045139649809051264,0.0,0.0,0.0,0.029442185365520616,0.0,0.008421706544368655,0.0,0.0,0.0,0.0,0.0,0.040543576714506,0.0009814523445872683,0.0010731697836454674,0.0,0.0006217732855549546,0.0,0.0,0.002655885728137649,0.018721680681224706,0.003966860263359952,0.0,0.0016293790695265534,0.0,0.00045139649809051264,0.0,0.008421706544368655,0.0,0.0010957092453893471,0.0,0.0,0.0,0.012405633005205044,0.00045139649809051264,0.0,0.0,0.008236462112831877,0.02705202820015529,0.0012955576350067593,0.0,0.008606409851549016,0.0027615778482721256,0.0,0.00820036971531098,0.00045139649809051264,0.0,0.013601233731305293,0.0,0.00045139649809051264,0.0,0.0,0.0227838473067714,0.017295037191508,0.004378063409593255,0.0,0.0,0.0,0.0,0.008270225700812452,0.010506369328376073,0.0,0.0009347765709364115,0.0,0.0,0.0,0.0031314856084123477,0.0,0.0,0.01178385971965009,0.0,0.0007324162087165835,0.0012785613759362918,0.0,0.0,0.0,0.0,0.0017605070688742899,0.00264810553556645,0.0021783231420463194,0.0,0.0,0.0,0.0,0.008137080598496755,0.0012955576350067593,0.0,0.010759834940065625],\"xaxis\":\"x\",\"y\":[\"itching\",\"skin_rash\",\"nodal_skin_eruptions\",\"continuous_sneezing\",\"shivering\",\"chills\",\"joint_pain\",\"stomach_pain\",\"acidity\",\"ulcers_on_tongue\",\"muscle_wasting\",\"vomiting\",\"burning_micturition\",\"spotting_ urination\",\"fatigue\",\"weight_gain\",\"anxiety\",\"cold_hands_and_feets\",\"mood_swings\",\"weight_loss\",\"restlessness\",\"lethargy\",\"patches_in_throat\",\"irregular_sugar_level\",\"cough\",\"high_fever\",\"sunken_eyes\",\"breathlessness\",\"sweating\",\"dehydration\",\"indigestion\",\"headache\",\"yellowish_skin\",\"dark_urine\",\"nausea\",\"loss_of_appetite\",\"pain_behind_the_eyes\",\"back_pain\",\"constipation\",\"abdominal_pain\",\"diarrhoea\",\"mild_fever\",\"yellow_urine\",\"yellowing_of_eyes\",\"acute_liver_failure\",\"fluid_overload\",\"swelling_of_stomach\",\"swelled_lymph_nodes\",\"malaise\",\"blurred_and_distorted_vision\",\"phlegm\",\"throat_irritation\",\"redness_of_eyes\",\"sinus_pressure\",\"runny_nose\",\"congestion\",\"chest_pain\",\"weakness_in_limbs\",\"fast_heart_rate\",\"pain_during_bowel_movements\",\"pain_in_anal_region\",\"bloody_stool\",\"irritation_in_anus\",\"neck_pain\",\"dizziness\",\"cramps\",\"bruising\",\"obesity\",\"swollen_legs\",\"swollen_blood_vessels\",\"puffy_face_and_eyes\",\"enlarged_thyroid\",\"brittle_nails\",\"swollen_extremeties\",\"excessive_hunger\",\"extra_marital_contacts\",\"drying_and_tingling_lips\",\"slurred_speech\",\"knee_pain\",\"hip_joint_pain\",\"muscle_weakness\",\"stiff_neck\",\"swelling_joints\",\"movement_stiffness\",\"spinning_movements\",\"loss_of_balance\",\"unsteadiness\",\"weakness_of_one_body_side\",\"loss_of_smell\",\"bladder_discomfort\",\"foul_smell_of urine\",\"continuous_feel_of_urine\",\"passage_of_gases\",\"internal_itching\",\"toxic_look_(typhos)\",\"depression\",\"irritability\",\"muscle_pain\",\"altered_sensorium\",\"red_spots_over_body\",\"belly_pain\",\"abnormal_menstruation\",\"dischromic _patches\",\"watering_from_eyes\",\"increased_appetite\",\"polyuria\",\"family_history\",\"mucoid_sputum\",\"rusty_sputum\",\"lack_of_concentration\",\"visual_disturbances\",\"receiving_blood_transfusion\",\"receiving_unsterile_injections\",\"coma\",\"stomach_bleeding\",\"distention_of_abdomen\",\"history_of_alcohol_consumption\",\"fluid_overload.1\",\"blood_in_sputum\",\"prominent_veins_on_calf\",\"palpitations\",\"painful_walking\",\"pus_filled_pimples\",\"blackheads\",\"scurring\",\"skin_peeling\",\"silver_like_dusting\",\"small_dents_in_nails\",\"inflammatory_nails\",\"blister\",\"red_sore_around_nose\",\"yellow_crust_ooze\"],\"yaxis\":\"y\",\"type\":\"bar\"}],                        {\"template\":{\"data\":{\"bar\":[{\"error_x\":{\"color\":\"#2a3f5f\"},\"error_y\":{\"color\":\"#2a3f5f\"},\"marker\":{\"line\":{\"color\":\"#E5ECF6\",\"width\":0.5},\"pattern\":{\"fillmode\":\"overlay\",\"size\":10,\"solidity\":0.2}},\"type\":\"bar\"}],\"barpolar\":[{\"marker\":{\"line\":{\"color\":\"#E5ECF6\",\"width\":0.5},\"pattern\":{\"fillmode\":\"overlay\",\"size\":10,\"solidity\":0.2}},\"type\":\"barpolar\"}],\"carpet\":[{\"aaxis\":{\"endlinecolor\":\"#2a3f5f\",\"gridcolor\":\"white\",\"linecolor\":\"white\",\"minorgridcolor\":\"white\",\"startlinecolor\":\"#2a3f5f\"},\"baxis\":{\"endlinecolor\":\"#2a3f5f\",\"gridcolor\":\"white\",\"linecolor\":\"white\",\"minorgridcolor\":\"white\",\"startlinecolor\":\"#2a3f5f\"},\"type\":\"carpet\"}],\"choropleth\":[{\"colorbar\":{\"outlinewidth\":0,\"ticks\":\"\"},\"type\":\"choropleth\"}],\"contour\":[{\"colorbar\":{\"outlinewidth\":0,\"ticks\":\"\"},\"colorscale\":[[0.0,\"#0d0887\"],[0.1111111111111111,\"#46039f\"],[0.2222222222222222,\"#7201a8\"],[0.3333333333333333,\"#9c179e\"],[0.4444444444444444,\"#bd3786\"],[0.5555555555555556,\"#d8576b\"],[0.6666666666666666,\"#ed7953\"],[0.7777777777777778,\"#fb9f3a\"],[0.8888888888888888,\"#fdca26\"],[1.0,\"#f0f921\"]],\"type\":\"contour\"}],\"contourcarpet\":[{\"colorbar\":{\"outlinewidth\":0,\"ticks\":\"\"},\"type\":\"contourcarpet\"}],\"heatmap\":[{\"colorbar\":{\"outlinewidth\":0,\"ticks\":\"\"},\"colorscale\":[[0.0,\"#0d0887\"],[0.1111111111111111,\"#46039f\"],[0.2222222222222222,\"#7201a8\"],[0.3333333333333333,\"#9c179e\"],[0.4444444444444444,\"#bd3786\"],[0.5555555555555556,\"#d8576b\"],[0.6666666666666666,\"#ed7953\"],[0.7777777777777778,\"#fb9f3a\"],[0.8888888888888888,\"#fdca26\"],[1.0,\"#f0f921\"]],\"type\":\"heatmap\"}],\"heatmapgl\":[{\"colorbar\":{\"outlinewidth\":0,\"ticks\":\"\"},\"colorscale\":[[0.0,\"#0d0887\"],[0.1111111111111111,\"#46039f\"],[0.2222222222222222,\"#7201a8\"],[0.3333333333333333,\"#9c179e\"],[0.4444444444444444,\"#bd3786\"],[0.5555555555555556,\"#d8576b\"],[0.6666666666666666,\"#ed7953\"],[0.7777777777777778,\"#fb9f3a\"],[0.8888888888888888,\"#fdca26\"],[1.0,\"#f0f921\"]],\"type\":\"heatmapgl\"}],\"histogram\":[{\"marker\":{\"pattern\":{\"fillmode\":\"overlay\",\"size\":10,\"solidity\":0.2}},\"type\":\"histogram\"}],\"histogram2d\":[{\"colorbar\":{\"outlinewidth\":0,\"ticks\":\"\"},\"colorscale\":[[0.0,\"#0d0887\"],[0.1111111111111111,\"#46039f\"],[0.2222222222222222,\"#7201a8\"],[0.3333333333333333,\"#9c179e\"],[0.4444444444444444,\"#bd3786\"],[0.5555555555555556,\"#d8576b\"],[0.6666666666666666,\"#ed7953\"],[0.7777777777777778,\"#fb9f3a\"],[0.8888888888888888,\"#fdca26\"],[1.0,\"#f0f921\"]],\"type\":\"histogram2d\"}],\"histogram2dcontour\":[{\"colorbar\":{\"outlinewidth\":0,\"ticks\":\"\"},\"colorscale\":[[0.0,\"#0d0887\"],[0.1111111111111111,\"#46039f\"],[0.2222222222222222,\"#7201a8\"],[0.3333333333333333,\"#9c179e\"],[0.4444444444444444,\"#bd3786\"],[0.5555555555555556,\"#d8576b\"],[0.6666666666666666,\"#ed7953\"],[0.7777777777777778,\"#fb9f3a\"],[0.8888888888888888,\"#fdca26\"],[1.0,\"#f0f921\"]],\"type\":\"histogram2dcontour\"}],\"mesh3d\":[{\"colorbar\":{\"outlinewidth\":0,\"ticks\":\"\"},\"type\":\"mesh3d\"}],\"parcoords\":[{\"line\":{\"colorbar\":{\"outlinewidth\":0,\"ticks\":\"\"}},\"type\":\"parcoords\"}],\"pie\":[{\"automargin\":true,\"type\":\"pie\"}],\"scatter\":[{\"marker\":{\"colorbar\":{\"outlinewidth\":0,\"ticks\":\"\"}},\"type\":\"scatter\"}],\"scatter3d\":[{\"line\":{\"colorbar\":{\"outlinewidth\":0,\"ticks\":\"\"}},\"marker\":{\"colorbar\":{\"outlinewidth\":0,\"ticks\":\"\"}},\"type\":\"scatter3d\"}],\"scattercarpet\":[{\"marker\":{\"colorbar\":{\"outlinewidth\":0,\"ticks\":\"\"}},\"type\":\"scattercarpet\"}],\"scattergeo\":[{\"marker\":{\"colorbar\":{\"outlinewidth\":0,\"ticks\":\"\"}},\"type\":\"scattergeo\"}],\"scattergl\":[{\"marker\":{\"colorbar\":{\"outlinewidth\":0,\"ticks\":\"\"}},\"type\":\"scattergl\"}],\"scattermapbox\":[{\"marker\":{\"colorbar\":{\"outlinewidth\":0,\"ticks\":\"\"}},\"type\":\"scattermapbox\"}],\"scatterpolar\":[{\"marker\":{\"colorbar\":{\"outlinewidth\":0,\"ticks\":\"\"}},\"type\":\"scatterpolar\"}],\"scatterpolargl\":[{\"marker\":{\"colorbar\":{\"outlinewidth\":0,\"ticks\":\"\"}},\"type\":\"scatterpolargl\"}],\"scatterternary\":[{\"marker\":{\"colorbar\":{\"outlinewidth\":0,\"ticks\":\"\"}},\"type\":\"scatterternary\"}],\"surface\":[{\"colorbar\":{\"outlinewidth\":0,\"ticks\":\"\"},\"colorscale\":[[0.0,\"#0d0887\"],[0.1111111111111111,\"#46039f\"],[0.2222222222222222,\"#7201a8\"],[0.3333333333333333,\"#9c179e\"],[0.4444444444444444,\"#bd3786\"],[0.5555555555555556,\"#d8576b\"],[0.6666666666666666,\"#ed7953\"],[0.7777777777777778,\"#fb9f3a\"],[0.8888888888888888,\"#fdca26\"],[1.0,\"#f0f921\"]],\"type\":\"surface\"}],\"table\":[{\"cells\":{\"fill\":{\"color\":\"#EBF0F8\"},\"line\":{\"color\":\"white\"}},\"header\":{\"fill\":{\"color\":\"#C8D4E3\"},\"line\":{\"color\":\"white\"}},\"type\":\"table\"}]},\"layout\":{\"annotationdefaults\":{\"arrowcolor\":\"#2a3f5f\",\"arrowhead\":0,\"arrowwidth\":1},\"autotypenumbers\":\"strict\",\"coloraxis\":{\"colorbar\":{\"outlinewidth\":0,\"ticks\":\"\"}},\"colorscale\":{\"diverging\":[[0,\"#8e0152\"],[0.1,\"#c51b7d\"],[0.2,\"#de77ae\"],[0.3,\"#f1b6da\"],[0.4,\"#fde0ef\"],[0.5,\"#f7f7f7\"],[0.6,\"#e6f5d0\"],[0.7,\"#b8e186\"],[0.8,\"#7fbc41\"],[0.9,\"#4d9221\"],[1,\"#276419\"]],\"sequential\":[[0.0,\"#0d0887\"],[0.1111111111111111,\"#46039f\"],[0.2222222222222222,\"#7201a8\"],[0.3333333333333333,\"#9c179e\"],[0.4444444444444444,\"#bd3786\"],[0.5555555555555556,\"#d8576b\"],[0.6666666666666666,\"#ed7953\"],[0.7777777777777778,\"#fb9f3a\"],[0.8888888888888888,\"#fdca26\"],[1.0,\"#f0f921\"]],\"sequentialminus\":[[0.0,\"#0d0887\"],[0.1111111111111111,\"#46039f\"],[0.2222222222222222,\"#7201a8\"],[0.3333333333333333,\"#9c179e\"],[0.4444444444444444,\"#bd3786\"],[0.5555555555555556,\"#d8576b\"],[0.6666666666666666,\"#ed7953\"],[0.7777777777777778,\"#fb9f3a\"],[0.8888888888888888,\"#fdca26\"],[1.0,\"#f0f921\"]]},\"colorway\":[\"#636efa\",\"#EF553B\",\"#00cc96\",\"#ab63fa\",\"#FFA15A\",\"#19d3f3\",\"#FF6692\",\"#B6E880\",\"#FF97FF\",\"#FECB52\"],\"font\":{\"color\":\"#2a3f5f\"},\"geo\":{\"bgcolor\":\"white\",\"lakecolor\":\"white\",\"landcolor\":\"#E5ECF6\",\"showlakes\":true,\"showland\":true,\"subunitcolor\":\"white\"},\"hoverlabel\":{\"align\":\"left\"},\"hovermode\":\"closest\",\"mapbox\":{\"style\":\"light\"},\"paper_bgcolor\":\"white\",\"plot_bgcolor\":\"#E5ECF6\",\"polar\":{\"angularaxis\":{\"gridcolor\":\"white\",\"linecolor\":\"white\",\"ticks\":\"\"},\"bgcolor\":\"#E5ECF6\",\"radialaxis\":{\"gridcolor\":\"white\",\"linecolor\":\"white\",\"ticks\":\"\"}},\"scene\":{\"xaxis\":{\"backgroundcolor\":\"#E5ECF6\",\"gridcolor\":\"white\",\"gridwidth\":2,\"linecolor\":\"white\",\"showbackground\":true,\"ticks\":\"\",\"zerolinecolor\":\"white\"},\"yaxis\":{\"backgroundcolor\":\"#E5ECF6\",\"gridcolor\":\"white\",\"gridwidth\":2,\"linecolor\":\"white\",\"showbackground\":true,\"ticks\":\"\",\"zerolinecolor\":\"white\"},\"zaxis\":{\"backgroundcolor\":\"#E5ECF6\",\"gridcolor\":\"white\",\"gridwidth\":2,\"linecolor\":\"white\",\"showbackground\":true,\"ticks\":\"\",\"zerolinecolor\":\"white\"}},\"shapedefaults\":{\"line\":{\"color\":\"#2a3f5f\"}},\"ternary\":{\"aaxis\":{\"gridcolor\":\"white\",\"linecolor\":\"white\",\"ticks\":\"\"},\"baxis\":{\"gridcolor\":\"white\",\"linecolor\":\"white\",\"ticks\":\"\"},\"bgcolor\":\"#E5ECF6\",\"caxis\":{\"gridcolor\":\"white\",\"linecolor\":\"white\",\"ticks\":\"\"}},\"title\":{\"x\":0.05},\"xaxis\":{\"automargin\":true,\"gridcolor\":\"white\",\"linecolor\":\"white\",\"ticks\":\"\",\"title\":{\"standoff\":15},\"zerolinecolor\":\"white\",\"zerolinewidth\":2},\"yaxis\":{\"automargin\":true,\"gridcolor\":\"white\",\"linecolor\":\"white\",\"ticks\":\"\",\"title\":{\"standoff\":15},\"zerolinecolor\":\"white\",\"zerolinewidth\":2}}},\"xaxis\":{\"anchor\":\"y\",\"domain\":[0.0,1.0],\"title\":{\"text\":\"Importance Value\"}},\"yaxis\":{\"anchor\":\"x\",\"domain\":[0.0,1.0],\"title\":{\"text\":\"Feature\"}},\"coloraxis\":{\"colorbar\":{\"title\":{\"text\":\"color\"}},\"colorscale\":[[0,\"#b7d2e8\"],[1,\"#295981\"]]},\"legend\":{\"tracegroupgap\":0},\"title\":{\"text\":\"Feature Importance For Decision Tree Model\"},\"barmode\":\"relative\",\"shapes\":[{\"line\":{\"color\":\"red\",\"width\":0.8},\"type\":\"line\",\"x0\":0.008152902877700312,\"x1\":0.008152902877700312,\"xref\":\"x\",\"y0\":0,\"y1\":1,\"yref\":\"y domain\"},{\"fillcolor\":\"red\",\"line\":{\"width\":0},\"opacity\":0.2,\"type\":\"rect\",\"x0\":0.008152902877700312,\"x1\":0,\"xref\":\"x\",\"y0\":0,\"y1\":1,\"yref\":\"y domain\"}]},                        {\"responsive\": true}                    ).then(function(){\n",
       "                            \n",
       "var gd = document.getElementById('4f00c14f-1e5f-4165-89fa-c8a03e95836b');\n",
       "var x = new MutationObserver(function (mutations, observer) {{\n",
       "        var display = window.getComputedStyle(gd).display;\n",
       "        if (!display || display === 'none') {{\n",
       "            console.log([gd, 'removed!']);\n",
       "            Plotly.purge(gd);\n",
       "            observer.disconnect();\n",
       "        }}\n",
       "}});\n",
       "\n",
       "// Listen for the removal of the full notebook cells\n",
       "var notebookContainer = gd.closest('#notebook-container');\n",
       "if (notebookContainer) {{\n",
       "    x.observe(notebookContainer, {childList: true});\n",
       "}}\n",
       "\n",
       "// Listen for the clearing of the current output cell\n",
       "var outputEl = gd.closest('.output');\n",
       "if (outputEl) {{\n",
       "    x.observe(outputEl, {childList: true});\n",
       "}}\n",
       "\n",
       "                        })                };                });            </script>        </div>"
      ]
     },
     "metadata": {},
     "output_type": "display_data"
    }
   ],
   "source": [
    "coefficients = classifierDT.feature_importances_\n",
    "\n",
    "# set a minimum threshold for feature importance\n",
    "importance_threshold = np.quantile(coefficients, q = 0.75)\n",
    "import plotly.express as px\n",
    "\n",
    "# barplot of feature importance\n",
    "fig = px.bar(x = coefficients, y = columns, orientation = 'h', color = coefficients, \n",
    "             color_continuous_scale = [(0, '#b7d2e8'), (1, '#295981')], labels = {'x': \"Importance Value\", 'y': \"Feature\"}, \n",
    "             title = \"Feature Importance For Decision Tree Model\")\n",
    "\n",
    "# cut off value as the minimum threshold for feature importance\n",
    "fig.add_vline(x = importance_threshold, line_color = 'red', line_width = 0.8)\n",
    "fig.add_vrect(x0 = importance_threshold, x1 = 0, line_width = 0, fillcolor = 'red', opacity = 0.2)\n",
    "fig.show()"
   ]
  },
  {
   "cell_type": "code",
   "execution_count": null,
   "metadata": {},
   "outputs": [],
   "source": []
  },
  {
   "cell_type": "code",
   "execution_count": 192,
   "metadata": {},
   "outputs": [
    {
     "data": {
      "text/plain": [
       "['nodal_skin_eruptions',\n",
       " 'continuous_sneezing',\n",
       " 'shivering',\n",
       " 'joint_pain',\n",
       " 'stomach_pain',\n",
       " 'acidity',\n",
       " 'ulcers_on_tongue',\n",
       " 'muscle_wasting',\n",
       " 'burning_micturition',\n",
       " 'spotting_ urination',\n",
       " 'weight_gain',\n",
       " 'anxiety',\n",
       " 'cold_hands_and_feets',\n",
       " 'mood_swings',\n",
       " 'weight_loss',\n",
       " 'restlessness',\n",
       " 'lethargy',\n",
       " 'patches_in_throat',\n",
       " 'irregular_sugar_level',\n",
       " 'cough',\n",
       " 'sunken_eyes',\n",
       " 'breathlessness',\n",
       " 'sweating',\n",
       " 'dehydration',\n",
       " 'indigestion',\n",
       " 'dark_urine',\n",
       " 'pain_behind_the_eyes',\n",
       " 'yellow_urine',\n",
       " 'acute_liver_failure',\n",
       " 'fluid_overload',\n",
       " 'swelling_of_stomach',\n",
       " 'swelled_lymph_nodes',\n",
       " 'blurred_and_distorted_vision',\n",
       " 'throat_irritation',\n",
       " 'redness_of_eyes',\n",
       " 'sinus_pressure',\n",
       " 'runny_nose',\n",
       " 'congestion',\n",
       " 'weakness_in_limbs',\n",
       " 'fast_heart_rate',\n",
       " 'pain_during_bowel_movements',\n",
       " 'pain_in_anal_region',\n",
       " 'bloody_stool',\n",
       " 'irritation_in_anus',\n",
       " 'neck_pain',\n",
       " 'cramps',\n",
       " 'bruising',\n",
       " 'obesity',\n",
       " 'swollen_legs',\n",
       " 'swollen_blood_vessels',\n",
       " 'puffy_face_and_eyes',\n",
       " 'brittle_nails',\n",
       " 'swollen_extremeties',\n",
       " 'excessive_hunger',\n",
       " 'extra_marital_contacts',\n",
       " 'drying_and_tingling_lips',\n",
       " 'knee_pain',\n",
       " 'hip_joint_pain',\n",
       " 'muscle_weakness',\n",
       " 'movement_stiffness',\n",
       " 'spinning_movements',\n",
       " 'unsteadiness',\n",
       " 'weakness_of_one_body_side',\n",
       " 'bladder_discomfort',\n",
       " 'foul_smell_of urine',\n",
       " 'passage_of_gases',\n",
       " 'internal_itching',\n",
       " 'toxic_look_(typhos)',\n",
       " 'depression',\n",
       " 'altered_sensorium',\n",
       " 'red_spots_over_body',\n",
       " 'belly_pain',\n",
       " 'abnormal_menstruation',\n",
       " 'dischromic _patches',\n",
       " 'polyuria',\n",
       " 'family_history',\n",
       " 'mucoid_sputum',\n",
       " 'rusty_sputum',\n",
       " 'lack_of_concentration',\n",
       " 'visual_disturbances',\n",
       " 'receiving_blood_transfusion',\n",
       " 'receiving_unsterile_injections',\n",
       " 'stomach_bleeding',\n",
       " 'distention_of_abdomen',\n",
       " 'history_of_alcohol_consumption',\n",
       " 'fluid_overload.1',\n",
       " 'blood_in_sputum',\n",
       " 'prominent_veins_on_calf',\n",
       " 'palpitations',\n",
       " 'painful_walking',\n",
       " 'pus_filled_pimples',\n",
       " 'blackheads',\n",
       " 'scurring',\n",
       " 'skin_peeling',\n",
       " 'silver_like_dusting',\n",
       " 'small_dents_in_nails',\n",
       " 'inflammatory_nails',\n",
       " 'blister',\n",
       " 'red_sore_around_nose']"
      ]
     },
     "execution_count": 192,
     "metadata": {},
     "output_type": "execute_result"
    }
   ],
   "source": [
    "# identify features with feature importance values below the minimum threshold\n",
    "low_importance_features = np.array(df3.symptom[np.abs(coefficients) <= importance_threshold])\n",
    "columns = list(low_importance_features)\n",
    "columns"
   ]
  },
  {
   "cell_type": "code",
   "execution_count": 193,
   "metadata": {},
   "outputs": [
    {
     "name": "stdout",
     "output_type": "stream",
     "text": [
      "<class 'pandas.core.frame.DataFrame'>\n",
      "RangeIndex: 4962 entries, 0 to 4961\n",
      "Data columns (total 34 columns):\n",
      " #   Column                    Non-Null Count  Dtype \n",
      "---  ------                    --------------  ----- \n",
      " 0   itching                   4962 non-null   int64 \n",
      " 1   skin_rash                 4962 non-null   int64 \n",
      " 2   chills                    4962 non-null   int64 \n",
      " 3   vomiting                  4962 non-null   int64 \n",
      " 4   fatigue                   4962 non-null   int64 \n",
      " 5   high_fever                4962 non-null   int64 \n",
      " 6   headache                  4962 non-null   int64 \n",
      " 7   yellowish_skin            4962 non-null   int64 \n",
      " 8   nausea                    4962 non-null   int64 \n",
      " 9   loss_of_appetite          4962 non-null   int64 \n",
      " 10  back_pain                 4962 non-null   int64 \n",
      " 11  constipation              4962 non-null   int64 \n",
      " 12  abdominal_pain            4962 non-null   int64 \n",
      " 13  diarrhoea                 4962 non-null   int64 \n",
      " 14  mild_fever                4962 non-null   int64 \n",
      " 15  yellowing_of_eyes         4962 non-null   int64 \n",
      " 16  malaise                   4962 non-null   int64 \n",
      " 17  phlegm                    4962 non-null   int64 \n",
      " 18  chest_pain                4962 non-null   int64 \n",
      " 19  dizziness                 4962 non-null   int64 \n",
      " 20  enlarged_thyroid          4962 non-null   int64 \n",
      " 21  slurred_speech            4962 non-null   int64 \n",
      " 22  stiff_neck                4962 non-null   int64 \n",
      " 23  swelling_joints           4962 non-null   int64 \n",
      " 24  loss_of_balance           4962 non-null   int64 \n",
      " 25  loss_of_smell             4962 non-null   int64 \n",
      " 26  continuous_feel_of_urine  4962 non-null   int64 \n",
      " 27  irritability              4962 non-null   int64 \n",
      " 28  muscle_pain               4962 non-null   int64 \n",
      " 29  watering_from_eyes        4962 non-null   int64 \n",
      " 30  increased_appetite        4962 non-null   int64 \n",
      " 31  coma                      4962 non-null   int64 \n",
      " 32  yellow_crust_ooze         4962 non-null   int64 \n",
      " 33  prognosis                 4962 non-null   object\n",
      "dtypes: int64(33), object(1)\n",
      "memory usage: 1.3+ MB\n"
     ]
    }
   ],
   "source": [
    "for i in columns :\n",
    "    # drop low importance features\n",
    "    dftrain.drop(i, axis=1, inplace=True)\n",
    "    dftest.drop(i, axis=1, inplace=True)\n",
    "dftrain.info()"
   ]
  },
  {
   "cell_type": "code",
   "execution_count": 194,
   "metadata": {},
   "outputs": [
    {
     "name": "stdout",
     "output_type": "stream",
     "text": [
      "<class 'pandas.core.frame.DataFrame'>\n",
      "RangeIndex: 42 entries, 0 to 41\n",
      "Data columns (total 34 columns):\n",
      " #   Column                    Non-Null Count  Dtype \n",
      "---  ------                    --------------  ----- \n",
      " 0   itching                   42 non-null     int64 \n",
      " 1   skin_rash                 42 non-null     int64 \n",
      " 2   chills                    42 non-null     int64 \n",
      " 3   vomiting                  42 non-null     int64 \n",
      " 4   fatigue                   42 non-null     int64 \n",
      " 5   high_fever                42 non-null     int64 \n",
      " 6   headache                  42 non-null     int64 \n",
      " 7   yellowish_skin            42 non-null     int64 \n",
      " 8   nausea                    42 non-null     int64 \n",
      " 9   loss_of_appetite          42 non-null     int64 \n",
      " 10  back_pain                 42 non-null     int64 \n",
      " 11  constipation              42 non-null     int64 \n",
      " 12  abdominal_pain            42 non-null     int64 \n",
      " 13  diarrhoea                 42 non-null     int64 \n",
      " 14  mild_fever                42 non-null     int64 \n",
      " 15  yellowing_of_eyes         42 non-null     int64 \n",
      " 16  malaise                   42 non-null     int64 \n",
      " 17  phlegm                    42 non-null     int64 \n",
      " 18  chest_pain                42 non-null     int64 \n",
      " 19  dizziness                 42 non-null     int64 \n",
      " 20  enlarged_thyroid          42 non-null     int64 \n",
      " 21  slurred_speech            42 non-null     int64 \n",
      " 22  stiff_neck                42 non-null     int64 \n",
      " 23  swelling_joints           42 non-null     int64 \n",
      " 24  loss_of_balance           42 non-null     int64 \n",
      " 25  loss_of_smell             42 non-null     int64 \n",
      " 26  continuous_feel_of_urine  42 non-null     int64 \n",
      " 27  irritability              42 non-null     int64 \n",
      " 28  muscle_pain               42 non-null     int64 \n",
      " 29  watering_from_eyes        42 non-null     int64 \n",
      " 30  increased_appetite        42 non-null     int64 \n",
      " 31  coma                      42 non-null     int64 \n",
      " 32  yellow_crust_ooze         42 non-null     int64 \n",
      " 33  prognosis                 42 non-null     object\n",
      "dtypes: int64(33), object(1)\n",
      "memory usage: 11.3+ KB\n"
     ]
    }
   ],
   "source": [
    "dftest.info()"
   ]
  },
  {
   "cell_type": "markdown",
   "metadata": {},
   "source": [
    "The final datasets contains 33 columns of predictors, out of the original 132. These are fed into the DT model with the parameter of best split, the criterion of entropy, and the minimum number of 2 leaves. The performance metrics of test accuracy, precision, recall, and F1-score are measured again for this new model."
   ]
  },
  {
   "cell_type": "code",
   "execution_count": 195,
   "metadata": {},
   "outputs": [
    {
     "data": {
      "text/plain": [
       "DecisionTreeClassifier(criterion='entropy', min_samples_leaf=2)"
      ]
     },
     "execution_count": 195,
     "metadata": {},
     "output_type": "execute_result"
    }
   ],
   "source": [
    "# split dataset into attributes and labels\n",
    "X_train = dftrain.iloc[:, :-1].values # the training attributes\n",
    "y_train = dftrain.iloc[:, 33].values # the training labels\n",
    "X_test = dftest.iloc[:, :-1].values # the testing attributes\n",
    "y_test = dftest.iloc[:, 33].values # the testing labels\n",
    "\n",
    "# using DT based on information gain\n",
    "classifierDT = DecisionTreeClassifier(splitter='best', criterion='entropy', min_samples_leaf=2)\n",
    "classifierDT.fit(X_train, y_train)"
   ]
  },
  {
   "cell_type": "code",
   "execution_count": 196,
   "metadata": {},
   "outputs": [
    {
     "name": "stdout",
     "output_type": "stream",
     "text": [
      "[[1 0 0 ... 0 0 0]\n",
      " [0 1 0 ... 0 0 0]\n",
      " [0 0 1 ... 0 0 0]\n",
      " ...\n",
      " [0 0 0 ... 1 0 0]\n",
      " [0 0 0 ... 0 1 0]\n",
      " [0 0 0 ... 0 0 1]]\n",
      "                                         precision    recall  f1-score   support\n",
      "\n",
      "(vertigo) Paroymsal  Positional Vertigo       1.00      1.00      1.00         1\n",
      "                                   AIDS       1.00      1.00      1.00         1\n",
      "                                   Acne       0.50      1.00      0.67         1\n",
      "                    Alcoholic hepatitis       1.00      1.00      1.00         1\n",
      "                                Allergy       1.00      1.00      1.00         1\n",
      "                              Arthritis       1.00      1.00      1.00         1\n",
      "                       Bronchial Asthma       1.00      1.00      1.00         1\n",
      "                   Cervical spondylosis       1.00      1.00      1.00         1\n",
      "                            Chicken pox       1.00      1.00      1.00         1\n",
      "                    Chronic cholestasis       1.00      1.00      1.00         1\n",
      "                            Common Cold       1.00      1.00      1.00         1\n",
      "                                 Dengue       1.00      1.00      1.00         1\n",
      "                              Diabetes        1.00      1.00      1.00         1\n",
      "           Dimorphic hemmorhoids(piles)       1.00      1.00      1.00         1\n",
      "                          Drug Reaction       0.33      1.00      0.50         1\n",
      "                       Fungal infection       0.00      0.00      0.00         2\n",
      "                                   GERD       0.50      1.00      0.67         1\n",
      "                        Gastroenteritis       1.00      1.00      1.00         1\n",
      "                           Heart attack       0.00      0.00      0.00         1\n",
      "                            Hepatitis B       1.00      1.00      1.00         1\n",
      "                            Hepatitis C       1.00      1.00      1.00         1\n",
      "                            Hepatitis D       1.00      1.00      1.00         1\n",
      "                            Hepatitis E       1.00      1.00      1.00         1\n",
      "                          Hypertension        1.00      1.00      1.00         1\n",
      "                        Hyperthyroidism       1.00      1.00      1.00         1\n",
      "                           Hypoglycemia       1.00      1.00      1.00         1\n",
      "                         Hypothyroidism       1.00      1.00      1.00         1\n",
      "                               Impetigo       1.00      1.00      1.00         1\n",
      "                               Jaundice       1.00      1.00      1.00         1\n",
      "                                Malaria       1.00      1.00      1.00         1\n",
      "                               Migraine       1.00      1.00      1.00         1\n",
      "                        Osteoarthristis       1.00      1.00      1.00         1\n",
      "           Paralysis (brain hemorrhage)       1.00      1.00      1.00         1\n",
      "                    Peptic ulcer diseae       1.00      1.00      1.00         1\n",
      "                              Pneumonia       1.00      1.00      1.00         1\n",
      "                              Psoriasis       0.00      0.00      0.00         1\n",
      "                           Tuberculosis       1.00      1.00      1.00         1\n",
      "                                Typhoid       1.00      1.00      1.00         1\n",
      "                Urinary tract infection       1.00      1.00      1.00         1\n",
      "                         Varicose veins       1.00      1.00      1.00         1\n",
      "                            hepatitis A       1.00      1.00      1.00         1\n",
      "\n",
      "                               accuracy                           0.90        42\n",
      "                              macro avg       0.89      0.93      0.90        42\n",
      "                           weighted avg       0.87      0.90      0.88        42\n",
      "\n",
      "Train Accuracy:  0.9097138250705361\n",
      "Test Accuracy:  0.9047619047619048\n"
     ]
    },
    {
     "name": "stderr",
     "output_type": "stream",
     "text": [
      "C:\\Users\\sukha\\anaconda3\\lib\\site-packages\\sklearn\\metrics\\_classification.py:1221: UndefinedMetricWarning:\n",
      "\n",
      "Precision and F-score are ill-defined and being set to 0.0 in labels with no predicted samples. Use `zero_division` parameter to control this behavior.\n",
      "\n"
     ]
    }
   ],
   "source": [
    "# for DT model\n",
    "y_predDT = classifierDT.predict(X_test)\n",
    "\n",
    "# using confusion matrix\n",
    "print(confusion_matrix(y_test, y_predDT))\n",
    "print(classification_report(y_test, y_predDT))\n",
    "\n",
    "# using accuracy performance metric\n",
    "print(\"Train Accuracy: \", accuracy_score(y_train, classifierDT.predict(X_train)))\n",
    "print(\"Test Accuracy: \", accuracy_score(y_test, y_predDT))"
   ]
  },
  {
   "cell_type": "markdown",
   "metadata": {},
   "source": [
    "DT model has a reduced performance metrics of 95.23% test accuracy. Thus, all the prognosis are not perfectly classified and predicted.\n",
    "\n",
    "In conclusion, the DT model using the parameter of best split, the criterion of entropy, and the minimum number of 2 leaves, is not chosen as the final model for the prediction of disease prognosis using 33 predictors of symptoms."
   ]
  },
  {
   "cell_type": "markdown",
   "metadata": {},
   "source": [
    "# Logistic Regression using feature selection"
   ]
  },
  {
   "cell_type": "code",
   "execution_count": 197,
   "metadata": {},
   "outputs": [],
   "source": [
    "df=pd.read_csv('../Dataset/Training.csv')\n",
    "# Split df into X and y\n",
    "y = df['prognosis']\n",
    "X = df.drop('prognosis', axis=1)"
   ]
  },
  {
   "cell_type": "code",
   "execution_count": 198,
   "metadata": {},
   "outputs": [],
   "source": [
    "X_train, X_test, y_train, y_test = train_test_split(X, y, train_size=0.7, shuffle=True, random_state=1)"
   ]
  },
  {
   "cell_type": "code",
   "execution_count": 199,
   "metadata": {},
   "outputs": [
    {
     "name": "stdout",
     "output_type": "stream",
     "text": [
      "Test Accuracy: 100.00%\n"
     ]
    }
   ],
   "source": [
    "model = LogisticRegression()\n",
    "model.fit(X_train, y_train)\n",
    "\n",
    "print(\"Test Accuracy: {:.2f}%\".format(model.score(X_test, y_test) * 100))"
   ]
  },
  {
   "cell_type": "code",
   "execution_count": 200,
   "metadata": {},
   "outputs": [
    {
     "data": {
      "text/plain": [
       "array([-3.84516267e-16, -7.24014344e-16,  4.00424951e-16, -4.10960222e-16,\n",
       "       -2.18913641e-16, -1.82239048e-15, -2.19336744e-16,  7.89510733e-17,\n",
       "        2.18786710e-16, -1.30273502e-16,  1.91496548e-16,  3.89931989e-16,\n",
       "        4.92999950e-16,  2.91645096e-16, -2.54538937e-15, -9.37300711e-16,\n",
       "        2.82357978e-16, -9.61174314e-16, -1.50370908e-16, -5.21432491e-16,\n",
       "        5.69200852e-16, -1.62945538e-15,  2.73451654e-16, -3.03587186e-16,\n",
       "       -1.42264249e-15, -1.85894660e-15, -1.49101598e-16, -8.21835824e-16,\n",
       "       -1.11699268e-16, -1.75334002e-16,  9.24903785e-16, -1.25915538e-16,\n",
       "        1.00461644e-15,  5.30740763e-16,  1.55431223e-15, -3.00572575e-16,\n",
       "       -5.05862290e-16, -2.11890126e-16,  1.44769021e-15,  1.62742448e-15,\n",
       "        2.17170455e-15, -2.49123215e-16,  2.86864028e-17,  2.30168188e-16,\n",
       "        1.34716087e-16,  0.00000000e+00,  4.09056258e-16, -1.38921733e-15,\n",
       "       -2.43504404e-15,  4.96215535e-16, -1.48796964e-15, -2.70828414e-16,\n",
       "       -2.70828414e-16, -2.70828414e-16, -2.70828414e-16, -2.70828414e-16,\n",
       "       -2.17965889e-15,  3.29470529e-16,  3.05692125e-16,  9.36242953e-16,\n",
       "        9.39797021e-16,  9.16737892e-16,  9.79018695e-16, -1.34969948e-16,\n",
       "       -8.60930568e-16, -8.83894499e-16, -8.55218674e-16, -1.16643230e-15,\n",
       "       -8.49802952e-16, -8.84920524e-16, -9.64030261e-16, -9.80139919e-16,\n",
       "       -9.80139919e-16, -9.80139919e-16,  1.28471082e-15,  3.71653927e-16,\n",
       "        2.65285761e-16,  2.70638017e-16, -5.49695790e-16, -5.42926138e-16,\n",
       "        1.30561212e-15,  9.13606927e-16, -6.16038386e-17,  4.48235622e-16,\n",
       "        4.20606977e-16,  3.90778196e-16,  3.25789531e-16, -1.09160648e-17,\n",
       "       -2.70828414e-16,  2.17686641e-16,  1.73556968e-16,  2.42353563e-16,\n",
       "        4.71506303e-16,  4.51197345e-16,  4.99896533e-16, -5.40197121e-16,\n",
       "        6.54879267e-16,  2.05797439e-16,  3.30020564e-17, -9.72122112e-16,\n",
       "        4.98965706e-16, -1.22065298e-16,  2.93168267e-16, -2.23186984e-16,\n",
       "       -2.52254180e-16, -2.52254180e-16,  6.22300314e-16,  4.16555763e-16,\n",
       "       -4.61436445e-16, -3.10896295e-16,  4.55788016e-16,  1.25238573e-17,\n",
       "        1.25238573e-17,  1.19484368e-16,  1.19484368e-16,  3.69453790e-16,\n",
       "        4.11425636e-16,  4.01440399e-16, -7.42207786e-16, -8.49802952e-16,\n",
       "        2.70638017e-16,  4.81491540e-17, -1.41274187e-16, -1.87350135e-16,\n",
       "       -5.33956348e-17, -4.24372597e-16, -4.06856121e-16, -4.12441084e-16,\n",
       "       -4.11848739e-16, -1.57563664e-16, -2.27164155e-16, -1.85467326e-16])"
      ]
     },
     "execution_count": 200,
     "metadata": {},
     "output_type": "execute_result"
    }
   ],
   "source": [
    "coefficients = np.mean(model.coef_, axis=0)\n",
    "coefficients"
   ]
  },
  {
   "cell_type": "code",
   "execution_count": 201,
   "metadata": {},
   "outputs": [
    {
     "data": {
      "application/vnd.plotly.v1+json": {
       "config": {
        "plotlyServerURL": "https://plot.ly"
       },
       "data": [
        {
         "alignmentgroup": "True",
         "hovertemplate": "Coefficient Value=%{x}<br>Feature=%{y}<br>color=%{marker.color}<extra></extra>",
         "legendgroup": "",
         "marker": {
          "color": [
           -3.845162670652981e-16,
           -7.24014344412564e-16,
           4.0042495064986593e-16,
           -4.1096022249177384e-16,
           -2.1891364060253657e-16,
           -1.8223904770066593e-15,
           -2.193367438893602e-16,
           7.895107332128591e-17,
           2.187867096164895e-16,
           -1.3027350201298997e-16,
           1.9149654761636656e-16,
           3.8993198913664035e-16,
           4.929999498068721e-16,
           2.916450956075154e-16,
           -2.5453893735308466e-15,
           -9.373007113003466e-16,
           2.8235797846173715e-16,
           -9.611743142593689e-16,
           -1.5037090813711153e-16,
           -5.214324906814188e-16,
           5.692008517638045e-16,
           -1.6294553782150926e-15,
           2.734516542741001e-16,
           -3.035871858781118e-16,
           -1.4226424916157113e-15,
           -1.8589466009882193e-15,
           -1.491015982766407e-16,
           -8.218358243261829e-16,
           -1.1169926772143343e-16,
           -1.753340020597046e-16,
           9.249037849964146e-16,
           -1.2591553815870677e-16,
           1.0046164442339831e-15,
           5.307407629915382e-16,
           1.5543122344752192e-15,
           -3.005725749594936e-16,
           -5.058622897263099e-16,
           -2.1189012604126462e-16,
           1.447690206195669e-15,
           1.6274244824383392e-15,
           2.171704550608233e-15,
           -2.4912321528174247e-16,
           2.8686402846640857e-17,
           2.3016818803204466e-16,
           1.347160865246379e-16,
           0,
           4.090562577010676e-16,
           -1.389217331956646e-15,
           -2.435044036327249e-15,
           4.962155347867316e-16,
           -1.4879696391012769e-15,
           -2.708284138957937e-16,
           -2.708284138957937e-16,
           -2.708284138957937e-16,
           -2.708284138957937e-16,
           -2.708284138957937e-16,
           -2.179658892400517e-15,
           3.294705294495463e-16,
           3.056921247300593e-16,
           9.362429530832876e-16,
           9.397970206926058e-16,
           9.16737891560719e-16,
           9.790186953811546e-16,
           -1.3496994849673208e-16,
           -8.609305680286847e-16,
           -8.838944989210361e-16,
           -8.552186736565659e-16,
           -1.1664322962796733e-15,
           -8.498029515852237e-16,
           -8.849205243915834e-16,
           -9.640302614454282e-16,
           -9.801399190912372e-16,
           -9.801399190912372e-16,
           -9.801399190912372e-16,
           1.284710820111214e-15,
           3.7165392714586034e-16,
           2.652857608384044e-16,
           2.7063801741672307e-16,
           -5.49695790241236e-16,
           -5.429261376520583e-16,
           1.3056121224803003e-15,
           9.136069272382242e-16,
           -6.160383856151784e-17,
           4.48235622060934e-16,
           4.206069774313522e-16,
           3.907781957102876e-16,
           3.2578953085418086e-16,
           -1.0916064800049177e-17,
           -2.708284138957937e-16,
           2.176866410707481e-16,
           1.7355696825504543e-16,
           2.423535626925647e-16,
           4.715063028362327e-16,
           4.511973450686993e-16,
           4.99896533382097e-16,
           -5.401971214520459e-16,
           6.548792673455858e-16,
           2.0579743871100464e-16,
           3.3002056372241694e-17,
           -9.721221118059297e-16,
           4.98965706151085e-16,
           -1.220652982486119e-16,
           2.931682674400804e-16,
           -2.2318698379945506e-16,
           -2.5225417960423715e-16,
           -2.5225417960423715e-16,
           6.223003142601678e-16,
           4.165557634600161e-16,
           -4.614364446098307e-16,
           -3.108962951579897e-16,
           4.557880157307355e-16,
           1.25238572899789e-17,
           1.25238572899789e-17,
           1.1948436819898788e-16,
           1.1948436819898788e-16,
           3.6945379005437754e-16,
           4.114256361072798e-16,
           4.0144039853824257e-16,
           -7.422077857459793e-16,
           -8.498029515852237e-16,
           2.7063801741672307e-16,
           4.814915404052699e-17,
           -1.4127418747040387e-16,
           -1.8735013540549517e-16,
           -5.339563479713977e-17,
           -4.243725966840823e-16,
           -4.068561206095848e-16,
           -4.1244108399565647e-16,
           -4.118487393941034e-16,
           -1.5756366401311292e-16,
           -2.27164154695597e-16,
           -1.854673257791301e-16
          ],
          "coloraxis": "coloraxis",
          "pattern": {
           "shape": ""
          }
         },
         "name": "",
         "offsetgroup": "",
         "orientation": "h",
         "showlegend": false,
         "textposition": "auto",
         "type": "bar",
         "x": [
          -3.845162670652981e-16,
          -7.24014344412564e-16,
          4.0042495064986593e-16,
          -4.1096022249177384e-16,
          -2.1891364060253657e-16,
          -1.8223904770066593e-15,
          -2.193367438893602e-16,
          7.895107332128591e-17,
          2.187867096164895e-16,
          -1.3027350201298997e-16,
          1.9149654761636656e-16,
          3.8993198913664035e-16,
          4.929999498068721e-16,
          2.916450956075154e-16,
          -2.5453893735308466e-15,
          -9.373007113003466e-16,
          2.8235797846173715e-16,
          -9.611743142593689e-16,
          -1.5037090813711153e-16,
          -5.214324906814188e-16,
          5.692008517638045e-16,
          -1.6294553782150926e-15,
          2.734516542741001e-16,
          -3.035871858781118e-16,
          -1.4226424916157113e-15,
          -1.8589466009882193e-15,
          -1.491015982766407e-16,
          -8.218358243261829e-16,
          -1.1169926772143343e-16,
          -1.753340020597046e-16,
          9.249037849964146e-16,
          -1.2591553815870677e-16,
          1.0046164442339831e-15,
          5.307407629915382e-16,
          1.5543122344752192e-15,
          -3.005725749594936e-16,
          -5.058622897263099e-16,
          -2.1189012604126462e-16,
          1.447690206195669e-15,
          1.6274244824383392e-15,
          2.171704550608233e-15,
          -2.4912321528174247e-16,
          2.8686402846640857e-17,
          2.3016818803204466e-16,
          1.347160865246379e-16,
          0,
          4.090562577010676e-16,
          -1.389217331956646e-15,
          -2.435044036327249e-15,
          4.962155347867316e-16,
          -1.4879696391012769e-15,
          -2.708284138957937e-16,
          -2.708284138957937e-16,
          -2.708284138957937e-16,
          -2.708284138957937e-16,
          -2.708284138957937e-16,
          -2.179658892400517e-15,
          3.294705294495463e-16,
          3.056921247300593e-16,
          9.362429530832876e-16,
          9.397970206926058e-16,
          9.16737891560719e-16,
          9.790186953811546e-16,
          -1.3496994849673208e-16,
          -8.609305680286847e-16,
          -8.838944989210361e-16,
          -8.552186736565659e-16,
          -1.1664322962796733e-15,
          -8.498029515852237e-16,
          -8.849205243915834e-16,
          -9.640302614454282e-16,
          -9.801399190912372e-16,
          -9.801399190912372e-16,
          -9.801399190912372e-16,
          1.284710820111214e-15,
          3.7165392714586034e-16,
          2.652857608384044e-16,
          2.7063801741672307e-16,
          -5.49695790241236e-16,
          -5.429261376520583e-16,
          1.3056121224803003e-15,
          9.136069272382242e-16,
          -6.160383856151784e-17,
          4.48235622060934e-16,
          4.206069774313522e-16,
          3.907781957102876e-16,
          3.2578953085418086e-16,
          -1.0916064800049177e-17,
          -2.708284138957937e-16,
          2.176866410707481e-16,
          1.7355696825504543e-16,
          2.423535626925647e-16,
          4.715063028362327e-16,
          4.511973450686993e-16,
          4.99896533382097e-16,
          -5.401971214520459e-16,
          6.548792673455858e-16,
          2.0579743871100464e-16,
          3.3002056372241694e-17,
          -9.721221118059297e-16,
          4.98965706151085e-16,
          -1.220652982486119e-16,
          2.931682674400804e-16,
          -2.2318698379945506e-16,
          -2.5225417960423715e-16,
          -2.5225417960423715e-16,
          6.223003142601678e-16,
          4.165557634600161e-16,
          -4.614364446098307e-16,
          -3.108962951579897e-16,
          4.557880157307355e-16,
          1.25238572899789e-17,
          1.25238572899789e-17,
          1.1948436819898788e-16,
          1.1948436819898788e-16,
          3.6945379005437754e-16,
          4.114256361072798e-16,
          4.0144039853824257e-16,
          -7.422077857459793e-16,
          -8.498029515852237e-16,
          2.7063801741672307e-16,
          4.814915404052699e-17,
          -1.4127418747040387e-16,
          -1.8735013540549517e-16,
          -5.339563479713977e-17,
          -4.243725966840823e-16,
          -4.068561206095848e-16,
          -4.1244108399565647e-16,
          -4.118487393941034e-16,
          -1.5756366401311292e-16,
          -2.27164154695597e-16,
          -1.854673257791301e-16
         ],
         "xaxis": "x",
         "y": [
          "itching",
          "skin_rash",
          "nodal_skin_eruptions",
          "continuous_sneezing",
          "shivering",
          "chills",
          "joint_pain",
          "stomach_pain",
          "acidity",
          "ulcers_on_tongue",
          "muscle_wasting",
          "vomiting",
          "burning_micturition",
          "spotting_ urination",
          "fatigue",
          "weight_gain",
          "anxiety",
          "cold_hands_and_feets",
          "mood_swings",
          "weight_loss",
          "restlessness",
          "lethargy",
          "patches_in_throat",
          "irregular_sugar_level",
          "cough",
          "high_fever",
          "sunken_eyes",
          "breathlessness",
          "sweating",
          "dehydration",
          "indigestion",
          "headache",
          "yellowish_skin",
          "dark_urine",
          "nausea",
          "loss_of_appetite",
          "pain_behind_the_eyes",
          "back_pain",
          "constipation",
          "abdominal_pain",
          "diarrhoea",
          "mild_fever",
          "yellow_urine",
          "yellowing_of_eyes",
          "acute_liver_failure",
          "fluid_overload",
          "swelling_of_stomach",
          "swelled_lymph_nodes",
          "malaise",
          "blurred_and_distorted_vision",
          "phlegm",
          "throat_irritation",
          "redness_of_eyes",
          "sinus_pressure",
          "runny_nose",
          "congestion",
          "chest_pain",
          "weakness_in_limbs",
          "fast_heart_rate",
          "pain_during_bowel_movements",
          "pain_in_anal_region",
          "bloody_stool",
          "irritation_in_anus",
          "neck_pain",
          "dizziness",
          "cramps",
          "bruising",
          "obesity",
          "swollen_legs",
          "swollen_blood_vessels",
          "puffy_face_and_eyes",
          "enlarged_thyroid",
          "brittle_nails",
          "swollen_extremeties",
          "excessive_hunger",
          "extra_marital_contacts",
          "drying_and_tingling_lips",
          "slurred_speech",
          "knee_pain",
          "hip_joint_pain",
          "muscle_weakness",
          "stiff_neck",
          "swelling_joints",
          "movement_stiffness",
          "spinning_movements",
          "loss_of_balance",
          "unsteadiness",
          "weakness_of_one_body_side",
          "loss_of_smell",
          "bladder_discomfort",
          "foul_smell_of urine",
          "continuous_feel_of_urine",
          "passage_of_gases",
          "internal_itching",
          "toxic_look_(typhos)",
          "depression",
          "irritability",
          "muscle_pain",
          "altered_sensorium",
          "red_spots_over_body",
          "belly_pain",
          "abnormal_menstruation",
          "dischromic _patches",
          "watering_from_eyes",
          "increased_appetite",
          "polyuria",
          "family_history",
          "mucoid_sputum",
          "rusty_sputum",
          "lack_of_concentration",
          "visual_disturbances",
          "receiving_blood_transfusion",
          "receiving_unsterile_injections",
          "coma",
          "stomach_bleeding",
          "distention_of_abdomen",
          "history_of_alcohol_consumption",
          "fluid_overload.1",
          "blood_in_sputum",
          "prominent_veins_on_calf",
          "palpitations",
          "painful_walking",
          "pus_filled_pimples",
          "blackheads",
          "scurring",
          "skin_peeling",
          "silver_like_dusting",
          "small_dents_in_nails",
          "inflammatory_nails",
          "blister",
          "red_sore_around_nose",
          "yellow_crust_ooze"
         ],
         "yaxis": "y"
        }
       ],
       "layout": {
        "barmode": "relative",
        "coloraxis": {
         "colorbar": {
          "title": {
           "text": "color"
          }
         },
         "colorscale": [
          [
           0,
           "red"
          ],
          [
           1,
           "blue"
          ]
         ]
        },
        "legend": {
         "tracegroupgap": 0
        },
        "shapes": [
         {
          "line": {
           "color": "yellow"
          },
          "type": "line",
          "x0": 2.222244238219314e-16,
          "x1": 2.222244238219314e-16,
          "xref": "x",
          "y0": 0,
          "y1": 1,
          "yref": "y domain"
         },
         {
          "line": {
           "color": "yellow"
          },
          "type": "line",
          "x0": -2.222244238219314e-16,
          "x1": -2.222244238219314e-16,
          "xref": "x",
          "y0": 0,
          "y1": 1,
          "yref": "y domain"
         },
         {
          "fillcolor": "yellow",
          "line": {
           "width": 0
          },
          "opacity": 0.2,
          "type": "rect",
          "x0": 2.222244238219314e-16,
          "x1": -2.222244238219314e-16,
          "xref": "x",
          "y0": 0,
          "y1": 1,
          "yref": "y domain"
         }
        ],
        "template": {
         "data": {
          "bar": [
           {
            "error_x": {
             "color": "#2a3f5f"
            },
            "error_y": {
             "color": "#2a3f5f"
            },
            "marker": {
             "line": {
              "color": "#E5ECF6",
              "width": 0.5
             },
             "pattern": {
              "fillmode": "overlay",
              "size": 10,
              "solidity": 0.2
             }
            },
            "type": "bar"
           }
          ],
          "barpolar": [
           {
            "marker": {
             "line": {
              "color": "#E5ECF6",
              "width": 0.5
             },
             "pattern": {
              "fillmode": "overlay",
              "size": 10,
              "solidity": 0.2
             }
            },
            "type": "barpolar"
           }
          ],
          "carpet": [
           {
            "aaxis": {
             "endlinecolor": "#2a3f5f",
             "gridcolor": "white",
             "linecolor": "white",
             "minorgridcolor": "white",
             "startlinecolor": "#2a3f5f"
            },
            "baxis": {
             "endlinecolor": "#2a3f5f",
             "gridcolor": "white",
             "linecolor": "white",
             "minorgridcolor": "white",
             "startlinecolor": "#2a3f5f"
            },
            "type": "carpet"
           }
          ],
          "choropleth": [
           {
            "colorbar": {
             "outlinewidth": 0,
             "ticks": ""
            },
            "type": "choropleth"
           }
          ],
          "contour": [
           {
            "colorbar": {
             "outlinewidth": 0,
             "ticks": ""
            },
            "colorscale": [
             [
              0,
              "#0d0887"
             ],
             [
              0.1111111111111111,
              "#46039f"
             ],
             [
              0.2222222222222222,
              "#7201a8"
             ],
             [
              0.3333333333333333,
              "#9c179e"
             ],
             [
              0.4444444444444444,
              "#bd3786"
             ],
             [
              0.5555555555555556,
              "#d8576b"
             ],
             [
              0.6666666666666666,
              "#ed7953"
             ],
             [
              0.7777777777777778,
              "#fb9f3a"
             ],
             [
              0.8888888888888888,
              "#fdca26"
             ],
             [
              1,
              "#f0f921"
             ]
            ],
            "type": "contour"
           }
          ],
          "contourcarpet": [
           {
            "colorbar": {
             "outlinewidth": 0,
             "ticks": ""
            },
            "type": "contourcarpet"
           }
          ],
          "heatmap": [
           {
            "colorbar": {
             "outlinewidth": 0,
             "ticks": ""
            },
            "colorscale": [
             [
              0,
              "#0d0887"
             ],
             [
              0.1111111111111111,
              "#46039f"
             ],
             [
              0.2222222222222222,
              "#7201a8"
             ],
             [
              0.3333333333333333,
              "#9c179e"
             ],
             [
              0.4444444444444444,
              "#bd3786"
             ],
             [
              0.5555555555555556,
              "#d8576b"
             ],
             [
              0.6666666666666666,
              "#ed7953"
             ],
             [
              0.7777777777777778,
              "#fb9f3a"
             ],
             [
              0.8888888888888888,
              "#fdca26"
             ],
             [
              1,
              "#f0f921"
             ]
            ],
            "type": "heatmap"
           }
          ],
          "heatmapgl": [
           {
            "colorbar": {
             "outlinewidth": 0,
             "ticks": ""
            },
            "colorscale": [
             [
              0,
              "#0d0887"
             ],
             [
              0.1111111111111111,
              "#46039f"
             ],
             [
              0.2222222222222222,
              "#7201a8"
             ],
             [
              0.3333333333333333,
              "#9c179e"
             ],
             [
              0.4444444444444444,
              "#bd3786"
             ],
             [
              0.5555555555555556,
              "#d8576b"
             ],
             [
              0.6666666666666666,
              "#ed7953"
             ],
             [
              0.7777777777777778,
              "#fb9f3a"
             ],
             [
              0.8888888888888888,
              "#fdca26"
             ],
             [
              1,
              "#f0f921"
             ]
            ],
            "type": "heatmapgl"
           }
          ],
          "histogram": [
           {
            "marker": {
             "pattern": {
              "fillmode": "overlay",
              "size": 10,
              "solidity": 0.2
             }
            },
            "type": "histogram"
           }
          ],
          "histogram2d": [
           {
            "colorbar": {
             "outlinewidth": 0,
             "ticks": ""
            },
            "colorscale": [
             [
              0,
              "#0d0887"
             ],
             [
              0.1111111111111111,
              "#46039f"
             ],
             [
              0.2222222222222222,
              "#7201a8"
             ],
             [
              0.3333333333333333,
              "#9c179e"
             ],
             [
              0.4444444444444444,
              "#bd3786"
             ],
             [
              0.5555555555555556,
              "#d8576b"
             ],
             [
              0.6666666666666666,
              "#ed7953"
             ],
             [
              0.7777777777777778,
              "#fb9f3a"
             ],
             [
              0.8888888888888888,
              "#fdca26"
             ],
             [
              1,
              "#f0f921"
             ]
            ],
            "type": "histogram2d"
           }
          ],
          "histogram2dcontour": [
           {
            "colorbar": {
             "outlinewidth": 0,
             "ticks": ""
            },
            "colorscale": [
             [
              0,
              "#0d0887"
             ],
             [
              0.1111111111111111,
              "#46039f"
             ],
             [
              0.2222222222222222,
              "#7201a8"
             ],
             [
              0.3333333333333333,
              "#9c179e"
             ],
             [
              0.4444444444444444,
              "#bd3786"
             ],
             [
              0.5555555555555556,
              "#d8576b"
             ],
             [
              0.6666666666666666,
              "#ed7953"
             ],
             [
              0.7777777777777778,
              "#fb9f3a"
             ],
             [
              0.8888888888888888,
              "#fdca26"
             ],
             [
              1,
              "#f0f921"
             ]
            ],
            "type": "histogram2dcontour"
           }
          ],
          "mesh3d": [
           {
            "colorbar": {
             "outlinewidth": 0,
             "ticks": ""
            },
            "type": "mesh3d"
           }
          ],
          "parcoords": [
           {
            "line": {
             "colorbar": {
              "outlinewidth": 0,
              "ticks": ""
             }
            },
            "type": "parcoords"
           }
          ],
          "pie": [
           {
            "automargin": true,
            "type": "pie"
           }
          ],
          "scatter": [
           {
            "marker": {
             "colorbar": {
              "outlinewidth": 0,
              "ticks": ""
             }
            },
            "type": "scatter"
           }
          ],
          "scatter3d": [
           {
            "line": {
             "colorbar": {
              "outlinewidth": 0,
              "ticks": ""
             }
            },
            "marker": {
             "colorbar": {
              "outlinewidth": 0,
              "ticks": ""
             }
            },
            "type": "scatter3d"
           }
          ],
          "scattercarpet": [
           {
            "marker": {
             "colorbar": {
              "outlinewidth": 0,
              "ticks": ""
             }
            },
            "type": "scattercarpet"
           }
          ],
          "scattergeo": [
           {
            "marker": {
             "colorbar": {
              "outlinewidth": 0,
              "ticks": ""
             }
            },
            "type": "scattergeo"
           }
          ],
          "scattergl": [
           {
            "marker": {
             "colorbar": {
              "outlinewidth": 0,
              "ticks": ""
             }
            },
            "type": "scattergl"
           }
          ],
          "scattermapbox": [
           {
            "marker": {
             "colorbar": {
              "outlinewidth": 0,
              "ticks": ""
             }
            },
            "type": "scattermapbox"
           }
          ],
          "scatterpolar": [
           {
            "marker": {
             "colorbar": {
              "outlinewidth": 0,
              "ticks": ""
             }
            },
            "type": "scatterpolar"
           }
          ],
          "scatterpolargl": [
           {
            "marker": {
             "colorbar": {
              "outlinewidth": 0,
              "ticks": ""
             }
            },
            "type": "scatterpolargl"
           }
          ],
          "scatterternary": [
           {
            "marker": {
             "colorbar": {
              "outlinewidth": 0,
              "ticks": ""
             }
            },
            "type": "scatterternary"
           }
          ],
          "surface": [
           {
            "colorbar": {
             "outlinewidth": 0,
             "ticks": ""
            },
            "colorscale": [
             [
              0,
              "#0d0887"
             ],
             [
              0.1111111111111111,
              "#46039f"
             ],
             [
              0.2222222222222222,
              "#7201a8"
             ],
             [
              0.3333333333333333,
              "#9c179e"
             ],
             [
              0.4444444444444444,
              "#bd3786"
             ],
             [
              0.5555555555555556,
              "#d8576b"
             ],
             [
              0.6666666666666666,
              "#ed7953"
             ],
             [
              0.7777777777777778,
              "#fb9f3a"
             ],
             [
              0.8888888888888888,
              "#fdca26"
             ],
             [
              1,
              "#f0f921"
             ]
            ],
            "type": "surface"
           }
          ],
          "table": [
           {
            "cells": {
             "fill": {
              "color": "#EBF0F8"
             },
             "line": {
              "color": "white"
             }
            },
            "header": {
             "fill": {
              "color": "#C8D4E3"
             },
             "line": {
              "color": "white"
             }
            },
            "type": "table"
           }
          ]
         },
         "layout": {
          "annotationdefaults": {
           "arrowcolor": "#2a3f5f",
           "arrowhead": 0,
           "arrowwidth": 1
          },
          "autotypenumbers": "strict",
          "coloraxis": {
           "colorbar": {
            "outlinewidth": 0,
            "ticks": ""
           }
          },
          "colorscale": {
           "diverging": [
            [
             0,
             "#8e0152"
            ],
            [
             0.1,
             "#c51b7d"
            ],
            [
             0.2,
             "#de77ae"
            ],
            [
             0.3,
             "#f1b6da"
            ],
            [
             0.4,
             "#fde0ef"
            ],
            [
             0.5,
             "#f7f7f7"
            ],
            [
             0.6,
             "#e6f5d0"
            ],
            [
             0.7,
             "#b8e186"
            ],
            [
             0.8,
             "#7fbc41"
            ],
            [
             0.9,
             "#4d9221"
            ],
            [
             1,
             "#276419"
            ]
           ],
           "sequential": [
            [
             0,
             "#0d0887"
            ],
            [
             0.1111111111111111,
             "#46039f"
            ],
            [
             0.2222222222222222,
             "#7201a8"
            ],
            [
             0.3333333333333333,
             "#9c179e"
            ],
            [
             0.4444444444444444,
             "#bd3786"
            ],
            [
             0.5555555555555556,
             "#d8576b"
            ],
            [
             0.6666666666666666,
             "#ed7953"
            ],
            [
             0.7777777777777778,
             "#fb9f3a"
            ],
            [
             0.8888888888888888,
             "#fdca26"
            ],
            [
             1,
             "#f0f921"
            ]
           ],
           "sequentialminus": [
            [
             0,
             "#0d0887"
            ],
            [
             0.1111111111111111,
             "#46039f"
            ],
            [
             0.2222222222222222,
             "#7201a8"
            ],
            [
             0.3333333333333333,
             "#9c179e"
            ],
            [
             0.4444444444444444,
             "#bd3786"
            ],
            [
             0.5555555555555556,
             "#d8576b"
            ],
            [
             0.6666666666666666,
             "#ed7953"
            ],
            [
             0.7777777777777778,
             "#fb9f3a"
            ],
            [
             0.8888888888888888,
             "#fdca26"
            ],
            [
             1,
             "#f0f921"
            ]
           ]
          },
          "colorway": [
           "#636efa",
           "#EF553B",
           "#00cc96",
           "#ab63fa",
           "#FFA15A",
           "#19d3f3",
           "#FF6692",
           "#B6E880",
           "#FF97FF",
           "#FECB52"
          ],
          "font": {
           "color": "#2a3f5f"
          },
          "geo": {
           "bgcolor": "white",
           "lakecolor": "white",
           "landcolor": "#E5ECF6",
           "showlakes": true,
           "showland": true,
           "subunitcolor": "white"
          },
          "hoverlabel": {
           "align": "left"
          },
          "hovermode": "closest",
          "mapbox": {
           "style": "light"
          },
          "paper_bgcolor": "white",
          "plot_bgcolor": "#E5ECF6",
          "polar": {
           "angularaxis": {
            "gridcolor": "white",
            "linecolor": "white",
            "ticks": ""
           },
           "bgcolor": "#E5ECF6",
           "radialaxis": {
            "gridcolor": "white",
            "linecolor": "white",
            "ticks": ""
           }
          },
          "scene": {
           "xaxis": {
            "backgroundcolor": "#E5ECF6",
            "gridcolor": "white",
            "gridwidth": 2,
            "linecolor": "white",
            "showbackground": true,
            "ticks": "",
            "zerolinecolor": "white"
           },
           "yaxis": {
            "backgroundcolor": "#E5ECF6",
            "gridcolor": "white",
            "gridwidth": 2,
            "linecolor": "white",
            "showbackground": true,
            "ticks": "",
            "zerolinecolor": "white"
           },
           "zaxis": {
            "backgroundcolor": "#E5ECF6",
            "gridcolor": "white",
            "gridwidth": 2,
            "linecolor": "white",
            "showbackground": true,
            "ticks": "",
            "zerolinecolor": "white"
           }
          },
          "shapedefaults": {
           "line": {
            "color": "#2a3f5f"
           }
          },
          "ternary": {
           "aaxis": {
            "gridcolor": "white",
            "linecolor": "white",
            "ticks": ""
           },
           "baxis": {
            "gridcolor": "white",
            "linecolor": "white",
            "ticks": ""
           },
           "bgcolor": "#E5ECF6",
           "caxis": {
            "gridcolor": "white",
            "linecolor": "white",
            "ticks": ""
           }
          },
          "title": {
           "x": 0.05
          },
          "xaxis": {
           "automargin": true,
           "gridcolor": "white",
           "linecolor": "white",
           "ticks": "",
           "title": {
            "standoff": 15
           },
           "zerolinecolor": "white",
           "zerolinewidth": 2
          },
          "yaxis": {
           "automargin": true,
           "gridcolor": "white",
           "linecolor": "white",
           "ticks": "",
           "title": {
            "standoff": 15
           },
           "zerolinecolor": "white",
           "zerolinewidth": 2
          }
         }
        },
        "title": {
         "text": "Feature Importance From Model Weights"
        },
        "xaxis": {
         "anchor": "y",
         "domain": [
          0,
          1
         ],
         "title": {
          "text": "Coefficient Value"
         }
        },
        "yaxis": {
         "anchor": "x",
         "domain": [
          0,
          1
         ],
         "title": {
          "text": "Feature"
         }
        }
       }
      },
      "text/html": [
       "<div>                            <div id=\"85f8f890-bcdd-44e1-a6e7-bd4ff16e3362\" class=\"plotly-graph-div\" style=\"height:525px; width:100%;\"></div>            <script type=\"text/javascript\">                require([\"plotly\"], function(Plotly) {                    window.PLOTLYENV=window.PLOTLYENV || {};                                    if (document.getElementById(\"85f8f890-bcdd-44e1-a6e7-bd4ff16e3362\")) {                    Plotly.newPlot(                        \"85f8f890-bcdd-44e1-a6e7-bd4ff16e3362\",                        [{\"alignmentgroup\":\"True\",\"hovertemplate\":\"Coefficient Value=%{x}<br>Feature=%{y}<br>color=%{marker.color}<extra></extra>\",\"legendgroup\":\"\",\"marker\":{\"color\":[-3.845162670652981e-16,-7.24014344412564e-16,4.0042495064986593e-16,-4.1096022249177384e-16,-2.1891364060253657e-16,-1.8223904770066593e-15,-2.193367438893602e-16,7.895107332128591e-17,2.187867096164895e-16,-1.3027350201298997e-16,1.9149654761636656e-16,3.8993198913664035e-16,4.929999498068721e-16,2.916450956075154e-16,-2.5453893735308466e-15,-9.373007113003466e-16,2.8235797846173715e-16,-9.611743142593689e-16,-1.5037090813711153e-16,-5.214324906814188e-16,5.692008517638045e-16,-1.6294553782150926e-15,2.734516542741001e-16,-3.035871858781118e-16,-1.4226424916157113e-15,-1.8589466009882193e-15,-1.491015982766407e-16,-8.218358243261829e-16,-1.1169926772143343e-16,-1.753340020597046e-16,9.249037849964146e-16,-1.2591553815870677e-16,1.0046164442339831e-15,5.307407629915382e-16,1.5543122344752192e-15,-3.005725749594936e-16,-5.058622897263099e-16,-2.1189012604126462e-16,1.447690206195669e-15,1.6274244824383392e-15,2.171704550608233e-15,-2.4912321528174247e-16,2.8686402846640857e-17,2.3016818803204466e-16,1.347160865246379e-16,0.0,4.090562577010676e-16,-1.389217331956646e-15,-2.435044036327249e-15,4.962155347867316e-16,-1.4879696391012769e-15,-2.708284138957937e-16,-2.708284138957937e-16,-2.708284138957937e-16,-2.708284138957937e-16,-2.708284138957937e-16,-2.179658892400517e-15,3.294705294495463e-16,3.056921247300593e-16,9.362429530832876e-16,9.397970206926058e-16,9.16737891560719e-16,9.790186953811546e-16,-1.3496994849673208e-16,-8.609305680286847e-16,-8.838944989210361e-16,-8.552186736565659e-16,-1.1664322962796733e-15,-8.498029515852237e-16,-8.849205243915834e-16,-9.640302614454282e-16,-9.801399190912372e-16,-9.801399190912372e-16,-9.801399190912372e-16,1.284710820111214e-15,3.7165392714586034e-16,2.652857608384044e-16,2.7063801741672307e-16,-5.49695790241236e-16,-5.429261376520583e-16,1.3056121224803003e-15,9.136069272382242e-16,-6.160383856151784e-17,4.48235622060934e-16,4.206069774313522e-16,3.907781957102876e-16,3.2578953085418086e-16,-1.0916064800049177e-17,-2.708284138957937e-16,2.176866410707481e-16,1.7355696825504543e-16,2.423535626925647e-16,4.715063028362327e-16,4.511973450686993e-16,4.99896533382097e-16,-5.401971214520459e-16,6.548792673455858e-16,2.0579743871100464e-16,3.3002056372241694e-17,-9.721221118059297e-16,4.98965706151085e-16,-1.220652982486119e-16,2.931682674400804e-16,-2.2318698379945506e-16,-2.5225417960423715e-16,-2.5225417960423715e-16,6.223003142601678e-16,4.165557634600161e-16,-4.614364446098307e-16,-3.108962951579897e-16,4.557880157307355e-16,1.25238572899789e-17,1.25238572899789e-17,1.1948436819898788e-16,1.1948436819898788e-16,3.6945379005437754e-16,4.114256361072798e-16,4.0144039853824257e-16,-7.422077857459793e-16,-8.498029515852237e-16,2.7063801741672307e-16,4.814915404052699e-17,-1.4127418747040387e-16,-1.8735013540549517e-16,-5.339563479713977e-17,-4.243725966840823e-16,-4.068561206095848e-16,-4.1244108399565647e-16,-4.118487393941034e-16,-1.5756366401311292e-16,-2.27164154695597e-16,-1.854673257791301e-16],\"coloraxis\":\"coloraxis\",\"pattern\":{\"shape\":\"\"}},\"name\":\"\",\"offsetgroup\":\"\",\"orientation\":\"h\",\"showlegend\":false,\"textposition\":\"auto\",\"x\":[-3.845162670652981e-16,-7.24014344412564e-16,4.0042495064986593e-16,-4.1096022249177384e-16,-2.1891364060253657e-16,-1.8223904770066593e-15,-2.193367438893602e-16,7.895107332128591e-17,2.187867096164895e-16,-1.3027350201298997e-16,1.9149654761636656e-16,3.8993198913664035e-16,4.929999498068721e-16,2.916450956075154e-16,-2.5453893735308466e-15,-9.373007113003466e-16,2.8235797846173715e-16,-9.611743142593689e-16,-1.5037090813711153e-16,-5.214324906814188e-16,5.692008517638045e-16,-1.6294553782150926e-15,2.734516542741001e-16,-3.035871858781118e-16,-1.4226424916157113e-15,-1.8589466009882193e-15,-1.491015982766407e-16,-8.218358243261829e-16,-1.1169926772143343e-16,-1.753340020597046e-16,9.249037849964146e-16,-1.2591553815870677e-16,1.0046164442339831e-15,5.307407629915382e-16,1.5543122344752192e-15,-3.005725749594936e-16,-5.058622897263099e-16,-2.1189012604126462e-16,1.447690206195669e-15,1.6274244824383392e-15,2.171704550608233e-15,-2.4912321528174247e-16,2.8686402846640857e-17,2.3016818803204466e-16,1.347160865246379e-16,0.0,4.090562577010676e-16,-1.389217331956646e-15,-2.435044036327249e-15,4.962155347867316e-16,-1.4879696391012769e-15,-2.708284138957937e-16,-2.708284138957937e-16,-2.708284138957937e-16,-2.708284138957937e-16,-2.708284138957937e-16,-2.179658892400517e-15,3.294705294495463e-16,3.056921247300593e-16,9.362429530832876e-16,9.397970206926058e-16,9.16737891560719e-16,9.790186953811546e-16,-1.3496994849673208e-16,-8.609305680286847e-16,-8.838944989210361e-16,-8.552186736565659e-16,-1.1664322962796733e-15,-8.498029515852237e-16,-8.849205243915834e-16,-9.640302614454282e-16,-9.801399190912372e-16,-9.801399190912372e-16,-9.801399190912372e-16,1.284710820111214e-15,3.7165392714586034e-16,2.652857608384044e-16,2.7063801741672307e-16,-5.49695790241236e-16,-5.429261376520583e-16,1.3056121224803003e-15,9.136069272382242e-16,-6.160383856151784e-17,4.48235622060934e-16,4.206069774313522e-16,3.907781957102876e-16,3.2578953085418086e-16,-1.0916064800049177e-17,-2.708284138957937e-16,2.176866410707481e-16,1.7355696825504543e-16,2.423535626925647e-16,4.715063028362327e-16,4.511973450686993e-16,4.99896533382097e-16,-5.401971214520459e-16,6.548792673455858e-16,2.0579743871100464e-16,3.3002056372241694e-17,-9.721221118059297e-16,4.98965706151085e-16,-1.220652982486119e-16,2.931682674400804e-16,-2.2318698379945506e-16,-2.5225417960423715e-16,-2.5225417960423715e-16,6.223003142601678e-16,4.165557634600161e-16,-4.614364446098307e-16,-3.108962951579897e-16,4.557880157307355e-16,1.25238572899789e-17,1.25238572899789e-17,1.1948436819898788e-16,1.1948436819898788e-16,3.6945379005437754e-16,4.114256361072798e-16,4.0144039853824257e-16,-7.422077857459793e-16,-8.498029515852237e-16,2.7063801741672307e-16,4.814915404052699e-17,-1.4127418747040387e-16,-1.8735013540549517e-16,-5.339563479713977e-17,-4.243725966840823e-16,-4.068561206095848e-16,-4.1244108399565647e-16,-4.118487393941034e-16,-1.5756366401311292e-16,-2.27164154695597e-16,-1.854673257791301e-16],\"xaxis\":\"x\",\"y\":[\"itching\",\"skin_rash\",\"nodal_skin_eruptions\",\"continuous_sneezing\",\"shivering\",\"chills\",\"joint_pain\",\"stomach_pain\",\"acidity\",\"ulcers_on_tongue\",\"muscle_wasting\",\"vomiting\",\"burning_micturition\",\"spotting_ urination\",\"fatigue\",\"weight_gain\",\"anxiety\",\"cold_hands_and_feets\",\"mood_swings\",\"weight_loss\",\"restlessness\",\"lethargy\",\"patches_in_throat\",\"irregular_sugar_level\",\"cough\",\"high_fever\",\"sunken_eyes\",\"breathlessness\",\"sweating\",\"dehydration\",\"indigestion\",\"headache\",\"yellowish_skin\",\"dark_urine\",\"nausea\",\"loss_of_appetite\",\"pain_behind_the_eyes\",\"back_pain\",\"constipation\",\"abdominal_pain\",\"diarrhoea\",\"mild_fever\",\"yellow_urine\",\"yellowing_of_eyes\",\"acute_liver_failure\",\"fluid_overload\",\"swelling_of_stomach\",\"swelled_lymph_nodes\",\"malaise\",\"blurred_and_distorted_vision\",\"phlegm\",\"throat_irritation\",\"redness_of_eyes\",\"sinus_pressure\",\"runny_nose\",\"congestion\",\"chest_pain\",\"weakness_in_limbs\",\"fast_heart_rate\",\"pain_during_bowel_movements\",\"pain_in_anal_region\",\"bloody_stool\",\"irritation_in_anus\",\"neck_pain\",\"dizziness\",\"cramps\",\"bruising\",\"obesity\",\"swollen_legs\",\"swollen_blood_vessels\",\"puffy_face_and_eyes\",\"enlarged_thyroid\",\"brittle_nails\",\"swollen_extremeties\",\"excessive_hunger\",\"extra_marital_contacts\",\"drying_and_tingling_lips\",\"slurred_speech\",\"knee_pain\",\"hip_joint_pain\",\"muscle_weakness\",\"stiff_neck\",\"swelling_joints\",\"movement_stiffness\",\"spinning_movements\",\"loss_of_balance\",\"unsteadiness\",\"weakness_of_one_body_side\",\"loss_of_smell\",\"bladder_discomfort\",\"foul_smell_of urine\",\"continuous_feel_of_urine\",\"passage_of_gases\",\"internal_itching\",\"toxic_look_(typhos)\",\"depression\",\"irritability\",\"muscle_pain\",\"altered_sensorium\",\"red_spots_over_body\",\"belly_pain\",\"abnormal_menstruation\",\"dischromic _patches\",\"watering_from_eyes\",\"increased_appetite\",\"polyuria\",\"family_history\",\"mucoid_sputum\",\"rusty_sputum\",\"lack_of_concentration\",\"visual_disturbances\",\"receiving_blood_transfusion\",\"receiving_unsterile_injections\",\"coma\",\"stomach_bleeding\",\"distention_of_abdomen\",\"history_of_alcohol_consumption\",\"fluid_overload.1\",\"blood_in_sputum\",\"prominent_veins_on_calf\",\"palpitations\",\"painful_walking\",\"pus_filled_pimples\",\"blackheads\",\"scurring\",\"skin_peeling\",\"silver_like_dusting\",\"small_dents_in_nails\",\"inflammatory_nails\",\"blister\",\"red_sore_around_nose\",\"yellow_crust_ooze\"],\"yaxis\":\"y\",\"type\":\"bar\"}],                        {\"template\":{\"data\":{\"bar\":[{\"error_x\":{\"color\":\"#2a3f5f\"},\"error_y\":{\"color\":\"#2a3f5f\"},\"marker\":{\"line\":{\"color\":\"#E5ECF6\",\"width\":0.5},\"pattern\":{\"fillmode\":\"overlay\",\"size\":10,\"solidity\":0.2}},\"type\":\"bar\"}],\"barpolar\":[{\"marker\":{\"line\":{\"color\":\"#E5ECF6\",\"width\":0.5},\"pattern\":{\"fillmode\":\"overlay\",\"size\":10,\"solidity\":0.2}},\"type\":\"barpolar\"}],\"carpet\":[{\"aaxis\":{\"endlinecolor\":\"#2a3f5f\",\"gridcolor\":\"white\",\"linecolor\":\"white\",\"minorgridcolor\":\"white\",\"startlinecolor\":\"#2a3f5f\"},\"baxis\":{\"endlinecolor\":\"#2a3f5f\",\"gridcolor\":\"white\",\"linecolor\":\"white\",\"minorgridcolor\":\"white\",\"startlinecolor\":\"#2a3f5f\"},\"type\":\"carpet\"}],\"choropleth\":[{\"colorbar\":{\"outlinewidth\":0,\"ticks\":\"\"},\"type\":\"choropleth\"}],\"contour\":[{\"colorbar\":{\"outlinewidth\":0,\"ticks\":\"\"},\"colorscale\":[[0.0,\"#0d0887\"],[0.1111111111111111,\"#46039f\"],[0.2222222222222222,\"#7201a8\"],[0.3333333333333333,\"#9c179e\"],[0.4444444444444444,\"#bd3786\"],[0.5555555555555556,\"#d8576b\"],[0.6666666666666666,\"#ed7953\"],[0.7777777777777778,\"#fb9f3a\"],[0.8888888888888888,\"#fdca26\"],[1.0,\"#f0f921\"]],\"type\":\"contour\"}],\"contourcarpet\":[{\"colorbar\":{\"outlinewidth\":0,\"ticks\":\"\"},\"type\":\"contourcarpet\"}],\"heatmap\":[{\"colorbar\":{\"outlinewidth\":0,\"ticks\":\"\"},\"colorscale\":[[0.0,\"#0d0887\"],[0.1111111111111111,\"#46039f\"],[0.2222222222222222,\"#7201a8\"],[0.3333333333333333,\"#9c179e\"],[0.4444444444444444,\"#bd3786\"],[0.5555555555555556,\"#d8576b\"],[0.6666666666666666,\"#ed7953\"],[0.7777777777777778,\"#fb9f3a\"],[0.8888888888888888,\"#fdca26\"],[1.0,\"#f0f921\"]],\"type\":\"heatmap\"}],\"heatmapgl\":[{\"colorbar\":{\"outlinewidth\":0,\"ticks\":\"\"},\"colorscale\":[[0.0,\"#0d0887\"],[0.1111111111111111,\"#46039f\"],[0.2222222222222222,\"#7201a8\"],[0.3333333333333333,\"#9c179e\"],[0.4444444444444444,\"#bd3786\"],[0.5555555555555556,\"#d8576b\"],[0.6666666666666666,\"#ed7953\"],[0.7777777777777778,\"#fb9f3a\"],[0.8888888888888888,\"#fdca26\"],[1.0,\"#f0f921\"]],\"type\":\"heatmapgl\"}],\"histogram\":[{\"marker\":{\"pattern\":{\"fillmode\":\"overlay\",\"size\":10,\"solidity\":0.2}},\"type\":\"histogram\"}],\"histogram2d\":[{\"colorbar\":{\"outlinewidth\":0,\"ticks\":\"\"},\"colorscale\":[[0.0,\"#0d0887\"],[0.1111111111111111,\"#46039f\"],[0.2222222222222222,\"#7201a8\"],[0.3333333333333333,\"#9c179e\"],[0.4444444444444444,\"#bd3786\"],[0.5555555555555556,\"#d8576b\"],[0.6666666666666666,\"#ed7953\"],[0.7777777777777778,\"#fb9f3a\"],[0.8888888888888888,\"#fdca26\"],[1.0,\"#f0f921\"]],\"type\":\"histogram2d\"}],\"histogram2dcontour\":[{\"colorbar\":{\"outlinewidth\":0,\"ticks\":\"\"},\"colorscale\":[[0.0,\"#0d0887\"],[0.1111111111111111,\"#46039f\"],[0.2222222222222222,\"#7201a8\"],[0.3333333333333333,\"#9c179e\"],[0.4444444444444444,\"#bd3786\"],[0.5555555555555556,\"#d8576b\"],[0.6666666666666666,\"#ed7953\"],[0.7777777777777778,\"#fb9f3a\"],[0.8888888888888888,\"#fdca26\"],[1.0,\"#f0f921\"]],\"type\":\"histogram2dcontour\"}],\"mesh3d\":[{\"colorbar\":{\"outlinewidth\":0,\"ticks\":\"\"},\"type\":\"mesh3d\"}],\"parcoords\":[{\"line\":{\"colorbar\":{\"outlinewidth\":0,\"ticks\":\"\"}},\"type\":\"parcoords\"}],\"pie\":[{\"automargin\":true,\"type\":\"pie\"}],\"scatter\":[{\"marker\":{\"colorbar\":{\"outlinewidth\":0,\"ticks\":\"\"}},\"type\":\"scatter\"}],\"scatter3d\":[{\"line\":{\"colorbar\":{\"outlinewidth\":0,\"ticks\":\"\"}},\"marker\":{\"colorbar\":{\"outlinewidth\":0,\"ticks\":\"\"}},\"type\":\"scatter3d\"}],\"scattercarpet\":[{\"marker\":{\"colorbar\":{\"outlinewidth\":0,\"ticks\":\"\"}},\"type\":\"scattercarpet\"}],\"scattergeo\":[{\"marker\":{\"colorbar\":{\"outlinewidth\":0,\"ticks\":\"\"}},\"type\":\"scattergeo\"}],\"scattergl\":[{\"marker\":{\"colorbar\":{\"outlinewidth\":0,\"ticks\":\"\"}},\"type\":\"scattergl\"}],\"scattermapbox\":[{\"marker\":{\"colorbar\":{\"outlinewidth\":0,\"ticks\":\"\"}},\"type\":\"scattermapbox\"}],\"scatterpolar\":[{\"marker\":{\"colorbar\":{\"outlinewidth\":0,\"ticks\":\"\"}},\"type\":\"scatterpolar\"}],\"scatterpolargl\":[{\"marker\":{\"colorbar\":{\"outlinewidth\":0,\"ticks\":\"\"}},\"type\":\"scatterpolargl\"}],\"scatterternary\":[{\"marker\":{\"colorbar\":{\"outlinewidth\":0,\"ticks\":\"\"}},\"type\":\"scatterternary\"}],\"surface\":[{\"colorbar\":{\"outlinewidth\":0,\"ticks\":\"\"},\"colorscale\":[[0.0,\"#0d0887\"],[0.1111111111111111,\"#46039f\"],[0.2222222222222222,\"#7201a8\"],[0.3333333333333333,\"#9c179e\"],[0.4444444444444444,\"#bd3786\"],[0.5555555555555556,\"#d8576b\"],[0.6666666666666666,\"#ed7953\"],[0.7777777777777778,\"#fb9f3a\"],[0.8888888888888888,\"#fdca26\"],[1.0,\"#f0f921\"]],\"type\":\"surface\"}],\"table\":[{\"cells\":{\"fill\":{\"color\":\"#EBF0F8\"},\"line\":{\"color\":\"white\"}},\"header\":{\"fill\":{\"color\":\"#C8D4E3\"},\"line\":{\"color\":\"white\"}},\"type\":\"table\"}]},\"layout\":{\"annotationdefaults\":{\"arrowcolor\":\"#2a3f5f\",\"arrowhead\":0,\"arrowwidth\":1},\"autotypenumbers\":\"strict\",\"coloraxis\":{\"colorbar\":{\"outlinewidth\":0,\"ticks\":\"\"}},\"colorscale\":{\"diverging\":[[0,\"#8e0152\"],[0.1,\"#c51b7d\"],[0.2,\"#de77ae\"],[0.3,\"#f1b6da\"],[0.4,\"#fde0ef\"],[0.5,\"#f7f7f7\"],[0.6,\"#e6f5d0\"],[0.7,\"#b8e186\"],[0.8,\"#7fbc41\"],[0.9,\"#4d9221\"],[1,\"#276419\"]],\"sequential\":[[0.0,\"#0d0887\"],[0.1111111111111111,\"#46039f\"],[0.2222222222222222,\"#7201a8\"],[0.3333333333333333,\"#9c179e\"],[0.4444444444444444,\"#bd3786\"],[0.5555555555555556,\"#d8576b\"],[0.6666666666666666,\"#ed7953\"],[0.7777777777777778,\"#fb9f3a\"],[0.8888888888888888,\"#fdca26\"],[1.0,\"#f0f921\"]],\"sequentialminus\":[[0.0,\"#0d0887\"],[0.1111111111111111,\"#46039f\"],[0.2222222222222222,\"#7201a8\"],[0.3333333333333333,\"#9c179e\"],[0.4444444444444444,\"#bd3786\"],[0.5555555555555556,\"#d8576b\"],[0.6666666666666666,\"#ed7953\"],[0.7777777777777778,\"#fb9f3a\"],[0.8888888888888888,\"#fdca26\"],[1.0,\"#f0f921\"]]},\"colorway\":[\"#636efa\",\"#EF553B\",\"#00cc96\",\"#ab63fa\",\"#FFA15A\",\"#19d3f3\",\"#FF6692\",\"#B6E880\",\"#FF97FF\",\"#FECB52\"],\"font\":{\"color\":\"#2a3f5f\"},\"geo\":{\"bgcolor\":\"white\",\"lakecolor\":\"white\",\"landcolor\":\"#E5ECF6\",\"showlakes\":true,\"showland\":true,\"subunitcolor\":\"white\"},\"hoverlabel\":{\"align\":\"left\"},\"hovermode\":\"closest\",\"mapbox\":{\"style\":\"light\"},\"paper_bgcolor\":\"white\",\"plot_bgcolor\":\"#E5ECF6\",\"polar\":{\"angularaxis\":{\"gridcolor\":\"white\",\"linecolor\":\"white\",\"ticks\":\"\"},\"bgcolor\":\"#E5ECF6\",\"radialaxis\":{\"gridcolor\":\"white\",\"linecolor\":\"white\",\"ticks\":\"\"}},\"scene\":{\"xaxis\":{\"backgroundcolor\":\"#E5ECF6\",\"gridcolor\":\"white\",\"gridwidth\":2,\"linecolor\":\"white\",\"showbackground\":true,\"ticks\":\"\",\"zerolinecolor\":\"white\"},\"yaxis\":{\"backgroundcolor\":\"#E5ECF6\",\"gridcolor\":\"white\",\"gridwidth\":2,\"linecolor\":\"white\",\"showbackground\":true,\"ticks\":\"\",\"zerolinecolor\":\"white\"},\"zaxis\":{\"backgroundcolor\":\"#E5ECF6\",\"gridcolor\":\"white\",\"gridwidth\":2,\"linecolor\":\"white\",\"showbackground\":true,\"ticks\":\"\",\"zerolinecolor\":\"white\"}},\"shapedefaults\":{\"line\":{\"color\":\"#2a3f5f\"}},\"ternary\":{\"aaxis\":{\"gridcolor\":\"white\",\"linecolor\":\"white\",\"ticks\":\"\"},\"baxis\":{\"gridcolor\":\"white\",\"linecolor\":\"white\",\"ticks\":\"\"},\"bgcolor\":\"#E5ECF6\",\"caxis\":{\"gridcolor\":\"white\",\"linecolor\":\"white\",\"ticks\":\"\"}},\"title\":{\"x\":0.05},\"xaxis\":{\"automargin\":true,\"gridcolor\":\"white\",\"linecolor\":\"white\",\"ticks\":\"\",\"title\":{\"standoff\":15},\"zerolinecolor\":\"white\",\"zerolinewidth\":2},\"yaxis\":{\"automargin\":true,\"gridcolor\":\"white\",\"linecolor\":\"white\",\"ticks\":\"\",\"title\":{\"standoff\":15},\"zerolinecolor\":\"white\",\"zerolinewidth\":2}}},\"xaxis\":{\"anchor\":\"y\",\"domain\":[0.0,1.0],\"title\":{\"text\":\"Coefficient Value\"}},\"yaxis\":{\"anchor\":\"x\",\"domain\":[0.0,1.0],\"title\":{\"text\":\"Feature\"}},\"coloraxis\":{\"colorbar\":{\"title\":{\"text\":\"color\"}},\"colorscale\":[[0,\"red\"],[1,\"blue\"]]},\"legend\":{\"tracegroupgap\":0},\"title\":{\"text\":\"Feature Importance From Model Weights\"},\"barmode\":\"relative\",\"shapes\":[{\"line\":{\"color\":\"yellow\"},\"type\":\"line\",\"x0\":2.222244238219314e-16,\"x1\":2.222244238219314e-16,\"xref\":\"x\",\"y0\":0,\"y1\":1,\"yref\":\"y domain\"},{\"line\":{\"color\":\"yellow\"},\"type\":\"line\",\"x0\":-2.222244238219314e-16,\"x1\":-2.222244238219314e-16,\"xref\":\"x\",\"y0\":0,\"y1\":1,\"yref\":\"y domain\"},{\"fillcolor\":\"yellow\",\"line\":{\"width\":0},\"opacity\":0.2,\"type\":\"rect\",\"x0\":2.222244238219314e-16,\"x1\":-2.222244238219314e-16,\"xref\":\"x\",\"y0\":0,\"y1\":1,\"yref\":\"y domain\"}]},                        {\"responsive\": true}                    ).then(function(){\n",
       "                            \n",
       "var gd = document.getElementById('85f8f890-bcdd-44e1-a6e7-bd4ff16e3362');\n",
       "var x = new MutationObserver(function (mutations, observer) {{\n",
       "        var display = window.getComputedStyle(gd).display;\n",
       "        if (!display || display === 'none') {{\n",
       "            console.log([gd, 'removed!']);\n",
       "            Plotly.purge(gd);\n",
       "            observer.disconnect();\n",
       "        }}\n",
       "}});\n",
       "\n",
       "// Listen for the removal of the full notebook cells\n",
       "var notebookContainer = gd.closest('#notebook-container');\n",
       "if (notebookContainer) {{\n",
       "    x.observe(notebookContainer, {childList: true});\n",
       "}}\n",
       "\n",
       "// Listen for the clearing of the current output cell\n",
       "var outputEl = gd.closest('.output');\n",
       "if (outputEl) {{\n",
       "    x.observe(outputEl, {childList: true});\n",
       "}}\n",
       "\n",
       "                        })                };                });            </script>        </div>"
      ]
     },
     "metadata": {},
     "output_type": "display_data"
    }
   ],
   "source": [
    "importance_threshold = np.quantile(np.abs(coefficients), q=0.25)\n",
    "\n",
    "fig = px.bar(\n",
    "    x=coefficients,\n",
    "    y=X_train.columns,\n",
    "    orientation='h',\n",
    "    color=coefficients,\n",
    "    color_continuous_scale=[(0, 'red'), (1, 'blue')],\n",
    "    labels={'x': \"Coefficient Value\", 'y': \"Feature\"},\n",
    "    title=\"Feature Importance From Model Weights\"\n",
    ")\n",
    "\n",
    "fig.add_vline(x=importance_threshold, line_color='yellow')\n",
    "fig.add_vline(x=-importance_threshold, line_color='yellow')\n",
    "fig.add_vrect(x0=importance_threshold, x1=-importance_threshold, line_width=0, fillcolor='yellow', opacity=0.2)\n",
    "\n",
    "fig.show()"
   ]
  },
  {
   "cell_type": "code",
   "execution_count": 202,
   "metadata": {},
   "outputs": [
    {
     "data": {
      "text/plain": [
       "Index(['shivering', 'joint_pain', 'stomach_pain', 'acidity',\n",
       "       'ulcers_on_tongue', 'muscle_wasting', 'mood_swings', 'sunken_eyes',\n",
       "       'sweating', 'dehydration', 'headache', 'back_pain', 'yellow_urine',\n",
       "       'acute_liver_failure', 'fluid_overload', 'neck_pain', 'swelling_joints',\n",
       "       'weakness_of_one_body_side', 'bladder_discomfort',\n",
       "       'foul_smell_of urine', 'muscle_pain', 'altered_sensorium',\n",
       "       'abnormal_menstruation', 'receiving_blood_transfusion',\n",
       "       'receiving_unsterile_injections', 'coma', 'stomach_bleeding',\n",
       "       'painful_walking', 'pus_filled_pimples', 'blackheads', 'scurring',\n",
       "       'blister', 'yellow_crust_ooze'],\n",
       "      dtype='object')"
      ]
     },
     "execution_count": 202,
     "metadata": {},
     "output_type": "execute_result"
    }
   ],
   "source": [
    "low_importance_features = X_train.columns[np.abs(coefficients) < importance_threshold]\n",
    "low_importance_features\n"
   ]
  },
  {
   "cell_type": "code",
   "execution_count": 205,
   "metadata": {},
   "outputs": [],
   "source": [
    "reduced_data = df.drop(low_importance_features, axis=1).copy()\n",
    "y = reduced_data['prognosis']\n",
    "X = reduced_data.drop('prognosis', axis=1)\n",
    "X_train, X_test, y_train, y_test = train_test_split(X, y, train_size=0.7, shuffle=True, random_state=1)"
   ]
  },
  {
   "cell_type": "code",
   "execution_count": 206,
   "metadata": {},
   "outputs": [
    {
     "data": {
      "text/html": [
       "<div>\n",
       "<style scoped>\n",
       "    .dataframe tbody tr th:only-of-type {\n",
       "        vertical-align: middle;\n",
       "    }\n",
       "\n",
       "    .dataframe tbody tr th {\n",
       "        vertical-align: top;\n",
       "    }\n",
       "\n",
       "    .dataframe thead th {\n",
       "        text-align: right;\n",
       "    }\n",
       "</style>\n",
       "<table border=\"1\" class=\"dataframe\">\n",
       "  <thead>\n",
       "    <tr style=\"text-align: right;\">\n",
       "      <th></th>\n",
       "      <th>itching</th>\n",
       "      <th>skin_rash</th>\n",
       "      <th>nodal_skin_eruptions</th>\n",
       "      <th>continuous_sneezing</th>\n",
       "      <th>chills</th>\n",
       "      <th>vomiting</th>\n",
       "      <th>burning_micturition</th>\n",
       "      <th>spotting_ urination</th>\n",
       "      <th>fatigue</th>\n",
       "      <th>weight_gain</th>\n",
       "      <th>...</th>\n",
       "      <th>history_of_alcohol_consumption</th>\n",
       "      <th>fluid_overload.1</th>\n",
       "      <th>blood_in_sputum</th>\n",
       "      <th>prominent_veins_on_calf</th>\n",
       "      <th>palpitations</th>\n",
       "      <th>skin_peeling</th>\n",
       "      <th>silver_like_dusting</th>\n",
       "      <th>small_dents_in_nails</th>\n",
       "      <th>inflammatory_nails</th>\n",
       "      <th>red_sore_around_nose</th>\n",
       "    </tr>\n",
       "  </thead>\n",
       "  <tbody>\n",
       "    <tr>\n",
       "      <th>1237</th>\n",
       "      <td>1</td>\n",
       "      <td>1</td>\n",
       "      <td>0</td>\n",
       "      <td>0</td>\n",
       "      <td>0</td>\n",
       "      <td>0</td>\n",
       "      <td>0</td>\n",
       "      <td>0</td>\n",
       "      <td>0</td>\n",
       "      <td>0</td>\n",
       "      <td>...</td>\n",
       "      <td>0</td>\n",
       "      <td>0</td>\n",
       "      <td>0</td>\n",
       "      <td>0</td>\n",
       "      <td>0</td>\n",
       "      <td>0</td>\n",
       "      <td>0</td>\n",
       "      <td>0</td>\n",
       "      <td>0</td>\n",
       "      <td>0</td>\n",
       "    </tr>\n",
       "    <tr>\n",
       "      <th>1565</th>\n",
       "      <td>0</td>\n",
       "      <td>0</td>\n",
       "      <td>0</td>\n",
       "      <td>0</td>\n",
       "      <td>0</td>\n",
       "      <td>1</td>\n",
       "      <td>0</td>\n",
       "      <td>0</td>\n",
       "      <td>1</td>\n",
       "      <td>0</td>\n",
       "      <td>...</td>\n",
       "      <td>0</td>\n",
       "      <td>0</td>\n",
       "      <td>0</td>\n",
       "      <td>0</td>\n",
       "      <td>1</td>\n",
       "      <td>0</td>\n",
       "      <td>0</td>\n",
       "      <td>0</td>\n",
       "      <td>0</td>\n",
       "      <td>0</td>\n",
       "    </tr>\n",
       "    <tr>\n",
       "      <th>1238</th>\n",
       "      <td>1</td>\n",
       "      <td>1</td>\n",
       "      <td>1</td>\n",
       "      <td>0</td>\n",
       "      <td>0</td>\n",
       "      <td>0</td>\n",
       "      <td>0</td>\n",
       "      <td>0</td>\n",
       "      <td>0</td>\n",
       "      <td>0</td>\n",
       "      <td>...</td>\n",
       "      <td>0</td>\n",
       "      <td>0</td>\n",
       "      <td>0</td>\n",
       "      <td>0</td>\n",
       "      <td>0</td>\n",
       "      <td>0</td>\n",
       "      <td>0</td>\n",
       "      <td>0</td>\n",
       "      <td>0</td>\n",
       "      <td>0</td>\n",
       "    </tr>\n",
       "    <tr>\n",
       "      <th>1577</th>\n",
       "      <td>0</td>\n",
       "      <td>0</td>\n",
       "      <td>0</td>\n",
       "      <td>0</td>\n",
       "      <td>0</td>\n",
       "      <td>0</td>\n",
       "      <td>0</td>\n",
       "      <td>0</td>\n",
       "      <td>0</td>\n",
       "      <td>0</td>\n",
       "      <td>...</td>\n",
       "      <td>0</td>\n",
       "      <td>0</td>\n",
       "      <td>0</td>\n",
       "      <td>0</td>\n",
       "      <td>0</td>\n",
       "      <td>0</td>\n",
       "      <td>0</td>\n",
       "      <td>0</td>\n",
       "      <td>0</td>\n",
       "      <td>0</td>\n",
       "    </tr>\n",
       "    <tr>\n",
       "      <th>1987</th>\n",
       "      <td>0</td>\n",
       "      <td>0</td>\n",
       "      <td>0</td>\n",
       "      <td>0</td>\n",
       "      <td>0</td>\n",
       "      <td>0</td>\n",
       "      <td>0</td>\n",
       "      <td>0</td>\n",
       "      <td>0</td>\n",
       "      <td>0</td>\n",
       "      <td>...</td>\n",
       "      <td>0</td>\n",
       "      <td>0</td>\n",
       "      <td>0</td>\n",
       "      <td>0</td>\n",
       "      <td>0</td>\n",
       "      <td>0</td>\n",
       "      <td>0</td>\n",
       "      <td>0</td>\n",
       "      <td>0</td>\n",
       "      <td>0</td>\n",
       "    </tr>\n",
       "    <tr>\n",
       "      <th>...</th>\n",
       "      <td>...</td>\n",
       "      <td>...</td>\n",
       "      <td>...</td>\n",
       "      <td>...</td>\n",
       "      <td>...</td>\n",
       "      <td>...</td>\n",
       "      <td>...</td>\n",
       "      <td>...</td>\n",
       "      <td>...</td>\n",
       "      <td>...</td>\n",
       "      <td>...</td>\n",
       "      <td>...</td>\n",
       "      <td>...</td>\n",
       "      <td>...</td>\n",
       "      <td>...</td>\n",
       "      <td>...</td>\n",
       "      <td>...</td>\n",
       "      <td>...</td>\n",
       "      <td>...</td>\n",
       "      <td>...</td>\n",
       "      <td>...</td>\n",
       "    </tr>\n",
       "    <tr>\n",
       "      <th>2895</th>\n",
       "      <td>0</td>\n",
       "      <td>0</td>\n",
       "      <td>0</td>\n",
       "      <td>0</td>\n",
       "      <td>1</td>\n",
       "      <td>1</td>\n",
       "      <td>0</td>\n",
       "      <td>0</td>\n",
       "      <td>1</td>\n",
       "      <td>0</td>\n",
       "      <td>...</td>\n",
       "      <td>0</td>\n",
       "      <td>0</td>\n",
       "      <td>1</td>\n",
       "      <td>0</td>\n",
       "      <td>0</td>\n",
       "      <td>0</td>\n",
       "      <td>0</td>\n",
       "      <td>0</td>\n",
       "      <td>0</td>\n",
       "      <td>0</td>\n",
       "    </tr>\n",
       "    <tr>\n",
       "      <th>2763</th>\n",
       "      <td>1</td>\n",
       "      <td>1</td>\n",
       "      <td>0</td>\n",
       "      <td>0</td>\n",
       "      <td>0</td>\n",
       "      <td>0</td>\n",
       "      <td>0</td>\n",
       "      <td>0</td>\n",
       "      <td>1</td>\n",
       "      <td>0</td>\n",
       "      <td>...</td>\n",
       "      <td>0</td>\n",
       "      <td>0</td>\n",
       "      <td>0</td>\n",
       "      <td>0</td>\n",
       "      <td>0</td>\n",
       "      <td>0</td>\n",
       "      <td>0</td>\n",
       "      <td>0</td>\n",
       "      <td>0</td>\n",
       "      <td>0</td>\n",
       "    </tr>\n",
       "    <tr>\n",
       "      <th>905</th>\n",
       "      <td>0</td>\n",
       "      <td>0</td>\n",
       "      <td>0</td>\n",
       "      <td>0</td>\n",
       "      <td>0</td>\n",
       "      <td>1</td>\n",
       "      <td>0</td>\n",
       "      <td>0</td>\n",
       "      <td>0</td>\n",
       "      <td>0</td>\n",
       "      <td>...</td>\n",
       "      <td>0</td>\n",
       "      <td>0</td>\n",
       "      <td>0</td>\n",
       "      <td>0</td>\n",
       "      <td>0</td>\n",
       "      <td>0</td>\n",
       "      <td>0</td>\n",
       "      <td>0</td>\n",
       "      <td>0</td>\n",
       "      <td>0</td>\n",
       "    </tr>\n",
       "    <tr>\n",
       "      <th>3980</th>\n",
       "      <td>1</td>\n",
       "      <td>0</td>\n",
       "      <td>0</td>\n",
       "      <td>0</td>\n",
       "      <td>0</td>\n",
       "      <td>1</td>\n",
       "      <td>0</td>\n",
       "      <td>0</td>\n",
       "      <td>0</td>\n",
       "      <td>0</td>\n",
       "      <td>...</td>\n",
       "      <td>0</td>\n",
       "      <td>0</td>\n",
       "      <td>0</td>\n",
       "      <td>0</td>\n",
       "      <td>0</td>\n",
       "      <td>0</td>\n",
       "      <td>0</td>\n",
       "      <td>0</td>\n",
       "      <td>0</td>\n",
       "      <td>0</td>\n",
       "    </tr>\n",
       "    <tr>\n",
       "      <th>235</th>\n",
       "      <td>0</td>\n",
       "      <td>0</td>\n",
       "      <td>0</td>\n",
       "      <td>0</td>\n",
       "      <td>0</td>\n",
       "      <td>1</td>\n",
       "      <td>0</td>\n",
       "      <td>0</td>\n",
       "      <td>0</td>\n",
       "      <td>0</td>\n",
       "      <td>...</td>\n",
       "      <td>0</td>\n",
       "      <td>0</td>\n",
       "      <td>0</td>\n",
       "      <td>0</td>\n",
       "      <td>0</td>\n",
       "      <td>0</td>\n",
       "      <td>0</td>\n",
       "      <td>0</td>\n",
       "      <td>0</td>\n",
       "      <td>0</td>\n",
       "    </tr>\n",
       "  </tbody>\n",
       "</table>\n",
       "<p>3473 rows × 99 columns</p>\n",
       "</div>"
      ],
      "text/plain": [
       "      itching  skin_rash  nodal_skin_eruptions  continuous_sneezing  chills  \\\n",
       "1237        1          1                     0                    0       0   \n",
       "1565        0          0                     0                    0       0   \n",
       "1238        1          1                     1                    0       0   \n",
       "1577        0          0                     0                    0       0   \n",
       "1987        0          0                     0                    0       0   \n",
       "...       ...        ...                   ...                  ...     ...   \n",
       "2895        0          0                     0                    0       1   \n",
       "2763        1          1                     0                    0       0   \n",
       "905         0          0                     0                    0       0   \n",
       "3980        1          0                     0                    0       0   \n",
       "235         0          0                     0                    0       0   \n",
       "\n",
       "      vomiting  burning_micturition  spotting_ urination  fatigue  \\\n",
       "1237         0                    0                    0        0   \n",
       "1565         1                    0                    0        1   \n",
       "1238         0                    0                    0        0   \n",
       "1577         0                    0                    0        0   \n",
       "1987         0                    0                    0        0   \n",
       "...        ...                  ...                  ...      ...   \n",
       "2895         1                    0                    0        1   \n",
       "2763         0                    0                    0        1   \n",
       "905          1                    0                    0        0   \n",
       "3980         1                    0                    0        0   \n",
       "235          1                    0                    0        0   \n",
       "\n",
       "      weight_gain  ...  history_of_alcohol_consumption  fluid_overload.1  \\\n",
       "1237            0  ...                               0                 0   \n",
       "1565            0  ...                               0                 0   \n",
       "1238            0  ...                               0                 0   \n",
       "1577            0  ...                               0                 0   \n",
       "1987            0  ...                               0                 0   \n",
       "...           ...  ...                             ...               ...   \n",
       "2895            0  ...                               0                 0   \n",
       "2763            0  ...                               0                 0   \n",
       "905             0  ...                               0                 0   \n",
       "3980            0  ...                               0                 0   \n",
       "235             0  ...                               0                 0   \n",
       "\n",
       "      blood_in_sputum  prominent_veins_on_calf  palpitations  skin_peeling  \\\n",
       "1237                0                        0             0             0   \n",
       "1565                0                        0             1             0   \n",
       "1238                0                        0             0             0   \n",
       "1577                0                        0             0             0   \n",
       "1987                0                        0             0             0   \n",
       "...               ...                      ...           ...           ...   \n",
       "2895                1                        0             0             0   \n",
       "2763                0                        0             0             0   \n",
       "905                 0                        0             0             0   \n",
       "3980                0                        0             0             0   \n",
       "235                 0                        0             0             0   \n",
       "\n",
       "      silver_like_dusting  small_dents_in_nails  inflammatory_nails  \\\n",
       "1237                    0                     0                   0   \n",
       "1565                    0                     0                   0   \n",
       "1238                    0                     0                   0   \n",
       "1577                    0                     0                   0   \n",
       "1987                    0                     0                   0   \n",
       "...                   ...                   ...                 ...   \n",
       "2895                    0                     0                   0   \n",
       "2763                    0                     0                   0   \n",
       "905                     0                     0                   0   \n",
       "3980                    0                     0                   0   \n",
       "235                     0                     0                   0   \n",
       "\n",
       "      red_sore_around_nose  \n",
       "1237                     0  \n",
       "1565                     0  \n",
       "1238                     0  \n",
       "1577                     0  \n",
       "1987                     0  \n",
       "...                    ...  \n",
       "2895                     0  \n",
       "2763                     0  \n",
       "905                      0  \n",
       "3980                     0  \n",
       "235                      0  \n",
       "\n",
       "[3473 rows x 99 columns]"
      ]
     },
     "execution_count": 206,
     "metadata": {},
     "output_type": "execute_result"
    }
   ],
   "source": [
    "X_train"
   ]
  },
  {
   "cell_type": "code",
   "execution_count": 207,
   "metadata": {},
   "outputs": [
    {
     "name": "stdout",
     "output_type": "stream",
     "text": [
      "Test Accuracy: 99.19%\n"
     ]
    }
   ],
   "source": [
    "reduced_data_model = LogisticRegression()\n",
    "reduced_data_model.fit(X_train, y_train)\n",
    "\n",
    "print(\"Test Accuracy: {:.2f}%\".format(reduced_data_model.score(X_test, y_test) * 100))"
   ]
  },
  {
   "cell_type": "code",
   "execution_count": 208,
   "metadata": {},
   "outputs": [],
   "source": [
    "y_pred = reduced_data_model.predict(X_test)\n",
    "\n",
    "cm = confusion_matrix(y_test, y_pred)"
   ]
  },
  {
   "cell_type": "code",
   "execution_count": 209,
   "metadata": {},
   "outputs": [
    {
     "data": {
      "image/png": "[encoded data removed]",
      "text/plain": [
       "<Figure size 2160x2160 with 1 Axes>"
      ]
     },
     "metadata": {},
     "output_type": "display_data"
    }
   ],
   "source": [
    "plt.figure(figsize=(30, 30))\n",
    "sns.heatmap(cm, annot=True, fmt='g', vmin=0, cmap='Blues', cbar=False)\n",
    "plt.xticks(np.arange(41) + 0.5, reduced_data_model.classes_, rotation=90)\n",
    "plt.yticks(np.arange(41) + 0.5, reduced_data_model.classes_, rotation=0)\n",
    "plt.xlabel(\"Predicted\")\n",
    "plt.ylabel(\"Actual\")\n",
    "plt.title(\"Confusion Matrix\")\n",
    "plt.show()"
   ]
  },
  {
   "cell_type": "code",
   "execution_count": 1,
   "metadata": {},
   "outputs": [
    {
     "data": {
      "text/html": [
       "<div>\n",
       "<style scoped>\n",
       "    .dataframe tbody tr th:only-of-type {\n",
       "        vertical-align: middle;\n",
       "    }\n",
       "\n",
       "    .dataframe tbody tr th {\n",
       "        vertical-align: top;\n",
       "    }\n",
       "\n",
       "    .dataframe thead th {\n",
       "        text-align: right;\n",
       "    }\n",
       "</style>\n",
       "<table border=\"1\" class=\"dataframe\">\n",
       "  <thead>\n",
       "    <tr style=\"text-align: right;\">\n",
       "      <th></th>\n",
       "      <th>Model Name</th>\n",
       "      <th>Accuracy</th>\n",
       "    </tr>\n",
       "  </thead>\n",
       "  <tbody>\n",
       "    <tr>\n",
       "      <th>0</th>\n",
       "      <td>Logistic Regression</td>\n",
       "      <td>99.1900</td>\n",
       "    </tr>\n",
       "    <tr>\n",
       "      <th>1</th>\n",
       "      <td>Decision Tree</td>\n",
       "      <td>90.4700</td>\n",
       "    </tr>\n",
       "    <tr>\n",
       "      <th>2</th>\n",
       "      <td>ANN Sequential Model</td>\n",
       "      <td>99.9963</td>\n",
       "    </tr>\n",
       "  </tbody>\n",
       "</table>\n",
       "</div>"
      ],
      "text/plain": [
       "             Model Name  Accuracy\n",
       "0   Logistic Regression   99.1900\n",
       "1         Decision Tree   90.4700\n",
       "2  ANN Sequential Model   99.9963"
      ]
     },
     "execution_count": 1,
     "metadata": {},
     "output_type": "execute_result"
    }
   ],
   "source": [
    "import pandas as pd\n",
    "data = [['Logistic Regression', 99.19], ['Decision Tree', 90.47], ['ANN Sequential Model', 99.9963]]\n",
    "df = pd.DataFrame(data, columns = ['Model Name', 'Accuracy'])\n",
    "df"
   ]
  },
  {
   "cell_type": "code",
   "execution_count": 2,
   "metadata": {},
   "outputs": [
    {
     "data": {
      "text/plain": [
       "<matplotlib.axes._subplots.AxesSubplot at 0x219f4c1438>"
      ]
     },
     "execution_count": 2,
     "metadata": {},
     "output_type": "execute_result"
    }
   ],
   "source": [
    "import matplotlib.pyplot as plt \n",
    "df.boxplot(by ='Model Name', column =['Accuracy'], grid = False)"
   ]
  },
  {
   "cell_type": "code",
   "execution_count": 3,
   "metadata": {},
   "outputs": [
    {
     "data": {
      "image/png": "[encoded data removed]",
      "text/plain": [
       "<Figure size 720x504 with 1 Axes>"
      ]
     },
     "metadata": {
      "needs_background": "light"
     },
     "output_type": "display_data"
    },
    {
     "data": {
      "text/plain": [
       "<Figure size 432x288 with 0 Axes>"
      ]
     },
     "metadata": {},
     "output_type": "display_data"
    }
   ],
   "source": [
    "from matplotlib import pyplot as plt\n",
    "\n",
    "mn = df['Model Name']\n",
    "acc = df['Accuracy']\n",
    " \n",
    "fig = plt.figure(figsize =(10, 7), linewidth=0.5)\n",
    "axes=fig.add_axes([0.1,0.1,0.8,0.8])\n",
    "axes.set_xlabel('Model Name')\n",
    "axes.set_ylabel('Accuracy')\n",
    "axes.set_title('Comparison of Accuracies')\n",
    "plt.bar(mn, acc, width=0.3)\n",
    "axes.set_ylim([75,105])\n",
    "plt.show()\n",
    "plt.tight_layout()"
   ]
  },
  {
   "cell_type": "code",
   "execution_count": 4,
   "metadata": {},
   "outputs": [],
   "source": [
    "fig.savefig(\"bar.png\", dpi=100)"
   ]
  }
 ],
 "metadata": {
  "kernelspec": {
   "display_name": "Python 3",
   "language": "python",
   "name": "python3"
  },
  "language_info": {
   "codemirror_mode": {
    "name": "ipython",
    "version": 3
   },
   "file_extension": ".py",
   "mimetype": "text/x-python",
   "name": "python",
   "nbconvert_exporter": "python",
   "pygments_lexer": "ipython3",
   "version": "3.7.3"
  }
 },
 "nbformat": 4,
 "nbformat_minor": 4
}
