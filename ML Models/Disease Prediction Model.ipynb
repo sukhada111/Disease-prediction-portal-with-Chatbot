{
 "cells": [
  {
   "cell_type": "code",
   "execution_count": 1,
   "metadata": {},
   "outputs": [],
   "source": [
    "#importing the necessary libraries\n",
    "\n",
    "import numpy as np \n",
    "import pandas as pd \n",
    "import seaborn as sns\n",
    "import matplotlib.pyplot as plt"
   ]
  },
  {
   "cell_type": "code",
   "execution_count": 2,
   "metadata": {},
   "outputs": [],
   "source": [
    "#reading the dataset\n",
    "\n",
    "df=pd.read_csv('../Dataset/Training.csv')\n",
    "test_df=pd.read_csv('../Dataset/Testing.csv')"
   ]
  },
  {
   "cell_type": "code",
   "execution_count": 3,
   "metadata": {},
   "outputs": [
    {
     "name": "stdout",
     "output_type": "stream",
     "text": [
      "<class 'pandas.core.frame.DataFrame'>\n",
      "RangeIndex: 4920 entries, 0 to 4919\n",
      "Columns: 134 entries, itching to Unnamed: 133\n",
      "dtypes: float64(1), int64(132), object(1)\n",
      "memory usage: 5.0+ MB\n"
     ]
    }
   ],
   "source": [
    "df.info()"
   ]
  },
  {
   "cell_type": "code",
   "execution_count": 4,
   "metadata": {},
   "outputs": [
    {
     "data": {
      "text/html": [
       "<div>\n",
       "<style scoped>\n",
       "    .dataframe tbody tr th:only-of-type {\n",
       "        vertical-align: middle;\n",
       "    }\n",
       "\n",
       "    .dataframe tbody tr th {\n",
       "        vertical-align: top;\n",
       "    }\n",
       "\n",
       "    .dataframe thead th {\n",
       "        text-align: right;\n",
       "    }\n",
       "</style>\n",
       "<table border=\"1\" class=\"dataframe\">\n",
       "  <thead>\n",
       "    <tr style=\"text-align: right;\">\n",
       "      <th></th>\n",
       "      <th>itching</th>\n",
       "      <th>skin_rash</th>\n",
       "      <th>nodal_skin_eruptions</th>\n",
       "      <th>continuous_sneezing</th>\n",
       "      <th>shivering</th>\n",
       "      <th>chills</th>\n",
       "      <th>joint_pain</th>\n",
       "      <th>stomach_pain</th>\n",
       "      <th>acidity</th>\n",
       "      <th>ulcers_on_tongue</th>\n",
       "      <th>...</th>\n",
       "      <th>scurring</th>\n",
       "      <th>skin_peeling</th>\n",
       "      <th>silver_like_dusting</th>\n",
       "      <th>small_dents_in_nails</th>\n",
       "      <th>inflammatory_nails</th>\n",
       "      <th>blister</th>\n",
       "      <th>red_sore_around_nose</th>\n",
       "      <th>yellow_crust_ooze</th>\n",
       "      <th>prognosis</th>\n",
       "      <th>Unnamed: 133</th>\n",
       "    </tr>\n",
       "  </thead>\n",
       "  <tbody>\n",
       "    <tr>\n",
       "      <th>0</th>\n",
       "      <td>1</td>\n",
       "      <td>1</td>\n",
       "      <td>1</td>\n",
       "      <td>0</td>\n",
       "      <td>0</td>\n",
       "      <td>0</td>\n",
       "      <td>0</td>\n",
       "      <td>0</td>\n",
       "      <td>0</td>\n",
       "      <td>0</td>\n",
       "      <td>...</td>\n",
       "      <td>0</td>\n",
       "      <td>0</td>\n",
       "      <td>0</td>\n",
       "      <td>0</td>\n",
       "      <td>0</td>\n",
       "      <td>0</td>\n",
       "      <td>0</td>\n",
       "      <td>0</td>\n",
       "      <td>Fungal infection</td>\n",
       "      <td>NaN</td>\n",
       "    </tr>\n",
       "    <tr>\n",
       "      <th>1</th>\n",
       "      <td>0</td>\n",
       "      <td>1</td>\n",
       "      <td>1</td>\n",
       "      <td>0</td>\n",
       "      <td>0</td>\n",
       "      <td>0</td>\n",
       "      <td>0</td>\n",
       "      <td>0</td>\n",
       "      <td>0</td>\n",
       "      <td>0</td>\n",
       "      <td>...</td>\n",
       "      <td>0</td>\n",
       "      <td>0</td>\n",
       "      <td>0</td>\n",
       "      <td>0</td>\n",
       "      <td>0</td>\n",
       "      <td>0</td>\n",
       "      <td>0</td>\n",
       "      <td>0</td>\n",
       "      <td>Fungal infection</td>\n",
       "      <td>NaN</td>\n",
       "    </tr>\n",
       "    <tr>\n",
       "      <th>2</th>\n",
       "      <td>1</td>\n",
       "      <td>0</td>\n",
       "      <td>1</td>\n",
       "      <td>0</td>\n",
       "      <td>0</td>\n",
       "      <td>0</td>\n",
       "      <td>0</td>\n",
       "      <td>0</td>\n",
       "      <td>0</td>\n",
       "      <td>0</td>\n",
       "      <td>...</td>\n",
       "      <td>0</td>\n",
       "      <td>0</td>\n",
       "      <td>0</td>\n",
       "      <td>0</td>\n",
       "      <td>0</td>\n",
       "      <td>0</td>\n",
       "      <td>0</td>\n",
       "      <td>0</td>\n",
       "      <td>Fungal infection</td>\n",
       "      <td>NaN</td>\n",
       "    </tr>\n",
       "    <tr>\n",
       "      <th>3</th>\n",
       "      <td>1</td>\n",
       "      <td>1</td>\n",
       "      <td>0</td>\n",
       "      <td>0</td>\n",
       "      <td>0</td>\n",
       "      <td>0</td>\n",
       "      <td>0</td>\n",
       "      <td>0</td>\n",
       "      <td>0</td>\n",
       "      <td>0</td>\n",
       "      <td>...</td>\n",
       "      <td>0</td>\n",
       "      <td>0</td>\n",
       "      <td>0</td>\n",
       "      <td>0</td>\n",
       "      <td>0</td>\n",
       "      <td>0</td>\n",
       "      <td>0</td>\n",
       "      <td>0</td>\n",
       "      <td>Fungal infection</td>\n",
       "      <td>NaN</td>\n",
       "    </tr>\n",
       "    <tr>\n",
       "      <th>4</th>\n",
       "      <td>1</td>\n",
       "      <td>1</td>\n",
       "      <td>1</td>\n",
       "      <td>0</td>\n",
       "      <td>0</td>\n",
       "      <td>0</td>\n",
       "      <td>0</td>\n",
       "      <td>0</td>\n",
       "      <td>0</td>\n",
       "      <td>0</td>\n",
       "      <td>...</td>\n",
       "      <td>0</td>\n",
       "      <td>0</td>\n",
       "      <td>0</td>\n",
       "      <td>0</td>\n",
       "      <td>0</td>\n",
       "      <td>0</td>\n",
       "      <td>0</td>\n",
       "      <td>0</td>\n",
       "      <td>Fungal infection</td>\n",
       "      <td>NaN</td>\n",
       "    </tr>\n",
       "  </tbody>\n",
       "</table>\n",
       "<p>5 rows × 134 columns</p>\n",
       "</div>"
      ],
      "text/plain": [
       "   itching  skin_rash  nodal_skin_eruptions  continuous_sneezing  shivering  \\\n",
       "0        1          1                     1                    0          0   \n",
       "1        0          1                     1                    0          0   \n",
       "2        1          0                     1                    0          0   \n",
       "3        1          1                     0                    0          0   \n",
       "4        1          1                     1                    0          0   \n",
       "\n",
       "   chills  joint_pain  stomach_pain  acidity  ulcers_on_tongue  ...  scurring  \\\n",
       "0       0           0             0        0                 0  ...         0   \n",
       "1       0           0             0        0                 0  ...         0   \n",
       "2       0           0             0        0                 0  ...         0   \n",
       "3       0           0             0        0                 0  ...         0   \n",
       "4       0           0             0        0                 0  ...         0   \n",
       "\n",
       "   skin_peeling  silver_like_dusting  small_dents_in_nails  \\\n",
       "0             0                    0                     0   \n",
       "1             0                    0                     0   \n",
       "2             0                    0                     0   \n",
       "3             0                    0                     0   \n",
       "4             0                    0                     0   \n",
       "\n",
       "   inflammatory_nails  blister  red_sore_around_nose  yellow_crust_ooze  \\\n",
       "0                   0        0                     0                  0   \n",
       "1                   0        0                     0                  0   \n",
       "2                   0        0                     0                  0   \n",
       "3                   0        0                     0                  0   \n",
       "4                   0        0                     0                  0   \n",
       "\n",
       "          prognosis  Unnamed: 133  \n",
       "0  Fungal infection           NaN  \n",
       "1  Fungal infection           NaN  \n",
       "2  Fungal infection           NaN  \n",
       "3  Fungal infection           NaN  \n",
       "4  Fungal infection           NaN  \n",
       "\n",
       "[5 rows x 134 columns]"
      ]
     },
     "execution_count": 4,
     "metadata": {},
     "output_type": "execute_result"
    }
   ],
   "source": [
    "df.head()"
   ]
  },
  {
   "cell_type": "code",
   "execution_count": 5,
   "metadata": {},
   "outputs": [
    {
     "data": {
      "text/html": [
       "<div>\n",
       "<style scoped>\n",
       "    .dataframe tbody tr th:only-of-type {\n",
       "        vertical-align: middle;\n",
       "    }\n",
       "\n",
       "    .dataframe tbody tr th {\n",
       "        vertical-align: top;\n",
       "    }\n",
       "\n",
       "    .dataframe thead th {\n",
       "        text-align: right;\n",
       "    }\n",
       "</style>\n",
       "<table border=\"1\" class=\"dataframe\">\n",
       "  <thead>\n",
       "    <tr style=\"text-align: right;\">\n",
       "      <th></th>\n",
       "      <th>itching</th>\n",
       "      <th>skin_rash</th>\n",
       "      <th>nodal_skin_eruptions</th>\n",
       "      <th>continuous_sneezing</th>\n",
       "      <th>shivering</th>\n",
       "      <th>chills</th>\n",
       "      <th>joint_pain</th>\n",
       "      <th>stomach_pain</th>\n",
       "      <th>acidity</th>\n",
       "      <th>ulcers_on_tongue</th>\n",
       "      <th>...</th>\n",
       "      <th>blackheads</th>\n",
       "      <th>scurring</th>\n",
       "      <th>skin_peeling</th>\n",
       "      <th>silver_like_dusting</th>\n",
       "      <th>small_dents_in_nails</th>\n",
       "      <th>inflammatory_nails</th>\n",
       "      <th>blister</th>\n",
       "      <th>red_sore_around_nose</th>\n",
       "      <th>yellow_crust_ooze</th>\n",
       "      <th>Unnamed: 133</th>\n",
       "    </tr>\n",
       "  </thead>\n",
       "  <tbody>\n",
       "    <tr>\n",
       "      <th>count</th>\n",
       "      <td>4920.000000</td>\n",
       "      <td>4920.000000</td>\n",
       "      <td>4920.000000</td>\n",
       "      <td>4920.000000</td>\n",
       "      <td>4920.000000</td>\n",
       "      <td>4920.000000</td>\n",
       "      <td>4920.000000</td>\n",
       "      <td>4920.000000</td>\n",
       "      <td>4920.000000</td>\n",
       "      <td>4920.000000</td>\n",
       "      <td>...</td>\n",
       "      <td>4920.000000</td>\n",
       "      <td>4920.000000</td>\n",
       "      <td>4920.000000</td>\n",
       "      <td>4920.000000</td>\n",
       "      <td>4920.000000</td>\n",
       "      <td>4920.000000</td>\n",
       "      <td>4920.000000</td>\n",
       "      <td>4920.000000</td>\n",
       "      <td>4920.000000</td>\n",
       "      <td>0.0</td>\n",
       "    </tr>\n",
       "    <tr>\n",
       "      <th>mean</th>\n",
       "      <td>0.137805</td>\n",
       "      <td>0.159756</td>\n",
       "      <td>0.021951</td>\n",
       "      <td>0.045122</td>\n",
       "      <td>0.021951</td>\n",
       "      <td>0.162195</td>\n",
       "      <td>0.139024</td>\n",
       "      <td>0.045122</td>\n",
       "      <td>0.045122</td>\n",
       "      <td>0.021951</td>\n",
       "      <td>...</td>\n",
       "      <td>0.021951</td>\n",
       "      <td>0.021951</td>\n",
       "      <td>0.023171</td>\n",
       "      <td>0.023171</td>\n",
       "      <td>0.023171</td>\n",
       "      <td>0.023171</td>\n",
       "      <td>0.023171</td>\n",
       "      <td>0.023171</td>\n",
       "      <td>0.023171</td>\n",
       "      <td>NaN</td>\n",
       "    </tr>\n",
       "    <tr>\n",
       "      <th>std</th>\n",
       "      <td>0.344730</td>\n",
       "      <td>0.366417</td>\n",
       "      <td>0.146539</td>\n",
       "      <td>0.207593</td>\n",
       "      <td>0.146539</td>\n",
       "      <td>0.368667</td>\n",
       "      <td>0.346007</td>\n",
       "      <td>0.207593</td>\n",
       "      <td>0.207593</td>\n",
       "      <td>0.146539</td>\n",
       "      <td>...</td>\n",
       "      <td>0.146539</td>\n",
       "      <td>0.146539</td>\n",
       "      <td>0.150461</td>\n",
       "      <td>0.150461</td>\n",
       "      <td>0.150461</td>\n",
       "      <td>0.150461</td>\n",
       "      <td>0.150461</td>\n",
       "      <td>0.150461</td>\n",
       "      <td>0.150461</td>\n",
       "      <td>NaN</td>\n",
       "    </tr>\n",
       "    <tr>\n",
       "      <th>min</th>\n",
       "      <td>0.000000</td>\n",
       "      <td>0.000000</td>\n",
       "      <td>0.000000</td>\n",
       "      <td>0.000000</td>\n",
       "      <td>0.000000</td>\n",
       "      <td>0.000000</td>\n",
       "      <td>0.000000</td>\n",
       "      <td>0.000000</td>\n",
       "      <td>0.000000</td>\n",
       "      <td>0.000000</td>\n",
       "      <td>...</td>\n",
       "      <td>0.000000</td>\n",
       "      <td>0.000000</td>\n",
       "      <td>0.000000</td>\n",
       "      <td>0.000000</td>\n",
       "      <td>0.000000</td>\n",
       "      <td>0.000000</td>\n",
       "      <td>0.000000</td>\n",
       "      <td>0.000000</td>\n",
       "      <td>0.000000</td>\n",
       "      <td>NaN</td>\n",
       "    </tr>\n",
       "    <tr>\n",
       "      <th>25%</th>\n",
       "      <td>0.000000</td>\n",
       "      <td>0.000000</td>\n",
       "      <td>0.000000</td>\n",
       "      <td>0.000000</td>\n",
       "      <td>0.000000</td>\n",
       "      <td>0.000000</td>\n",
       "      <td>0.000000</td>\n",
       "      <td>0.000000</td>\n",
       "      <td>0.000000</td>\n",
       "      <td>0.000000</td>\n",
       "      <td>...</td>\n",
       "      <td>0.000000</td>\n",
       "      <td>0.000000</td>\n",
       "      <td>0.000000</td>\n",
       "      <td>0.000000</td>\n",
       "      <td>0.000000</td>\n",
       "      <td>0.000000</td>\n",
       "      <td>0.000000</td>\n",
       "      <td>0.000000</td>\n",
       "      <td>0.000000</td>\n",
       "      <td>NaN</td>\n",
       "    </tr>\n",
       "    <tr>\n",
       "      <th>50%</th>\n",
       "      <td>0.000000</td>\n",
       "      <td>0.000000</td>\n",
       "      <td>0.000000</td>\n",
       "      <td>0.000000</td>\n",
       "      <td>0.000000</td>\n",
       "      <td>0.000000</td>\n",
       "      <td>0.000000</td>\n",
       "      <td>0.000000</td>\n",
       "      <td>0.000000</td>\n",
       "      <td>0.000000</td>\n",
       "      <td>...</td>\n",
       "      <td>0.000000</td>\n",
       "      <td>0.000000</td>\n",
       "      <td>0.000000</td>\n",
       "      <td>0.000000</td>\n",
       "      <td>0.000000</td>\n",
       "      <td>0.000000</td>\n",
       "      <td>0.000000</td>\n",
       "      <td>0.000000</td>\n",
       "      <td>0.000000</td>\n",
       "      <td>NaN</td>\n",
       "    </tr>\n",
       "    <tr>\n",
       "      <th>75%</th>\n",
       "      <td>0.000000</td>\n",
       "      <td>0.000000</td>\n",
       "      <td>0.000000</td>\n",
       "      <td>0.000000</td>\n",
       "      <td>0.000000</td>\n",
       "      <td>0.000000</td>\n",
       "      <td>0.000000</td>\n",
       "      <td>0.000000</td>\n",
       "      <td>0.000000</td>\n",
       "      <td>0.000000</td>\n",
       "      <td>...</td>\n",
       "      <td>0.000000</td>\n",
       "      <td>0.000000</td>\n",
       "      <td>0.000000</td>\n",
       "      <td>0.000000</td>\n",
       "      <td>0.000000</td>\n",
       "      <td>0.000000</td>\n",
       "      <td>0.000000</td>\n",
       "      <td>0.000000</td>\n",
       "      <td>0.000000</td>\n",
       "      <td>NaN</td>\n",
       "    </tr>\n",
       "    <tr>\n",
       "      <th>max</th>\n",
       "      <td>1.000000</td>\n",
       "      <td>1.000000</td>\n",
       "      <td>1.000000</td>\n",
       "      <td>1.000000</td>\n",
       "      <td>1.000000</td>\n",
       "      <td>1.000000</td>\n",
       "      <td>1.000000</td>\n",
       "      <td>1.000000</td>\n",
       "      <td>1.000000</td>\n",
       "      <td>1.000000</td>\n",
       "      <td>...</td>\n",
       "      <td>1.000000</td>\n",
       "      <td>1.000000</td>\n",
       "      <td>1.000000</td>\n",
       "      <td>1.000000</td>\n",
       "      <td>1.000000</td>\n",
       "      <td>1.000000</td>\n",
       "      <td>1.000000</td>\n",
       "      <td>1.000000</td>\n",
       "      <td>1.000000</td>\n",
       "      <td>NaN</td>\n",
       "    </tr>\n",
       "  </tbody>\n",
       "</table>\n",
       "<p>8 rows × 133 columns</p>\n",
       "</div>"
      ],
      "text/plain": [
       "           itching    skin_rash  nodal_skin_eruptions  continuous_sneezing  \\\n",
       "count  4920.000000  4920.000000           4920.000000          4920.000000   \n",
       "mean      0.137805     0.159756              0.021951             0.045122   \n",
       "std       0.344730     0.366417              0.146539             0.207593   \n",
       "min       0.000000     0.000000              0.000000             0.000000   \n",
       "25%       0.000000     0.000000              0.000000             0.000000   \n",
       "50%       0.000000     0.000000              0.000000             0.000000   \n",
       "75%       0.000000     0.000000              0.000000             0.000000   \n",
       "max       1.000000     1.000000              1.000000             1.000000   \n",
       "\n",
       "         shivering       chills   joint_pain  stomach_pain      acidity  \\\n",
       "count  4920.000000  4920.000000  4920.000000   4920.000000  4920.000000   \n",
       "mean      0.021951     0.162195     0.139024      0.045122     0.045122   \n",
       "std       0.146539     0.368667     0.346007      0.207593     0.207593   \n",
       "min       0.000000     0.000000     0.000000      0.000000     0.000000   \n",
       "25%       0.000000     0.000000     0.000000      0.000000     0.000000   \n",
       "50%       0.000000     0.000000     0.000000      0.000000     0.000000   \n",
       "75%       0.000000     0.000000     0.000000      0.000000     0.000000   \n",
       "max       1.000000     1.000000     1.000000      1.000000     1.000000   \n",
       "\n",
       "       ulcers_on_tongue  ...   blackheads     scurring  skin_peeling  \\\n",
       "count       4920.000000  ...  4920.000000  4920.000000   4920.000000   \n",
       "mean           0.021951  ...     0.021951     0.021951      0.023171   \n",
       "std            0.146539  ...     0.146539     0.146539      0.150461   \n",
       "min            0.000000  ...     0.000000     0.000000      0.000000   \n",
       "25%            0.000000  ...     0.000000     0.000000      0.000000   \n",
       "50%            0.000000  ...     0.000000     0.000000      0.000000   \n",
       "75%            0.000000  ...     0.000000     0.000000      0.000000   \n",
       "max            1.000000  ...     1.000000     1.000000      1.000000   \n",
       "\n",
       "       silver_like_dusting  small_dents_in_nails  inflammatory_nails  \\\n",
       "count          4920.000000           4920.000000         4920.000000   \n",
       "mean              0.023171              0.023171            0.023171   \n",
       "std               0.150461              0.150461            0.150461   \n",
       "min               0.000000              0.000000            0.000000   \n",
       "25%               0.000000              0.000000            0.000000   \n",
       "50%               0.000000              0.000000            0.000000   \n",
       "75%               0.000000              0.000000            0.000000   \n",
       "max               1.000000              1.000000            1.000000   \n",
       "\n",
       "           blister  red_sore_around_nose  yellow_crust_ooze  Unnamed: 133  \n",
       "count  4920.000000           4920.000000        4920.000000           0.0  \n",
       "mean      0.023171              0.023171           0.023171           NaN  \n",
       "std       0.150461              0.150461           0.150461           NaN  \n",
       "min       0.000000              0.000000           0.000000           NaN  \n",
       "25%       0.000000              0.000000           0.000000           NaN  \n",
       "50%       0.000000              0.000000           0.000000           NaN  \n",
       "75%       0.000000              0.000000           0.000000           NaN  \n",
       "max       1.000000              1.000000           1.000000           NaN  \n",
       "\n",
       "[8 rows x 133 columns]"
      ]
     },
     "execution_count": 5,
     "metadata": {},
     "output_type": "execute_result"
    }
   ],
   "source": [
    "df.describe()"
   ]
  },
  {
   "cell_type": "code",
   "execution_count": 6,
   "metadata": {},
   "outputs": [],
   "source": [
    "#drop unnamed column:133\n",
    "df.drop(\"Unnamed: 133\", axis = 1, inplace = True)"
   ]
  },
  {
   "cell_type": "code",
   "execution_count": 7,
   "metadata": {},
   "outputs": [
    {
     "data": {
      "text/plain": [
       "itching                 0\n",
       "skin_rash               0\n",
       "nodal_skin_eruptions    0\n",
       "continuous_sneezing     0\n",
       "shivering               0\n",
       "                       ..\n",
       "inflammatory_nails      0\n",
       "blister                 0\n",
       "red_sore_around_nose    0\n",
       "yellow_crust_ooze       0\n",
       "prognosis               0\n",
       "Length: 133, dtype: int64"
      ]
     },
     "execution_count": 7,
     "metadata": {},
     "output_type": "execute_result"
    }
   ],
   "source": [
    "#checking null values\n",
    "df.isna().sum()"
   ]
  },
  {
   "cell_type": "markdown",
   "metadata": {},
   "source": [
    "# Building ML models"
   ]
  },
  {
   "cell_type": "code",
   "execution_count": 8,
   "metadata": {},
   "outputs": [
    {
     "data": {
      "text/plain": [
       "array(['Fungal infection', 'Allergy', 'GERD', 'Chronic cholestasis',\n",
       "       'Drug Reaction', 'Peptic ulcer diseae', 'AIDS', 'Diabetes ',\n",
       "       'Gastroenteritis', 'Bronchial Asthma', 'Hypertension ', 'Migraine',\n",
       "       'Cervical spondylosis', 'Paralysis (brain hemorrhage)', 'Jaundice',\n",
       "       'Malaria', 'Chicken pox', 'Dengue', 'Typhoid', 'hepatitis A',\n",
       "       'Hepatitis B', 'Hepatitis C', 'Hepatitis D', 'Hepatitis E',\n",
       "       'Alcoholic hepatitis', 'Tuberculosis', 'Common Cold', 'Pneumonia',\n",
       "       'Dimorphic hemmorhoids(piles)', 'Heart attack', 'Varicose veins',\n",
       "       'Hypothyroidism', 'Hyperthyroidism', 'Hypoglycemia',\n",
       "       'Osteoarthristis', 'Arthritis',\n",
       "       '(vertigo) Paroymsal  Positional Vertigo', 'Acne',\n",
       "       'Urinary tract infection', 'Psoriasis', 'Impetigo'], dtype=object)"
      ]
     },
     "execution_count": 8,
     "metadata": {},
     "output_type": "execute_result"
    }
   ],
   "source": [
    "#checking labels\n",
    "df['prognosis'].unique()"
   ]
  },
  {
   "cell_type": "code",
   "execution_count": 9,
   "metadata": {},
   "outputs": [
    {
     "name": "stdout",
     "output_type": "stream",
     "text": [
      "X_trainshape:  (4920, 132) y_train_shape:  (4920,)\n",
      "X_test.shape:  (42, 132) y_test.shape:  (42,)\n"
     ]
    }
   ],
   "source": [
    "# split dataset into attributes and labels\n",
    "X_train = df.iloc[:,:-1].values # the training attributes\n",
    "y_train = df.iloc[:,132].values # the training labels\n",
    "X_test = test_df.iloc[:,:-1].values # the testing attributes\n",
    "y_test = test_df.iloc[:,132].values # the testing labels\n",
    "print(\"X_trainshape: \",X_train.shape,\"y_train_shape: \", y_train.shape)\n",
    "print(\"X_test.shape: \", X_test.shape,\"y_test.shape: \", y_test.shape)\n"
   ]
  },
  {
   "cell_type": "code",
   "execution_count": 10,
   "metadata": {},
   "outputs": [],
   "source": [
    "# Libraries for ML model\n",
    "from sklearn.model_selection import train_test_split\n",
    "from sklearn.tree import DecisionTreeClassifier\n",
    "from sklearn.ensemble import RandomForestClassifier\n",
    "from sklearn.linear_model import LogisticRegression\n",
    "from sklearn.metrics import accuracy_score"
   ]
  },
  {
   "cell_type": "markdown",
   "metadata": {},
   "source": [
    "# Decision Tree Classifier"
   ]
  },
  {
   "cell_type": "code",
   "execution_count": 11,
   "metadata": {},
   "outputs": [
    {
     "name": "stdout",
     "output_type": "stream",
     "text": [
      "Train Accuracy:  100.0\n",
      "Test Accuracy:  97.62\n"
     ]
    }
   ],
   "source": [
    "# Decision Tree\n",
    "\n",
    "decision_tree = DecisionTreeClassifier()\n",
    "decision_tree.fit(X_train, y_train)\n",
    "Y_predDT = decision_tree.predict(X_test)\n",
    "print(\"Train Accuracy: \",round(accuracy_score(y_train, decision_tree.predict(X_train))*100,2))\n",
    "print(\"Test Accuracy: \",round(accuracy_score(y_test, Y_predDT) * 100 ,2))"
   ]
  },
  {
   "cell_type": "markdown",
   "metadata": {},
   "source": [
    "# Random Forest Classifier"
   ]
  },
  {
   "cell_type": "code",
   "execution_count": 12,
   "metadata": {},
   "outputs": [
    {
     "name": "stdout",
     "output_type": "stream",
     "text": [
      "Train Accuracy:  100.0\n",
      "Test Accuracy:  97.62\n"
     ]
    }
   ],
   "source": [
    "# Random Forest\n",
    "\n",
    "random_forest = RandomForestClassifier(n_estimators=100)\n",
    "random_forest.fit(X_train, y_train)\n",
    "Y_predRF = random_forest.predict(X_test)\n",
    "random_forest.score(X_train, y_train)\n",
    "print(\"Train Accuracy: \",round(accuracy_score(y_train, random_forest.predict(X_train))*100,2))\n",
    "print(\"Test Accuracy: \",round(accuracy_score(y_test, Y_predRF)*100,2))"
   ]
  },
  {
   "cell_type": "markdown",
   "metadata": {},
   "source": [
    "# Logistic Regression"
   ]
  },
  {
   "cell_type": "code",
   "execution_count": 13,
   "metadata": {},
   "outputs": [
    {
     "name": "stdout",
     "output_type": "stream",
     "text": [
      "Train Accuracy:  100.0\n",
      "Test Accuracy:  100.0\n"
     ]
    }
   ],
   "source": [
    "# Logistic Regression\n",
    "\n",
    "logreg = LogisticRegression()\n",
    "logreg.fit(X_train, y_train)\n",
    "Y_predLR = logreg.predict(X_test)\n",
    "print(\"Train Accuracy: \",round(accuracy_score(y_train, logreg.predict(X_train))*100,2))\n",
    "print(\"Test Accuracy: \",round(accuracy_score(y_test, Y_predLR) * 100,2))"
   ]
  },
  {
   "cell_type": "code",
   "execution_count": 14,
   "metadata": {},
   "outputs": [
    {
     "data": {
      "text/html": [
       "<div>\n",
       "<style scoped>\n",
       "    .dataframe tbody tr th:only-of-type {\n",
       "        vertical-align: middle;\n",
       "    }\n",
       "\n",
       "    .dataframe tbody tr th {\n",
       "        vertical-align: top;\n",
       "    }\n",
       "\n",
       "    .dataframe thead th {\n",
       "        text-align: right;\n",
       "    }\n",
       "</style>\n",
       "<table border=\"1\" class=\"dataframe\">\n",
       "  <thead>\n",
       "    <tr style=\"text-align: right;\">\n",
       "      <th></th>\n",
       "      <th>Model</th>\n",
       "      <th>Score</th>\n",
       "    </tr>\n",
       "  </thead>\n",
       "  <tbody>\n",
       "    <tr>\n",
       "      <th>0</th>\n",
       "      <td>Decision Tree</td>\n",
       "      <td>100.0</td>\n",
       "    </tr>\n",
       "    <tr>\n",
       "      <th>1</th>\n",
       "      <td>Random Forest</td>\n",
       "      <td>100.0</td>\n",
       "    </tr>\n",
       "    <tr>\n",
       "      <th>2</th>\n",
       "      <td>Logistic Regression</td>\n",
       "      <td>100.0</td>\n",
       "    </tr>\n",
       "  </tbody>\n",
       "</table>\n",
       "</div>"
      ],
      "text/plain": [
       "                 Model  Score\n",
       "0        Decision Tree  100.0\n",
       "1        Random Forest  100.0\n",
       "2  Logistic Regression  100.0"
      ]
     },
     "execution_count": 14,
     "metadata": {},
     "output_type": "execute_result"
    }
   ],
   "source": [
    "# Tabular Representation of model accuracy of Training set\n",
    "models_train = pd.DataFrame({\n",
    "    'Model': ['Decision Tree', 'Random Forest', 'Logistic Regression'],\n",
    "    'Score': [round(accuracy_score(y_train, decision_tree.predict(X_train))*100,2),\n",
    "              round(accuracy_score(y_train, random_forest.predict(X_train))*100,2),\n",
    "              round(accuracy_score(y_train, logreg.predict(X_train))*100,2)]})\n",
    "models_train.sort_values(by='Score', ascending=False)"
   ]
  },
  {
   "cell_type": "markdown",
   "metadata": {},
   "source": [
    "# Summary of various model's accuracies"
   ]
  },
  {
   "cell_type": "code",
   "execution_count": 15,
   "metadata": {},
   "outputs": [
    {
     "data": {
      "text/html": [
       "<div>\n",
       "<style scoped>\n",
       "    .dataframe tbody tr th:only-of-type {\n",
       "        vertical-align: middle;\n",
       "    }\n",
       "\n",
       "    .dataframe tbody tr th {\n",
       "        vertical-align: top;\n",
       "    }\n",
       "\n",
       "    .dataframe thead th {\n",
       "        text-align: right;\n",
       "    }\n",
       "</style>\n",
       "<table border=\"1\" class=\"dataframe\">\n",
       "  <thead>\n",
       "    <tr style=\"text-align: right;\">\n",
       "      <th></th>\n",
       "      <th>Model</th>\n",
       "      <th>Score</th>\n",
       "    </tr>\n",
       "  </thead>\n",
       "  <tbody>\n",
       "    <tr>\n",
       "      <th>2</th>\n",
       "      <td>Logistic Regression</td>\n",
       "      <td>100.00</td>\n",
       "    </tr>\n",
       "    <tr>\n",
       "      <th>0</th>\n",
       "      <td>Decision Tree</td>\n",
       "      <td>97.62</td>\n",
       "    </tr>\n",
       "    <tr>\n",
       "      <th>1</th>\n",
       "      <td>Random Forest</td>\n",
       "      <td>97.62</td>\n",
       "    </tr>\n",
       "  </tbody>\n",
       "</table>\n",
       "</div>"
      ],
      "text/plain": [
       "                 Model   Score\n",
       "2  Logistic Regression  100.00\n",
       "0        Decision Tree   97.62\n",
       "1        Random Forest   97.62"
      ]
     },
     "execution_count": 15,
     "metadata": {},
     "output_type": "execute_result"
    }
   ],
   "source": [
    "# Tabular Representation of model accuracy of Testing set\n",
    "models_test = pd.DataFrame({\n",
    "    'Model': ['Decision Tree', 'Random Forest', 'Logistic Regression'],\n",
    "    'Score': [round(accuracy_score(y_test, Y_predDT) * 100 ,2),\n",
    "              round(accuracy_score(y_test, Y_predRF)*100,2),\n",
    "              round(accuracy_score(y_test, Y_predLR) * 100,2)]})\n",
    "models_test.sort_values(by='Score', ascending=False)"
   ]
  },
  {
   "cell_type": "markdown",
   "metadata": {},
   "source": [
    "# Method 2 : Using Keras"
   ]
  },
  {
   "cell_type": "code",
   "execution_count": 16,
   "metadata": {},
   "outputs": [],
   "source": [
    "#reading the dataset\n",
    "\n",
    "df=pd.read_csv('../Dataset/Training.csv')\n",
    "test_df=pd.read_csv('../Dataset/Testing.csv')\n",
    "#drop unnamed column:133\n",
    "df.drop(\"Unnamed: 133\", axis = 1, inplace = True)"
   ]
  },
  {
   "cell_type": "markdown",
   "metadata": {},
   "source": [
    "# Sequential Model"
   ]
  },
  {
   "cell_type": "code",
   "execution_count": 18,
   "metadata": {},
   "outputs": [],
   "source": [
    "X_train= df.drop('prognosis', axis=1)\n",
    "X_test= test_df.drop('prognosis', axis=1)\n",
    "\n",
    "y_train= np.array(df['prognosis'])\n",
    "y_test= np.array(test_df['prognosis'])"
   ]
  },
  {
   "cell_type": "code",
   "execution_count": 19,
   "metadata": {},
   "outputs": [],
   "source": [
    "y_train_enc= pd.get_dummies(y_train)\n",
    "y_test_enc= pd.get_dummies(y_test)"
   ]
  },
  {
   "cell_type": "code",
   "execution_count": 20,
   "metadata": {},
   "outputs": [],
   "source": [
    "import keras\n",
    "from keras.layers import Dense\n",
    "from keras.models import Sequential\n",
    "from keras.callbacks import EarlyStopping"
   ]
  },
  {
   "cell_type": "code",
   "execution_count": 21,
   "metadata": {},
   "outputs": [
    {
     "name": "stdout",
     "output_type": "stream",
     "text": [
      "^C\n"
     ]
    }
   ],
   "source": [
    "!pip install keras"
   ]
  },
  {
   "cell_type": "code",
   "execution_count": 22,
   "metadata": {},
   "outputs": [
    {
     "name": "stdout",
     "output_type": "stream",
     "text": [
      "Requirement already satisfied: keras in c:\\users\\sukha\\anaconda3\\lib\\site-packages (2.7.0)\n",
      "Requirement already satisfied: tensorflow in c:\\users\\sukha\\anaconda3\\lib\\site-packages (2.7.0)\n",
      "Requirement already satisfied: grpcio<2.0,>=1.24.3 in c:\\users\\sukha\\anaconda3\\lib\\site-packages (from tensorflow) (1.42.0)\n",
      "Requirement already satisfied: opt-einsum>=2.3.2 in c:\\users\\sukha\\anaconda3\\lib\\site-packages (from tensorflow) (3.3.0)\n",
      "Requirement already satisfied: termcolor>=1.1.0 in c:\\users\\sukha\\anaconda3\\lib\\site-packages (from tensorflow) (1.1.0)\n",
      "Requirement already satisfied: tensorflow-estimator<2.8,~=2.7.0rc0 in c:\\users\\sukha\\anaconda3\\lib\\site-packages (from tensorflow) (2.7.0)\n",
      "Requirement already satisfied: numpy>=1.14.5 in c:\\users\\sukha\\anaconda3\\lib\\site-packages (from tensorflow) (1.19.2)\n",
      "Requirement already satisfied: tensorboard~=2.6 in c:\\users\\sukha\\anaconda3\\lib\\site-packages (from tensorflow) (2.7.0)\n",
      "Requirement already satisfied: wrapt>=1.11.0 in c:\\users\\sukha\\anaconda3\\lib\\site-packages (from tensorflow) (1.11.2)\n",
      "Requirement already satisfied: libclang>=9.0.1 in c:\\users\\sukha\\anaconda3\\lib\\site-packages (from tensorflow) (12.0.0)\n",
      "Requirement already satisfied: keras-preprocessing>=1.1.1 in c:\\users\\sukha\\anaconda3\\lib\\site-packages (from tensorflow) (1.1.2)\n",
      "Requirement already satisfied: google-pasta>=0.1.1 in c:\\users\\sukha\\anaconda3\\lib\\site-packages (from tensorflow) (0.2.0)\n",
      "Requirement already satisfied: wheel<1.0,>=0.32.0 in c:\\users\\sukha\\anaconda3\\lib\\site-packages (from tensorflow) (0.35.1)\n",
      "Requirement already satisfied: absl-py>=0.4.0 in c:\\users\\sukha\\anaconda3\\lib\\site-packages (from tensorflow) (1.0.0)\n",
      "Requirement already satisfied: h5py>=2.9.0 in c:\\users\\sukha\\anaconda3\\lib\\site-packages (from tensorflow) (2.10.0)\n",
      "Requirement already satisfied: protobuf>=3.9.2 in c:\\users\\sukha\\anaconda3\\lib\\site-packages (from tensorflow) (3.19.1)\n",
      "Requirement already satisfied: typing-extensions>=3.6.6 in c:\\users\\sukha\\anaconda3\\lib\\site-packages (from tensorflow) (3.7.4.3)\n",
      "Requirement already satisfied: tensorflow-io-gcs-filesystem>=0.21.0 in c:\\users\\sukha\\anaconda3\\lib\\site-packages (from tensorflow) (0.22.0)\n",
      "Requirement already satisfied: gast<0.5.0,>=0.2.1 in c:\\users\\sukha\\anaconda3\\lib\\site-packages (from tensorflow) (0.4.0)\n",
      "Requirement already satisfied: keras<2.8,>=2.7.0rc0 in c:\\users\\sukha\\anaconda3\\lib\\site-packages (from tensorflow) (2.7.0)\n",
      "Requirement already satisfied: six>=1.12.0 in c:\\users\\sukha\\anaconda3\\lib\\site-packages (from tensorflow) (1.15.0)\n",
      "Requirement already satisfied: astunparse>=1.6.0 in c:\\users\\sukha\\anaconda3\\lib\\site-packages (from tensorflow) (1.6.3)\n",
      "Requirement already satisfied: flatbuffers<3.0,>=1.12 in c:\\users\\sukha\\anaconda3\\lib\\site-packages (from tensorflow) (2.0)\n",
      "Requirement already satisfied: tensorboard-plugin-wit>=1.6.0 in c:\\users\\sukha\\anaconda3\\lib\\site-packages (from tensorboard~=2.6->tensorflow) (1.8.0)\n",
      "Requirement already satisfied: tensorboard-data-server<0.7.0,>=0.6.0 in c:\\users\\sukha\\anaconda3\\lib\\site-packages (from tensorboard~=2.6->tensorflow) (0.6.1)\n",
      "Requirement already satisfied: google-auth-oauthlib<0.5,>=0.4.1 in c:\\users\\sukha\\anaconda3\\lib\\site-packages (from tensorboard~=2.6->tensorflow) (0.4.6)\n",
      "Requirement already satisfied: setuptools>=41.0.0 in c:\\users\\sukha\\anaconda3\\lib\\site-packages (from tensorboard~=2.6->tensorflow) (50.3.1.post20201107)\n",
      "Requirement already satisfied: werkzeug>=0.11.15 in c:\\users\\sukha\\anaconda3\\lib\\site-packages (from tensorboard~=2.6->tensorflow) (1.0.1)\n",
      "Requirement already satisfied: google-auth<3,>=1.6.3 in c:\\users\\sukha\\anaconda3\\lib\\site-packages (from tensorboard~=2.6->tensorflow) (2.3.3)\n",
      "Requirement already satisfied: markdown>=2.6.8 in c:\\users\\sukha\\anaconda3\\lib\\site-packages (from tensorboard~=2.6->tensorflow) (3.3.6)\n",
      "Requirement already satisfied: requests<3,>=2.21.0 in c:\\users\\sukha\\anaconda3\\lib\\site-packages (from tensorboard~=2.6->tensorflow) (2.24.0)\n",
      "Requirement already satisfied: requests-oauthlib>=0.7.0 in c:\\users\\sukha\\anaconda3\\lib\\site-packages (from google-auth-oauthlib<0.5,>=0.4.1->tensorboard~=2.6->tensorflow) (1.3.0)\n",
      "Requirement already satisfied: pyasn1-modules>=0.2.1 in c:\\users\\sukha\\anaconda3\\lib\\site-packages (from google-auth<3,>=1.6.3->tensorboard~=2.6->tensorflow) (0.2.8)\n",
      "Requirement already satisfied: rsa<5,>=3.1.4; python_version >= \"3.6\" in c:\\users\\sukha\\anaconda3\\lib\\site-packages (from google-auth<3,>=1.6.3->tensorboard~=2.6->tensorflow) (4.7.2)\n",
      "Requirement already satisfied: cachetools<5.0,>=2.0.0 in c:\\users\\sukha\\anaconda3\\lib\\site-packages (from google-auth<3,>=1.6.3->tensorboard~=2.6->tensorflow) (4.2.4)\n",
      "Requirement already satisfied: importlib-metadata>=4.4; python_version < \"3.10\" in c:\\users\\sukha\\anaconda3\\lib\\site-packages (from markdown>=2.6.8->tensorboard~=2.6->tensorflow) (4.8.2)\n",
      "Requirement already satisfied: chardet<4,>=3.0.2 in c:\\users\\sukha\\anaconda3\\lib\\site-packages (from requests<3,>=2.21.0->tensorboard~=2.6->tensorflow) (3.0.4)\n",
      "Requirement already satisfied: idna<3,>=2.5 in c:\\users\\sukha\\anaconda3\\lib\\site-packages (from requests<3,>=2.21.0->tensorboard~=2.6->tensorflow) (2.10)\n",
      "Requirement already satisfied: certifi>=2017.4.17 in c:\\users\\sukha\\anaconda3\\lib\\site-packages (from requests<3,>=2.21.0->tensorboard~=2.6->tensorflow) (2020.6.20)\n",
      "Requirement already satisfied: urllib3!=1.25.0,!=1.25.1,<1.26,>=1.21.1 in c:\\users\\sukha\\anaconda3\\lib\\site-packages (from requests<3,>=2.21.0->tensorboard~=2.6->tensorflow) (1.25.11)\n",
      "Requirement already satisfied: oauthlib>=3.0.0 in c:\\users\\sukha\\anaconda3\\lib\\site-packages (from requests-oauthlib>=0.7.0->google-auth-oauthlib<0.5,>=0.4.1->tensorboard~=2.6->tensorflow) (3.1.1)\n",
      "Requirement already satisfied: pyasn1<0.5.0,>=0.4.6 in c:\\users\\sukha\\anaconda3\\lib\\site-packages (from pyasn1-modules>=0.2.1->google-auth<3,>=1.6.3->tensorboard~=2.6->tensorflow) (0.4.8)\n",
      "Requirement already satisfied: zipp>=0.5 in c:\\users\\sukha\\anaconda3\\lib\\site-packages (from importlib-metadata>=4.4; python_version < \"3.10\"->markdown>=2.6.8->tensorboard~=2.6->tensorflow) (3.4.0)\n"
     ]
    }
   ],
   "source": [
    "!pip install tensorflow"
   ]
  },
  {
   "cell_type": "code",
   "execution_count": 23,
   "metadata": {},
   "outputs": [
    {
     "name": "stdout",
     "output_type": "stream",
     "text": [
      "2.7.0\n"
     ]
    }
   ],
   "source": [
    "print(keras.__version__)\n"
   ]
  },
  {
   "cell_type": "code",
   "execution_count": 24,
   "metadata": {},
   "outputs": [
    {
     "name": "stdout",
     "output_type": "stream",
     "text": [
      "2.7.0\n"
     ]
    }
   ],
   "source": [
    "import tensorflow\n",
    "print(tensorflow.__version__)"
   ]
  },
  {
   "cell_type": "code",
   "execution_count": 25,
   "metadata": {},
   "outputs": [],
   "source": [
    "#creating sequential model\n",
    "\n",
    "model= Sequential()\n",
    "model.add(Dense(64, activation='relu', input_shape= (X_train.shape[1], )))\n",
    "model.add(Dense(32, activation='relu'))\n",
    "model.add(Dense(16, activation='relu'))\n",
    "model.add(Dense(y_train_enc.shape[1], activation='softmax'))"
   ]
  },
  {
   "cell_type": "code",
   "execution_count": 26,
   "metadata": {},
   "outputs": [
    {
     "name": "stdout",
     "output_type": "stream",
     "text": [
      "Model: \"sequential\"\n",
      "_________________________________________________________________\n",
      " Layer (type)                Output Shape              Param #   \n",
      "=================================================================\n",
      " dense (Dense)               (None, 64)                8512      \n",
      "                                                                 \n",
      " dense_1 (Dense)             (None, 32)                2080      \n",
      "                                                                 \n",
      " dense_2 (Dense)             (None, 16)                528       \n",
      "                                                                 \n",
      " dense_3 (Dense)             (None, 41)                697       \n",
      "                                                                 \n",
      "=================================================================\n",
      "Total params: 11,817\n",
      "Trainable params: 11,817\n",
      "Non-trainable params: 0\n",
      "_________________________________________________________________\n"
     ]
    }
   ],
   "source": [
    "model.summary()"
   ]
  },
  {
   "cell_type": "code",
   "execution_count": 27,
   "metadata": {},
   "outputs": [],
   "source": [
    "model.compile('adam', loss='categorical_crossentropy', metrics=['accuracy'])"
   ]
  },
  {
   "cell_type": "code",
   "execution_count": 28,
   "metadata": {},
   "outputs": [
    {
     "name": "stdout",
     "output_type": "stream",
     "text": [
      "Epoch 1/30\n",
      "29/29 [==============================] - 1s 12ms/step - loss: 3.5904 - accuracy: 0.1039 - val_loss: 3.4055 - val_accuracy: 0.2683\n",
      "Epoch 2/30\n",
      "29/29 [==============================] - 0s 4ms/step - loss: 3.1870 - accuracy: 0.2959 - val_loss: 2.7773 - val_accuracy: 0.4390\n",
      "Epoch 3/30\n",
      "29/29 [==============================] - 0s 3ms/step - loss: 2.4419 - accuracy: 0.4971 - val_loss: 1.8530 - val_accuracy: 0.7317\n",
      "Epoch 4/30\n",
      "29/29 [==============================] - 0s 3ms/step - loss: 1.5205 - accuracy: 0.7805 - val_loss: 0.9339 - val_accuracy: 0.9512\n",
      "Epoch 5/30\n",
      "29/29 [==============================] - 0s 3ms/step - loss: 0.7231 - accuracy: 0.9646 - val_loss: 0.3194 - val_accuracy: 0.9756\n",
      "Epoch 6/30\n",
      "29/29 [==============================] - 0s 3ms/step - loss: 0.2480 - accuracy: 0.9866 - val_loss: 0.0809 - val_accuracy: 1.0000\n",
      "Epoch 7/30\n",
      "29/29 [==============================] - 0s 4ms/step - loss: 0.0882 - accuracy: 1.0000 - val_loss: 0.0298 - val_accuracy: 1.0000\n",
      "Epoch 8/30\n",
      "29/29 [==============================] - 0s 5ms/step - loss: 0.0444 - accuracy: 1.0000 - val_loss: 0.0159 - val_accuracy: 1.0000\n"
     ]
    },
    {
     "data": {
      "text/plain": [
       "<keras.callbacks.History at 0x1d5fab31760>"
      ]
     },
     "execution_count": 28,
     "metadata": {},
     "output_type": "execute_result"
    }
   ],
   "source": [
    "early_stopping_monitor= EarlyStopping(patience=2, monitor='val_accuracy')\n",
    "model.fit(X_train, y_train_enc, batch_size=120, epochs=30, validation_split=0.3, callbacks=[early_stopping_monitor])"
   ]
  },
  {
   "cell_type": "code",
   "execution_count": 29,
   "metadata": {},
   "outputs": [
    {
     "name": "stdout",
     "output_type": "stream",
     "text": [
      "5/5 [==============================] - 0s 2ms/step - loss: 0.0373 - accuracy: 1.0000\n"
     ]
    },
    {
     "data": {
      "text/plain": [
       "[0.03729047626256943, 1.0]"
      ]
     },
     "execution_count": 29,
     "metadata": {},
     "output_type": "execute_result"
    }
   ],
   "source": [
    "model.evaluate(X_test, y_test_enc, batch_size=1, steps=5)"
   ]
  },
  {
   "cell_type": "markdown",
   "metadata": {},
   "source": [
    "# Saving the Sequential model"
   ]
  },
  {
   "cell_type": "code",
   "execution_count": 30,
   "metadata": {},
   "outputs": [],
   "source": [
    "# save model\n",
    "model.save('disease_model.h5')\n",
    "\n",
    "# # load model\n",
    "# my_new_model = keras.models.load_model('disease_model.h5')"
   ]
  },
  {
   "cell_type": "markdown",
   "metadata": {},
   "source": [
    "# Obtaining predictions"
   ]
  },
  {
   "cell_type": "code",
   "execution_count": 115,
   "metadata": {},
   "outputs": [],
   "source": [
    "import copy\n",
    "\n",
    "# create test for prediction\n",
    "SYMPTOMS = {'itching': {0: 0}, 'skin_rash': {0: 0}, 'nodal_skin_eruptions': {0: 0}, 'continuous_sneezing': {0: 0}, 'shivering': {0: 0}, 'chills': {0: 0}, 'joint_pain': {0: 0}, 'stomach_pain': {0: 0}, 'acidity': {0: 0}, 'ulcers_on_tongue': {0: 0}, 'muscle_wasting': {0: 0}, 'vomiting': {0: 0}, 'burning_micturition': {0: 0}, 'spotting_ urination': {0: 0}, 'fatigue': {0: 0}, 'weight_gain': {0: 0}, 'anxiety': {0: 0}, 'cold_hands_and_feets': {0: 0}, 'mood_swings': {0: 0}, 'weight_loss': {0: 0}, 'restlessness': {0: 0}, 'lethargy': {0: 0}, 'patches_in_throat': {0: 0}, 'irregular_sugar_level': {0: 0}, 'cough': {0: 0}, 'high_fever': {0: 0}, 'sunken_eyes': {0: 0}, 'breathlessness': {0: 0}, 'sweating': {0: 0}, 'dehydration': {0: 0}, 'indigestion': {0: 0}, 'headache': {0: 0}, 'yellowish_skin': {0: 0}, 'dark_urine': {0: 0}, 'nausea': {0: 0}, 'loss_of_appetite': {0: 0}, 'pain_behind_the_eyes': {0: 0}, 'back_pain': {0: 0}, 'constipation': {0: 0}, 'abdominal_pain': {0: 0}, 'diarrhoea': {0: 0}, 'mild_fever': {0: 0}, 'yellow_urine': {0: 0}, 'yellowing_of_eyes': {0: 0}, 'acute_liver_failure': {0: 0}, 'fluid_overload': {0: 0}, 'swelling_of_stomach': {0: 0}, 'swelled_lymph_nodes': {0: 0}, 'malaise': {0: 0}, 'blurred_and_distorted_vision': {0: 0}, 'phlegm': {0: 0}, 'throat_irritation': {0: 0}, 'redness_of_eyes': {0: 0}, 'sinus_pressure': {0: 0}, 'runny_nose': {0: 0}, 'congestion': {0: 0}, 'chest_pain': {0: 0}, 'weakness_in_limbs': {0: 0}, 'fast_heart_rate': {0: 0}, 'pain_during_bowel_movements': {0: 0}, 'pain_in_anal_region': {0: 0}, 'bloody_stool': {0: 0}, 'irritation_in_anus': {0: 0}, 'neck_pain': {0: 0}, 'dizziness': {0: 0}, 'cramps': {0: 0}, 'bruising': {0: 0}, 'obesity': {0: 0}, 'swollen_legs': {0: 0}, 'swollen_blood_vessels': {0: 0}, 'puffy_face_and_eyes': {0: 0}, 'enlarged_thyroid': {0: 0}, 'brittle_nails': {0: 0}, 'swollen_extremeties': {0: 0}, 'excessive_hunger': {0: 0}, 'extra_marital_contacts': {0: 0}, 'drying_and_tingling_lips': {0: 0}, 'slurred_speech': {0: 0}, 'knee_pain': {0: 0}, 'hip_joint_pain': {0: 0}, 'muscle_weakness': {0: 0}, 'stiff_neck': {0: 0}, 'swelling_joints': {0: 0}, 'movement_stiffness': {0: 0}, 'spinning_movements': {0: 0}, 'loss_of_balance': {0: 0}, 'unsteadiness': {0: 0}, 'weakness_of_one_body_side': {0: 0}, 'loss_of_smell': {0: 0}, 'bladder_discomfort': {0: 0}, 'foul_smell_of urine': {0: 0}, 'continuous_feel_of_urine': {0: 0}, 'passage_of_gases': {0: 0}, 'internal_itching': {0: 0}, 'toxic_look_(typhos)': {0: 0}, 'depression': {0: 0}, 'irritability': {0: 0}, 'muscle_pain': {0: 0}, 'altered_sensorium': {0: 0}, 'red_spots_over_body': {0: 0}, 'belly_pain': {0: 0}, 'abnormal_menstruation': {0: 0}, 'dischromic _patches': {0: 0}, 'watering_from_eyes': {0: 0}, 'increased_appetite': {0: 0}, 'polyuria': {0: 0}, 'family_history': {0: 0}, 'mucoid_sputum': {0: 0}, 'rusty_sputum': {0: 0}, 'lack_of_concentration': {0: 0}, 'visual_disturbances': {0: 0}, 'receiving_blood_transfusion': {0: 0}, 'receiving_unsterile_injections': {0: 0}, 'coma': {0: 0}, 'stomach_bleeding': {0: 0}, 'distention_of_abdomen': {0: 0}, 'history_of_alcohol_consumption': {0: 0}, 'fluid_overload.1': {0: 0}, 'blood_in_sputum': {0: 0}, 'prominent_veins_on_calf': {0: 0}, 'palpitations': {0: 0}, 'painful_walking': {0: 0}, 'pus_filled_pimples': {0: 0}, 'blackheads': {0: 0}, 'scurring': {0: 0}, 'skin_peeling': {0: 0}, 'silver_like_dusting': {0: 0}, 'small_dents_in_nails': {0: 0}, 'inflammatory_nails': {0: 0}, 'blister': {0: 0}, 'red_sore_around_nose': {0: 0}, 'yellow_crust_ooze': {0: 0}}\n",
    "\n",
    "LABELS = ['(vertigo) Paroymsal  Positional Vertigo', 'AIDS', 'Acne', 'Alcoholic hepatitis', 'Allergy', 'Arthritis', 'Bronchial Asthma', 'Cervical spondylosis', 'Chicken pox', 'Chronic cholestasis', 'Common Cold', 'Dengue', 'Diabetes ', 'Dimorphic hemmorhoids(piles)', 'Drug Reaction', 'Fungal infection', 'GERD', 'Gastroenteritis', 'Heart attack', 'Hepatitis B', 'Hepatitis C', 'Hepatitis D', 'Hepatitis E', 'Hypertension ', 'Hyperthyroidism', 'Hypoglycemia', 'Hypothyroidism', 'Impetigo', 'Jaundice', 'Malaria', 'Migraine', 'Osteoarthristis', 'Paralysis (brain hemorrhage)', 'Peptic ulcer diseae', 'Pneumonia', 'Psoriasis', 'Tuberculosis', 'Typhoid', 'Urinary tract infection', 'Varicose veins', 'hepatitis A']\n",
    "\n",
    "\n",
    "DISEASE_MODEL = keras.models.load_model('disease_model.h5')\n",
    "\n",
    "def get_symp_pd(symptoms_list):\n",
    "    s_dict = copy.deepcopy(SYMPTOMS)\n",
    "    for symp in symptoms_list:\n",
    "        if symp in s_dict:\n",
    "            s_dict.get(symp)[0] = 1\n",
    "    # convert symptoms to pandas data frame\n",
    "    s_dict = pd.DataFrame(s_dict)\n",
    "    \n",
    "    return s_dict\n",
    "\n",
    "def get_disease_name(symptoms_list):\n",
    "    symptoms_list = get_symp_pd(symptoms_list)\n",
    "    y_prob = DISEASE_MODEL.predict(symptoms_list) \n",
    "#     print(y_prob)\n",
    "\n",
    "#     print(\"Where:\",np.where(y_prob[0]==max(y_prob[0])))\n",
    "#     print(LABELS[14])\n",
    "#     print(\"\\nMax probability: \",max(y_prob[0]))\n",
    "  \n",
    "    sorted_index_array=np.argsort(y_prob[0])\n",
    "\n",
    "    sorted_array=y_prob[0][sorted_index_array]\n",
    "\n",
    "#     print(\"Sorted array:\", sorted_array)\n",
    "\n",
    "    n=5 \n",
    "    rslt=sorted_array[-n: ]\n",
    "#     print(rslt)\n",
    "#     for i in range(len(rslt)):\n",
    "#         x=np.where(y_prob[0]==rslt[i])\n",
    "#         print(LABELS[x[0][0]])\n",
    "\n",
    "    y_classes = y_prob.argmax(axis=-1)\n",
    "\n",
    "    return LABELS[y_prob[0].argmax(axis=-1)],rslt,y_prob"
   ]
  },
  {
   "cell_type": "markdown",
   "metadata": {},
   "source": [
    "# Testing model on sample inputs"
   ]
  },
  {
   "cell_type": "code",
   "execution_count": 148,
   "metadata": {},
   "outputs": [
    {
     "name": "stdout",
     "output_type": "stream",
     "text": [
      "\n",
      "\n",
      " 1 . For symptoms ['itching', 'skin_rash']\n",
      "\n",
      "Disease predicted: \n",
      "Drug Reaction\n",
      "\n",
      "Top 5 disease predictions:\n",
      "1 . Drug Reaction , probability: 50.49 %\n",
      "2 . Fungal infection , probability: 33.02 %\n",
      "3 . Acne , probability: 6.68 %\n",
      "4 . Alcoholic hepatitis , probability: 5.76 %\n",
      "5 . Heart attack , probability: 4.04 %\n",
      "\n",
      "\n",
      " 2 . For symptoms ['itching', 'skin_rash', 'fatigue']\n",
      "\n",
      "Disease predicted: \n",
      "Drug Reaction\n",
      "\n",
      "Top 5 disease predictions:\n",
      "1 . Drug Reaction , probability: 35.53 %\n",
      "2 . Impetigo , probability: 20.83 %\n",
      "3 . Pneumonia , probability: 17.99 %\n",
      "4 . Chicken pox , probability: 16.06 %\n",
      "5 . Acne , probability: 9.59 %\n",
      "\n",
      "\n",
      " 3 . For symptoms ['sweating', 'chest_pain']\n",
      "\n",
      "Disease predicted: \n",
      "Heart attack\n",
      "\n",
      "Top 5 disease predictions:\n",
      "1 . Heart attack , probability: 92.33 %\n",
      "2 . Hepatitis E , probability: 2.43 %\n",
      "3 . Acne , probability: 1.9 %\n",
      "4 . Tuberculosis , probability: 1.81 %\n",
      "5 . Chronic cholestasis , probability: 1.54 %\n",
      "\n",
      "\n",
      " 4 . For symptoms ['shivering', 'chills', 'watering_from_eyes']\n",
      "\n",
      "Disease predicted: \n",
      "Allergy\n",
      "\n",
      "Top 5 disease predictions:\n",
      "1 . Allergy , probability: 97.05 %\n",
      "2 . Impetigo , probability: 0.83 %\n",
      "3 . Hepatitis C , probability: 0.82 %\n",
      "4 . Typhoid , probability: 0.75 %\n",
      "5 . Pneumonia , probability: 0.56 %\n",
      "\n",
      "\n",
      " 5 . For symptoms ['weight_loss', 'high_fever', 'yellowish_skin']\n",
      "\n",
      "Disease predicted: \n",
      "Jaundice\n",
      "\n",
      "Top 5 disease predictions:\n",
      "1 . Jaundice , probability: 69.46 %\n",
      "2 . Malaria , probability: 12.1 %\n",
      "3 . Pneumonia , probability: 7.52 %\n",
      "4 . Chronic cholestasis , probability: 5.74 %\n",
      "5 . Hepatitis D , probability: 5.17 %\n",
      "\n",
      "\n",
      " 6 . For symptoms ['skin_rash', 'chills', 'joint_pain', 'pain_behind_the_eyes', 'red_spots_over_body']\n",
      "\n",
      "Disease predicted: \n",
      "Dengue\n",
      "\n",
      "Top 5 disease predictions:\n",
      "1 . Dengue , probability: 57.32 %\n",
      "2 . Urinary tract infection , probability: 37.03 %\n",
      "3 . Psoriasis , probability: 2.19 %\n",
      "4 . Acne , probability: 1.94 %\n",
      "5 . Tuberculosis , probability: 1.52 %\n",
      "\n",
      "\n",
      " 7 . For symptoms ['skin_rash', 'pus_filled_pimples']\n",
      "\n",
      "Disease predicted: \n",
      "Acne\n",
      "\n",
      "Top 5 disease predictions:\n",
      "1 . Acne , probability: 85.46 %\n",
      "2 . Tuberculosis , probability: 4.57 %\n",
      "3 . Drug Reaction , probability: 4.44 %\n",
      "4 . Pneumonia , probability: 3.18 %\n",
      "5 . Heart attack , probability: 2.34 %\n"
     ]
    }
   ],
   "source": [
    "#sample symptoms input\n",
    "symp_disease = [\n",
    "    [['itching', 'skin_rash'], ''],\n",
    "    [['itching', 'skin_rash', 'fatigue'], ''],\n",
    "    [['sweating', 'chest_pain'], ''],\n",
    "    [['shivering', 'chills', 'watering_from_eyes'], ''],\n",
    "    [['weight_loss', 'high_fever', 'yellowish_skin'], ''],\n",
    "    [['skin_rash', 'chills', 'joint_pain', 'pain_behind_the_eyes', 'red_spots_over_body'], ''],\n",
    "    [['skin_rash', 'pus_filled_pimples'], ''],\n",
    "]\n",
    "\n",
    "for i in range(len(symp_disease)):\n",
    "    if (len(symp_disease[i][0]) != 0):\n",
    "        d_name,res,y_pro = get_disease_name(symp_disease[i][0])\n",
    "        \n",
    "        print(\"\\n\\n\",i+1,\". For symptoms \" + str(symp_disease[i][0]))\n",
    "        print(\"\\nDisease predicted: \")\n",
    "        print(d_name)\n",
    "        \n",
    "        print(\"\\nTop 5 disease predictions:\")\n",
    "        summ=sum(res)\n",
    "        for i in range(len(res)):\n",
    "            x=np.where(y_pro[0]==res[len(res)-i-1])\n",
    "            print(i+1,'.',LABELS[x[0][0]],\", probability:\",round((res[len(res)-i-1]/summ)*100,2),\"%\")\n",
    "        "
   ]
  },
  {
   "cell_type": "code",
   "execution_count": 61,
   "metadata": {},
   "outputs": [],
   "source": [
    "# intents = {'symptoms': []}\n",
    "\n",
    "# dic = {'name': '','patterns': ['']}\n",
    "\n",
    "# for lbl in list(SYMPTOMS.keys()):\n",
    "#     d = copy.deepcopy(dic)\n",
    "#     d['name'] = lbl\n",
    "#     d['patterns'] = [lbl, ]\n",
    "#     intents['symptoms'].append(d)\n",
    "    \n",
    "# import json\n",
    "\n",
    "# # Serializing json   \n",
    "# json_object = json.dumps(intents, indent = 4)  \n",
    "# # print(json_object) "
   ]
  },
  {
   "cell_type": "code",
   "execution_count": 100,
   "metadata": {
    "scrolled": true
   },
   "outputs": [],
   "source": [
    "# SYMPTOMS_PATTERNS = intents\n",
    "\n",
    "# def gen_symp_list(symp_str):\n",
    "#     symp_list = []\n",
    "#     symp_labels = list(SYMPTOMS.keys())\n",
    "\n",
    "#     symp_pat = copy.deepcopy(SYMPTOMS_PATTERNS)\n",
    "\n",
    "#     for symp in symp_pat['symptoms']:\n",
    "#         for pattern in symp['patterns']:\n",
    "#             if pattern in symp_str:\n",
    "#                 print(symp['name'])\n",
    "#                 symp_list.append(symp['name'])\n",
    "#                 break\n",
    "\n",
    "#     return symp_list\n",
    "\n",
    "# l = gen_symp_list('headache shivering pain_behind_the_eyes')\n",
    "\n",
    "# print(l)"
   ]
  },
  {
   "cell_type": "code",
   "execution_count": null,
   "metadata": {},
   "outputs": [],
   "source": []
  },
  {
   "cell_type": "code",
   "execution_count": null,
   "metadata": {},
   "outputs": [],
   "source": []
  }
 ],
 "metadata": {
  "kernelspec": {
   "display_name": "Python 3",
   "language": "python",
   "name": "python3"
  },
  "language_info": {
   "codemirror_mode": {
    "name": "ipython",
    "version": 3
   },
   "file_extension": ".py",
   "mimetype": "text/x-python",
   "name": "python",
   "nbconvert_exporter": "python",
   "pygments_lexer": "ipython3",
   "version": "3.8.5"
  }
 },
 "nbformat": 4,
 "nbformat_minor": 4
}
